{
 "cells": [
  {
   "attachments": {},
   "cell_type": "markdown",
   "metadata": {},
   "source": [
    "# Statistics on the output data. "
   ]
  },
  {
   "cell_type": "markdown",
   "metadata": {},
   "source": [
    "### Loading data from the sqlite database to the dataframes"
   ]
  },
  {
   "cell_type": "code",
   "execution_count": 1,
   "metadata": {},
   "outputs": [],
   "source": [
    "import pandas as pd\n",
    "import matplotlib.pyplot as plt\n",
    "import seaborn as sns\n",
    "import plotly.express as px\n",
    "import lizard\n",
    "import subprocess as sub\n",
    "from pylibsrcml import srcml\n",
    "import os\n",
    "import re \n",
    "import xml.etree.ElementTree as et \n",
    "import warnings\n",
    "from sqlite3 import connect\n",
    "from argparse import ArgumentParser\n",
    "from configparser import ConfigParser\n",
    "import yaml\n",
    "from pathlib import Path\n",
    "import random\n",
    "from tabulate import tabulate\n",
    "\n",
    "warnings.filterwarnings(\"ignore\")\n",
    "fig_dir = Path('figure').mkdir(parents=True, exist_ok=True)\n",
    "fig_dir = Path('figure')\n",
    "result_dir = Path('result').mkdir(parents=True, exist_ok=True)\n",
    "result_dir = Path('result')\n",
    "\n",
    "database = \"/Users/guru/research/VulnMiner/data/VulnMinerV1.db\"\n",
    "conn= connect(database)\n",
    "random.seed(0)"
   ]
  },
  {
   "cell_type": "code",
   "execution_count": 2,
   "metadata": {},
   "outputs": [
    {
     "data": {
      "text/plain": [
       "Index(['file', 'line', 'column', 'defaultlevel', 'level', 'category', 'name',\n",
       "       'msg', 'note', 'cwe', 'context', 'helpuri', 'severity', 'tool', 'type',\n",
       "       'project'],\n",
       "      dtype='object')"
      ]
     },
     "execution_count": 2,
     "metadata": {},
     "output_type": "execute_result"
    }
   ],
   "source": [
    "dfp = pd.read_sql_query(\"SELECT * FROM project\", con=conn)\n",
    "dfs = pd.read_sql_query(\"SELECT * FROM statement\", con=conn)\n",
    "dff = pd.read_sql_query(\"SELECT * FROM function\", con=conn)\n",
    "dfs.columns"
   ]
  },
  {
   "cell_type": "markdown",
   "metadata": {},
   "source": [
    "### Plotting subburset plot from the frequency of category, name and cwe types. "
   ]
  },
  {
   "cell_type": "code",
   "execution_count": 3,
   "metadata": {},
   "outputs": [
    {
     "data": {
      "application/vnd.plotly.v1+json": {
       "config": {
        "plotlyServerURL": "https://plot.ly"
       },
       "data": [
        {
         "branchvalues": "total",
         "customdata": [
          [
           100
          ],
          [
           22051
          ],
          [
           252
          ],
          [
           6
          ],
          [
           35
          ],
          [
           4226
          ],
          [
           1
          ],
          [
           3
          ],
          [
           15
          ],
          [
           2
          ],
          [
           5
          ],
          [
           5
          ],
          [
           1
          ],
          [
           1
          ],
          [
           29198
          ],
          [
           1
          ],
          [
           6470
          ],
          [
           26
          ],
          [
           695
          ],
          [
           2756
          ],
          [
           135
          ],
          [
           1111
          ],
          [
           1
          ],
          [
           8
          ],
          [
           23
          ],
          [
           1
          ],
          [
           12
          ],
          [
           53
          ],
          [
           11
          ],
          [
           26
          ],
          [
           22
          ],
          [
           20
          ],
          [
           28
          ],
          [
           8
          ],
          [
           7
          ],
          [
           3015
          ],
          [
           9
          ],
          [
           53
          ],
          [
           3
          ],
          [
           3
          ],
          [
           8
          ],
          [
           87
          ],
          [
           2
          ],
          [
           239
          ],
          [
           5
          ],
          [
           58
          ],
          [
           8947
          ],
          [
           120
          ],
          [
           2
          ],
          [
           4
          ],
          [
           1
          ],
          [
           228
          ],
          [
           1015
          ],
          [
           315
          ],
          [
           238
          ],
          [
           20
          ],
          [
           13
          ],
          [
           101
          ],
          [
           1
          ],
          [
           29
          ],
          [
           281
          ],
          [
           40
          ],
          [
           4
          ],
          [
           1
          ],
          [
           16
          ],
          [
           1465
          ],
          [
           120
          ],
          [
           1526
          ],
          [
           1
          ],
          [
           2
          ],
          [
           7
          ],
          [
           3
          ],
          [
           2
          ],
          [
           2
          ],
          [
           2
          ],
          [
           2
          ],
          [
           2
          ],
          [
           2
          ],
          [
           2
          ],
          [
           207
          ],
          [
           1
          ],
          [
           2
          ],
          [
           1
          ],
          [
           4
          ],
          [
           3
          ],
          [
           5
          ],
          [
           4
          ],
          [
           1
          ],
          [
           6
          ],
          [
           637
          ],
          [
           9
          ],
          [
           66
          ],
          [
           15
          ],
          [
           59
          ],
          [
           19
          ],
          [
           789
          ],
          [
           2072
          ],
          [
           11
          ],
          [
           61
          ],
          [
           1224
          ],
          [
           16
          ],
          [
           5
          ],
          [
           31
          ],
          [
           2
          ],
          [
           6
          ],
          [
           48
          ],
          [
           3
          ],
          [
           24
          ],
          [
           2
          ],
          [
           29
          ],
          [
           12
          ],
          [
           6
          ],
          [
           1
          ],
          [
           82
          ],
          [
           26
          ],
          [
           6
          ],
          [
           1554
          ],
          [
           55
          ],
          [
           282
          ],
          [
           30
          ],
          [
           66
          ],
          [
           14
          ],
          [
           147
          ],
          [
           72
          ],
          [
           150
          ],
          [
           496
          ],
          [
           1
          ],
          [
           18
          ],
          [
           1
          ],
          [
           1
          ],
          [
           4
          ],
          [
           23
          ],
          [
           10
          ],
          [
           4
          ],
          [
           13
          ],
          [
           7
          ],
          [
           27
          ],
          [
           5
          ],
          [
           139
          ],
          [
           3
          ],
          [
           68
          ],
          [
           20
          ],
          [
           1
          ],
          [
           2
          ],
          [
           99
          ],
          [
           131
          ],
          [
           9
          ],
          [
           2
          ],
          [
           31
          ],
          [
           4
          ],
          [
           2
          ],
          [
           11
          ],
          [
           3
          ],
          [
           1
          ],
          [
           18
          ],
          [
           7
          ],
          [
           20
          ],
          [
           31
          ],
          [
           38
          ],
          [
           29
          ],
          [
           374
          ],
          [
           8
          ],
          [
           5
          ],
          [
           33
          ],
          [
           91
          ],
          [
           3
          ],
          [
           2
          ],
          [
           3
          ],
          [
           6
          ],
          [
           604
          ],
          [
           2
          ],
          [
           75
          ],
          [
           2
          ],
          [
           5
          ],
          [
           139
          ],
          [
           4
          ],
          [
           18
          ],
          [
           24
          ],
          [
           1580
          ],
          [
           624
          ],
          [
           2
          ],
          [
           1
          ],
          [
           6
          ],
          [
           3
          ],
          [
           2
          ],
          [
           2
          ],
          [
           2
          ],
          [
           2
          ],
          [
           2
          ],
          [
           2
          ],
          [
           2
          ],
          [
           5
          ],
          [
           2
          ],
          [
           75
          ],
          [
           2
          ],
          [
           35
          ],
          [
           3
          ],
          [
           4226
          ],
          [
           100
          ],
          [
           1
          ],
          [
           2
          ],
          [
           4
          ],
          [
           1
          ],
          [
           3
          ],
          [
           15
          ],
          [
           2
          ],
          [
           2
          ],
          [
           1
          ],
          [
           16
          ],
          [
           1224
          ],
          [
           91
          ],
          [
           1
          ],
          [
           1465
          ],
          [
           120
          ],
          [
           30
          ],
          [
           5
          ],
          [
           3
          ],
          [
           22051
          ],
          [
           59
          ],
          [
           19
          ],
          [
           7
          ],
          [
           496
          ],
          [
           24
          ],
          [
           2
          ],
          [
           5
          ],
          [
           207
          ],
          [
           1
          ],
          [
           8
          ],
          [
           55
          ],
          [
           82
          ],
          [
           66
          ],
          [
           14
          ],
          [
           147
          ],
          [
           1
          ],
          [
           2
          ],
          [
           6
          ],
          [
           239
          ],
          [
           2
          ],
          [
           4
          ],
          [
           18
          ],
          [
           7
          ],
          [
           20
          ],
          [
           31
          ],
          [
           38
          ],
          [
           53
          ],
          [
           789
          ],
          [
           228
          ],
          [
           9.125
          ],
          [
           3
          ],
          [
           6
          ],
          [
           1
          ],
          [
           4
          ],
          [
           3
          ],
          [
           5
          ],
          [
           26
          ],
          [
           22
          ],
          [
           604
          ],
          [
           2
          ],
          [
           20
          ],
          [
           28
          ],
          [
           3
          ],
          [
           8
          ],
          [
           7
          ],
          [
           1526
          ],
          [
           139
          ],
          [
           23
          ],
          [
           18
          ],
          [
           1
          ],
          [
           72
          ],
          [
           1
          ],
          [
           5
          ],
          [
           4
          ],
          [
           2
          ],
          [
           1
          ],
          [
           1
          ],
          [
           1
          ],
          [
           27
          ],
          [
           29198
          ],
          [
           29
          ],
          [
           12
          ],
          [
           58
          ],
          [
           10
          ],
          [
           4
          ],
          [
           131
          ],
          [
           31
          ],
          [
           2
          ],
          [
           5
          ],
          [
           33
          ],
          [
           6
          ],
          [
           282
          ],
          [
           68
          ],
          [
           9
          ],
          [
           2072
          ],
          [
           4
          ],
          [
           18
          ],
          [
           29
          ],
          [
           24
          ],
          [
           1015
          ],
          [
           637
          ],
          [
           3015
          ],
          [
           61
          ],
          [
           87
          ],
          [
           11
          ],
          [
           150
          ],
          [
           8.2
          ],
          [
           9
          ],
          [
           2
          ],
          [
           31
          ],
          [
           315
          ],
          [
           6248.888491353608
          ],
          [
           1
          ],
          [
           66
          ],
          [
           15
          ],
          [
           44.11392405063291
          ],
          [
           695
          ],
          [
           2756
          ],
          [
           8947
          ],
          [
           135
          ],
          [
           1111
          ],
          [
           20
          ],
          [
           1580
          ],
          [
           13
          ],
          [
           374
          ],
          [
           6
          ],
          [
           48
          ],
          [
           3
          ],
          [
           5
          ],
          [
           99
          ],
          [
           26
          ],
          [
           6
          ],
          [
           1554
          ],
          [
           4
          ],
          [
           624
          ],
          [
           139
          ],
          [
           13
          ],
          [
           7
          ],
          [
           11
          ],
          [
           101
          ],
          [
           3
          ],
          [
           1
          ],
          [
           29
          ],
          [
           3
          ],
          [
           281
          ],
          [
           39.048780487804876
          ],
          [
           8
          ],
          [
           4
          ],
          [
           1
          ],
          [
           252
          ],
          [
           8
          ],
          [
           23
          ],
          [
           120
          ],
          [
           1
          ],
          [
           12
          ],
          [
           20
          ],
          [
           16
          ]
         ],
         "domain": {
          "x": [
           0,
           1
          ],
          "y": [
           0,
           1
          ]
         },
         "hovertemplate": "labels=%{label}<br>count_sum=%{value}<br>parent=%{parent}<br>id=%{id}<br>count=%{color}<extra></extra>",
         "ids": [
          "TCHAR/CWE-119!/CWE-120",
          "char/CWE-119!/CWE-120",
          "wchar_t/CWE-119!/CWE-120",
          "CopyMemory/CWE-120",
          "MultiByteToWideChar/CWE-120",
          "StrCat/CWE-120",
          "_stprintf/CWE-120",
          "_tcscat/CWE-120",
          "_tcscpy/CWE-120",
          "_tcsncpy/CWE-120",
          "bcopy/CWE-120",
          "fscanf/CWE-120",
          "lstrcatW/CWE-120",
          "lstrcpy/CWE-120",
          "memcpy/CWE-120",
          "scanf/CWE-120",
          "sprintf/CWE-120",
          "sscanf/CWE-120",
          "strcat/CWE-120",
          "strcpy/CWE-120",
          "strncat/CWE-120",
          "strncpy/CWE-120",
          "vsprintf/CWE-120",
          "wcscat/CWE-120",
          "wcscpy/CWE-120",
          "wcsncat/CWE-120",
          "wcsncpy/CWE-120",
          "fgetc/CWE-120, CWE-20",
          "fscanf/CWE-120, CWE-20",
          "getc/CWE-120, CWE-20",
          "getchar/CWE-120, CWE-20",
          "getopt/CWE-120, CWE-20",
          "getopt_long/CWE-120, CWE-20",
          "gets/CWE-120, CWE-20",
          "getwd/CWE-120, CWE-20",
          "read/CWE-120, CWE-20",
          "scanf/CWE-120, CWE-20",
          "sscanf/CWE-120, CWE-20",
          "vfscanf/CWE-120, CWE-20",
          "vscanf/CWE-120, CWE-20",
          "vsscanf/CWE-120, CWE-20",
          "realpath/CWE-120/CWE-785!",
          "_tcslen/CWE-126",
          "equal/CWE-126",
          "is_permutation/CWE-126",
          "mismatch/CWE-126",
          "strlen/CWE-126",
          "wcslen/CWE-126",
          "_snprintf/CWE-134",
          "_sntprintf/CWE-134",
          "_vsntprintf/CWE-134",
          "fprintf/CWE-134",
          "printf/CWE-134",
          "snprintf/CWE-134",
          "sprintf/CWE-134",
          "swprintf/CWE-134",
          "syslog/CWE-134",
          "vfprintf/CWE-134",
          "vfwprintf/CWE-134",
          "vprintf/CWE-134",
          "vsnprintf/CWE-134",
          "vsprintf/CWE-134",
          "vswprintf/CWE-134",
          "vwprintf/CWE-134",
          "_wtoi/CWE-190",
          "atoi/CWE-190",
          "atol/CWE-190",
          "integerOverflow/CWE-190",
          "CoImpersonateClient/CWE-250",
          "ImpersonateLoggedOnUser/CWE-250",
          "chroot/CWE-250, CWE-22",
          "EVP_des_cbc/CWE-327",
          "EVP_des_cfb/CWE-327",
          "EVP_des_ecb/CWE-327",
          "EVP_des_ofb/CWE-327",
          "EVP_desx_cbc/CWE-327",
          "EVP_rc2_40_cbc/CWE-327",
          "EVP_rc2_64_cbc/CWE-327",
          "EVP_rc4_40/CWE-327",
          "crypt/CWE-327",
          "crypt_r/CWE-327",
          "erand48/CWE-327",
          "g_rand_int/CWE-327",
          "g_rand_int_range/CWE-327",
          "g_random_int/CWE-327",
          "g_random_int_range/CWE-327",
          "jrand48/CWE-327",
          "lrand48/CWE-327",
          "nrand48/CWE-327",
          "random/CWE-327",
          "setstate/CWE-327",
          "srand/CWE-327",
          "srandom/CWE-327",
          "chmod/CWE-362",
          "chown/CWE-362",
          "fopen/CWE-362",
          "open/CWE-362",
          "vfork/CWE-362",
          "readlink/CWE-362, CWE-20",
          "access/CWE-362/CWE-367!",
          "zerodiv/CWE-369",
          "GetTempFileName/CWE-377",
          "mkstemp/CWE-377",
          "mktemp/CWE-377",
          "tempnam/CWE-377",
          "tmpfile/CWE-377",
          "tmpnam/CWE-377",
          "containerOutOfBounds/CWE-398",
          "containerOutOfBoundsIndexExpression/CWE-398",
          "memleak/CWE-401",
          "memleakOnRealloc/CWE-401",
          "doubleFree/CWE-415",
          "deallocuse/CWE-416",
          "ctuuninitvar/CWE-457",
          "uninitStructMember/CWE-457",
          "uninitdata/CWE-457",
          "uninitvar/CWE-457",
          "ctunullpointer/CWE-476",
          "nullPointer/CWE-476",
          "autoVariables/CWE-562",
          "danglingLifetime/CWE-562",
          "danglingTempReference/CWE-562",
          "danglingTemporaryLifetime/CWE-562",
          "invalidLifetime/CWE-562",
          "returnDanglingLifetime/CWE-562",
          "comparePointers/CWE-570",
          "assignBoolToPointer/CWE-587",
          "invalidFunctionArg/CWE-628",
          "invalidFunctionArgStr/CWE-628",
          "sprintfOverlappingData/CWE-628",
          "eraseDereference/CWE-664",
          "invalidContainer/CWE-664",
          "mismatchingContainerExpression/CWE-664",
          "mismatchingContainers/CWE-664",
          "va_end_missing/CWE-664",
          "va_list_usedBeforeStarted/CWE-664",
          "memalign/CWE-676",
          "ulimit/CWE-676",
          "usleep/CWE-676",
          "getpass/CWE-676, CWE-120, CWE-20",
          "nullPointerArithmetic/CWE-682",
          "wrongPrintfScanfArgNum/CWE-685",
          "invalidScanfFormatWidth/CWE-687",
          "AddAccessAllowedAce/CWE-732",
          "umask/CWE-732",
          "missingReturn/CWE-758",
          "objectIndex/CWE-758",
          "shiftNegative/CWE-758",
          "shiftTooManyBits/CWE-758",
          "unknownEvaluationOrder/CWE-768",
          "leakReturnValNotUsed/CWE-771",
          "resourceLeak/CWE-775",
          "ShellExecute/CWE-78",
          "WinExec/CWE-78",
          "execl/CWE-78",
          "execle/CWE-78",
          "execlp/CWE-78",
          "execv/CWE-78",
          "execvp/CWE-78",
          "popen/CWE-78",
          "system/CWE-78",
          "ctuArrayIndex/CWE-786",
          "negativeContainerIndex/CWE-786",
          "negativeIndex/CWE-786",
          "arrayIndexOutOfBounds/CWE-788",
          "bufferAccessOutOfBounds/CWE-788",
          "getlogin/CWE-807",
          "g_get_home_dir/CWE-807, CWE-20",
          "g_get_tmp_dir/CWE-807, CWE-20",
          "getenv/CWE-807, CWE-20",
          "derefInvalidIterator/CWE-825",
          "LoadLibrary/CWE-829, CWE-20",
          "LoadLibraryEx/CWE-829, CWE-20",
          "cppcheckError/CWE-unknown",
          "internalAstError/CWE-unknown",
          "overlappingWriteFunction/CWE-unknown",
          "overlappingWriteUnion/CWE-unknown",
          "preprocessorErrorDirective/CWE-unknown",
          "syntaxError/CWE-unknown",
          "unknownMacro/CWE-unknown",
          "AddAccessAllowedAce",
          "CoImpersonateClient",
          "CopyMemory",
          "EVP_des_cbc",
          "EVP_des_cfb",
          "EVP_des_ecb",
          "EVP_des_ofb",
          "EVP_desx_cbc",
          "EVP_rc2_40_cbc",
          "EVP_rc2_64_cbc",
          "EVP_rc4_40",
          "GetTempFileName",
          "ImpersonateLoggedOnUser",
          "LoadLibrary",
          "LoadLibraryEx",
          "MultiByteToWideChar",
          "ShellExecute",
          "StrCat",
          "TCHAR",
          "WinExec",
          "_snprintf",
          "_sntprintf",
          "_stprintf",
          "_tcscat",
          "_tcscpy",
          "_tcslen",
          "_tcsncpy",
          "_vsntprintf",
          "_wtoi",
          "access",
          "arrayIndexOutOfBounds",
          "assignBoolToPointer",
          "atoi",
          "atol",
          "autoVariables",
          "bcopy",
          "bufferAccessOutOfBounds",
          "char",
          "chmod",
          "chown",
          "chroot",
          "comparePointers",
          "containerOutOfBounds",
          "containerOutOfBoundsIndexExpression",
          "cppcheckError",
          "crypt",
          "crypt_r",
          "ctuArrayIndex",
          "ctunullpointer",
          "ctuuninitvar",
          "danglingLifetime",
          "danglingTempReference",
          "danglingTemporaryLifetime",
          "deallocuse",
          "derefInvalidIterator",
          "doubleFree",
          "equal",
          "erand48",
          "eraseDereference",
          "execl",
          "execle",
          "execlp",
          "execv",
          "execvp",
          "fgetc",
          "fopen",
          "fprintf",
          "fscanf",
          "g_get_home_dir",
          "g_get_tmp_dir",
          "g_rand_int",
          "g_rand_int_range",
          "g_random_int",
          "g_random_int_range",
          "getc",
          "getchar",
          "getenv",
          "getlogin",
          "getopt",
          "getopt_long",
          "getpass",
          "gets",
          "getwd",
          "integerOverflow",
          "internalAstError",
          "invalidContainer",
          "invalidFunctionArg",
          "invalidFunctionArgStr",
          "invalidLifetime",
          "invalidScanfFormatWidth",
          "is_permutation",
          "jrand48",
          "leakReturnValNotUsed",
          "lrand48",
          "lstrcatW",
          "lstrcpy",
          "memalign",
          "memcpy",
          "memleak",
          "memleakOnRealloc",
          "mismatch",
          "mismatchingContainerExpression",
          "mismatchingContainers",
          "missingReturn",
          "mkstemp",
          "mktemp",
          "negativeContainerIndex",
          "negativeIndex",
          "nrand48",
          "nullPointer",
          "nullPointerArithmetic",
          "objectIndex",
          "open",
          "overlappingWriteFunction",
          "overlappingWriteUnion",
          "popen",
          "preprocessorErrorDirective",
          "printf",
          "random",
          "read",
          "readlink",
          "realpath",
          "resourceLeak",
          "returnDanglingLifetime",
          "scanf",
          "setstate",
          "shiftNegative",
          "shiftTooManyBits",
          "snprintf",
          "sprintf",
          "sprintfOverlappingData",
          "srand",
          "srandom",
          "sscanf",
          "strcat",
          "strcpy",
          "strlen",
          "strncat",
          "strncpy",
          "swprintf",
          "syntaxError",
          "syslog",
          "system",
          "tempnam",
          "tmpfile",
          "tmpnam",
          "ulimit",
          "umask",
          "uninitStructMember",
          "uninitdata",
          "uninitvar",
          "unknownEvaluationOrder",
          "unknownMacro",
          "usleep",
          "va_end_missing",
          "va_list_usedBeforeStarted",
          "vfork",
          "vfprintf",
          "vfscanf",
          "vfwprintf",
          "vprintf",
          "vscanf",
          "vsnprintf",
          "vsprintf",
          "vsscanf",
          "vswprintf",
          "vwprintf",
          "wchar_t",
          "wcscat",
          "wcscpy",
          "wcslen",
          "wcsncat",
          "wcsncpy",
          "wrongPrintfScanfArgNum",
          "zerodiv"
         ],
         "labels": [
          "CWE-119!/CWE-120",
          "CWE-119!/CWE-120",
          "CWE-119!/CWE-120",
          "CWE-120",
          "CWE-120",
          "CWE-120",
          "CWE-120",
          "CWE-120",
          "CWE-120",
          "CWE-120",
          "CWE-120",
          "CWE-120",
          "CWE-120",
          "CWE-120",
          "CWE-120",
          "CWE-120",
          "CWE-120",
          "CWE-120",
          "CWE-120",
          "CWE-120",
          "CWE-120",
          "CWE-120",
          "CWE-120",
          "CWE-120",
          "CWE-120",
          "CWE-120",
          "CWE-120",
          "CWE-120, CWE-20",
          "CWE-120, CWE-20",
          "CWE-120, CWE-20",
          "CWE-120, CWE-20",
          "CWE-120, CWE-20",
          "CWE-120, CWE-20",
          "CWE-120, CWE-20",
          "CWE-120, CWE-20",
          "CWE-120, CWE-20",
          "CWE-120, CWE-20",
          "CWE-120, CWE-20",
          "CWE-120, CWE-20",
          "CWE-120, CWE-20",
          "CWE-120, CWE-20",
          "CWE-120/CWE-785!",
          "CWE-126",
          "CWE-126",
          "CWE-126",
          "CWE-126",
          "CWE-126",
          "CWE-126",
          "CWE-134",
          "CWE-134",
          "CWE-134",
          "CWE-134",
          "CWE-134",
          "CWE-134",
          "CWE-134",
          "CWE-134",
          "CWE-134",
          "CWE-134",
          "CWE-134",
          "CWE-134",
          "CWE-134",
          "CWE-134",
          "CWE-134",
          "CWE-134",
          "CWE-190",
          "CWE-190",
          "CWE-190",
          "CWE-190",
          "CWE-250",
          "CWE-250",
          "CWE-250, CWE-22",
          "CWE-327",
          "CWE-327",
          "CWE-327",
          "CWE-327",
          "CWE-327",
          "CWE-327",
          "CWE-327",
          "CWE-327",
          "CWE-327",
          "CWE-327",
          "CWE-327",
          "CWE-327",
          "CWE-327",
          "CWE-327",
          "CWE-327",
          "CWE-327",
          "CWE-327",
          "CWE-327",
          "CWE-327",
          "CWE-327",
          "CWE-327",
          "CWE-327",
          "CWE-362",
          "CWE-362",
          "CWE-362",
          "CWE-362",
          "CWE-362",
          "CWE-362, CWE-20",
          "CWE-362/CWE-367!",
          "CWE-369",
          "CWE-377",
          "CWE-377",
          "CWE-377",
          "CWE-377",
          "CWE-377",
          "CWE-377",
          "CWE-398",
          "CWE-398",
          "CWE-401",
          "CWE-401",
          "CWE-415",
          "CWE-416",
          "CWE-457",
          "CWE-457",
          "CWE-457",
          "CWE-457",
          "CWE-476",
          "CWE-476",
          "CWE-562",
          "CWE-562",
          "CWE-562",
          "CWE-562",
          "CWE-562",
          "CWE-562",
          "CWE-570",
          "CWE-587",
          "CWE-628",
          "CWE-628",
          "CWE-628",
          "CWE-664",
          "CWE-664",
          "CWE-664",
          "CWE-664",
          "CWE-664",
          "CWE-664",
          "CWE-676",
          "CWE-676",
          "CWE-676",
          "CWE-676, CWE-120, CWE-20",
          "CWE-682",
          "CWE-685",
          "CWE-687",
          "CWE-732",
          "CWE-732",
          "CWE-758",
          "CWE-758",
          "CWE-758",
          "CWE-758",
          "CWE-768",
          "CWE-771",
          "CWE-775",
          "CWE-78",
          "CWE-78",
          "CWE-78",
          "CWE-78",
          "CWE-78",
          "CWE-78",
          "CWE-78",
          "CWE-78",
          "CWE-78",
          "CWE-786",
          "CWE-786",
          "CWE-786",
          "CWE-788",
          "CWE-788",
          "CWE-807",
          "CWE-807, CWE-20",
          "CWE-807, CWE-20",
          "CWE-807, CWE-20",
          "CWE-825",
          "CWE-829, CWE-20",
          "CWE-829, CWE-20",
          "CWE-unknown",
          "CWE-unknown",
          "CWE-unknown",
          "CWE-unknown",
          "CWE-unknown",
          "CWE-unknown",
          "CWE-unknown",
          "AddAccessAllowedAce",
          "CoImpersonateClient",
          "CopyMemory",
          "EVP_des_cbc",
          "EVP_des_cfb",
          "EVP_des_ecb",
          "EVP_des_ofb",
          "EVP_desx_cbc",
          "EVP_rc2_40_cbc",
          "EVP_rc2_64_cbc",
          "EVP_rc4_40",
          "GetTempFileName",
          "ImpersonateLoggedOnUser",
          "LoadLibrary",
          "LoadLibraryEx",
          "MultiByteToWideChar",
          "ShellExecute",
          "StrCat",
          "TCHAR",
          "WinExec",
          "_snprintf",
          "_sntprintf",
          "_stprintf",
          "_tcscat",
          "_tcscpy",
          "_tcslen",
          "_tcsncpy",
          "_vsntprintf",
          "_wtoi",
          "access",
          "arrayIndexOutOfBounds",
          "assignBoolToPointer",
          "atoi",
          "atol",
          "autoVariables",
          "bcopy",
          "bufferAccessOutOfBounds",
          "char",
          "chmod",
          "chown",
          "chroot",
          "comparePointers",
          "containerOutOfBounds",
          "containerOutOfBoundsIndexExpression",
          "cppcheckError",
          "crypt",
          "crypt_r",
          "ctuArrayIndex",
          "ctunullpointer",
          "ctuuninitvar",
          "danglingLifetime",
          "danglingTempReference",
          "danglingTemporaryLifetime",
          "deallocuse",
          "derefInvalidIterator",
          "doubleFree",
          "equal",
          "erand48",
          "eraseDereference",
          "execl",
          "execle",
          "execlp",
          "execv",
          "execvp",
          "fgetc",
          "fopen",
          "fprintf",
          "fscanf",
          "g_get_home_dir",
          "g_get_tmp_dir",
          "g_rand_int",
          "g_rand_int_range",
          "g_random_int",
          "g_random_int_range",
          "getc",
          "getchar",
          "getenv",
          "getlogin",
          "getopt",
          "getopt_long",
          "getpass",
          "gets",
          "getwd",
          "integerOverflow",
          "internalAstError",
          "invalidContainer",
          "invalidFunctionArg",
          "invalidFunctionArgStr",
          "invalidLifetime",
          "invalidScanfFormatWidth",
          "is_permutation",
          "jrand48",
          "leakReturnValNotUsed",
          "lrand48",
          "lstrcatW",
          "lstrcpy",
          "memalign",
          "memcpy",
          "memleak",
          "memleakOnRealloc",
          "mismatch",
          "mismatchingContainerExpression",
          "mismatchingContainers",
          "missingReturn",
          "mkstemp",
          "mktemp",
          "negativeContainerIndex",
          "negativeIndex",
          "nrand48",
          "nullPointer",
          "nullPointerArithmetic",
          "objectIndex",
          "open",
          "overlappingWriteFunction",
          "overlappingWriteUnion",
          "popen",
          "preprocessorErrorDirective",
          "printf",
          "random",
          "read",
          "readlink",
          "realpath",
          "resourceLeak",
          "returnDanglingLifetime",
          "scanf",
          "setstate",
          "shiftNegative",
          "shiftTooManyBits",
          "snprintf",
          "sprintf",
          "sprintfOverlappingData",
          "srand",
          "srandom",
          "sscanf",
          "strcat",
          "strcpy",
          "strlen",
          "strncat",
          "strncpy",
          "swprintf",
          "syntaxError",
          "syslog",
          "system",
          "tempnam",
          "tmpfile",
          "tmpnam",
          "ulimit",
          "umask",
          "uninitStructMember",
          "uninitdata",
          "uninitvar",
          "unknownEvaluationOrder",
          "unknownMacro",
          "usleep",
          "va_end_missing",
          "va_list_usedBeforeStarted",
          "vfork",
          "vfprintf",
          "vfscanf",
          "vfwprintf",
          "vprintf",
          "vscanf",
          "vsnprintf",
          "vsprintf",
          "vsscanf",
          "vswprintf",
          "vwprintf",
          "wchar_t",
          "wcscat",
          "wcscpy",
          "wcslen",
          "wcsncat",
          "wcsncpy",
          "wrongPrintfScanfArgNum",
          "zerodiv"
         ],
         "marker": {
          "coloraxis": "coloraxis",
          "colors": [
           100,
           22051,
           252,
           6,
           35,
           4226,
           1,
           3,
           15,
           2,
           5,
           5,
           1,
           1,
           29198,
           1,
           6470,
           26,
           695,
           2756,
           135,
           1111,
           1,
           8,
           23,
           1,
           12,
           53,
           11,
           26,
           22,
           20,
           28,
           8,
           7,
           3015,
           9,
           53,
           3,
           3,
           8,
           87,
           2,
           239,
           5,
           58,
           8947,
           120,
           2,
           4,
           1,
           228,
           1015,
           315,
           238,
           20,
           13,
           101,
           1,
           29,
           281,
           40,
           4,
           1,
           16,
           1465,
           120,
           1526,
           1,
           2,
           7,
           3,
           2,
           2,
           2,
           2,
           2,
           2,
           2,
           207,
           1,
           2,
           1,
           4,
           3,
           5,
           4,
           1,
           6,
           637,
           9,
           66,
           15,
           59,
           19,
           789,
           2072,
           11,
           61,
           1224,
           16,
           5,
           31,
           2,
           6,
           48,
           3,
           24,
           2,
           29,
           12,
           6,
           1,
           82,
           26,
           6,
           1554,
           55,
           282,
           30,
           66,
           14,
           147,
           72,
           150,
           496,
           1,
           18,
           1,
           1,
           4,
           23,
           10,
           4,
           13,
           7,
           27,
           5,
           139,
           3,
           68,
           20,
           1,
           2,
           99,
           131,
           9,
           2,
           31,
           4,
           2,
           11,
           3,
           1,
           18,
           7,
           20,
           31,
           38,
           29,
           374,
           8,
           5,
           33,
           91,
           3,
           2,
           3,
           6,
           604,
           2,
           75,
           2,
           5,
           139,
           4,
           18,
           24,
           1580,
           624,
           2,
           1,
           6,
           3,
           2,
           2,
           2,
           2,
           2,
           2,
           2,
           5,
           2,
           75,
           2,
           35,
           3,
           4226,
           100,
           1,
           2,
           4,
           1,
           3,
           15,
           2,
           2,
           1,
           16,
           1224,
           91,
           1,
           1465,
           120,
           30,
           5,
           3,
           22051,
           59,
           19,
           7,
           496,
           24,
           2,
           5,
           207,
           1,
           8,
           55,
           82,
           66,
           14,
           147,
           1,
           2,
           6,
           239,
           2,
           4,
           18,
           7,
           20,
           31,
           38,
           53,
           789,
           228,
           9.125,
           3,
           6,
           1,
           4,
           3,
           5,
           26,
           22,
           604,
           2,
           20,
           28,
           3,
           8,
           7,
           1526,
           139,
           23,
           18,
           1,
           72,
           1,
           5,
           4,
           2,
           1,
           1,
           1,
           27,
           29198,
           29,
           12,
           58,
           10,
           4,
           131,
           31,
           2,
           5,
           33,
           6,
           282,
           68,
           9,
           2072,
           4,
           18,
           29,
           24,
           1015,
           637,
           3015,
           61,
           87,
           11,
           150,
           8.2,
           9,
           2,
           31,
           315,
           6248.888491353608,
           1,
           66,
           15,
           44.11392405063291,
           695,
           2756,
           8947,
           135,
           1111,
           20,
           1580,
           13,
           374,
           6,
           48,
           3,
           5,
           99,
           26,
           6,
           1554,
           4,
           624,
           139,
           13,
           7,
           11,
           101,
           3,
           1,
           29,
           3,
           281,
           39.048780487804876,
           8,
           4,
           1,
           252,
           8,
           23,
           120,
           1,
           12,
           20,
           16
          ]
         },
         "name": "",
         "parents": [
          "TCHAR",
          "char",
          "wchar_t",
          "CopyMemory",
          "MultiByteToWideChar",
          "StrCat",
          "_stprintf",
          "_tcscat",
          "_tcscpy",
          "_tcsncpy",
          "bcopy",
          "fscanf",
          "lstrcatW",
          "lstrcpy",
          "memcpy",
          "scanf",
          "sprintf",
          "sscanf",
          "strcat",
          "strcpy",
          "strncat",
          "strncpy",
          "vsprintf",
          "wcscat",
          "wcscpy",
          "wcsncat",
          "wcsncpy",
          "fgetc",
          "fscanf",
          "getc",
          "getchar",
          "getopt",
          "getopt_long",
          "gets",
          "getwd",
          "read",
          "scanf",
          "sscanf",
          "vfscanf",
          "vscanf",
          "vsscanf",
          "realpath",
          "_tcslen",
          "equal",
          "is_permutation",
          "mismatch",
          "strlen",
          "wcslen",
          "_snprintf",
          "_sntprintf",
          "_vsntprintf",
          "fprintf",
          "printf",
          "snprintf",
          "sprintf",
          "swprintf",
          "syslog",
          "vfprintf",
          "vfwprintf",
          "vprintf",
          "vsnprintf",
          "vsprintf",
          "vswprintf",
          "vwprintf",
          "_wtoi",
          "atoi",
          "atol",
          "integerOverflow",
          "CoImpersonateClient",
          "ImpersonateLoggedOnUser",
          "chroot",
          "EVP_des_cbc",
          "EVP_des_cfb",
          "EVP_des_ecb",
          "EVP_des_ofb",
          "EVP_desx_cbc",
          "EVP_rc2_40_cbc",
          "EVP_rc2_64_cbc",
          "EVP_rc4_40",
          "crypt",
          "crypt_r",
          "erand48",
          "g_rand_int",
          "g_rand_int_range",
          "g_random_int",
          "g_random_int_range",
          "jrand48",
          "lrand48",
          "nrand48",
          "random",
          "setstate",
          "srand",
          "srandom",
          "chmod",
          "chown",
          "fopen",
          "open",
          "vfork",
          "readlink",
          "access",
          "zerodiv",
          "GetTempFileName",
          "mkstemp",
          "mktemp",
          "tempnam",
          "tmpfile",
          "tmpnam",
          "containerOutOfBounds",
          "containerOutOfBoundsIndexExpression",
          "memleak",
          "memleakOnRealloc",
          "doubleFree",
          "deallocuse",
          "ctuuninitvar",
          "uninitStructMember",
          "uninitdata",
          "uninitvar",
          "ctunullpointer",
          "nullPointer",
          "autoVariables",
          "danglingLifetime",
          "danglingTempReference",
          "danglingTemporaryLifetime",
          "invalidLifetime",
          "returnDanglingLifetime",
          "comparePointers",
          "assignBoolToPointer",
          "invalidFunctionArg",
          "invalidFunctionArgStr",
          "sprintfOverlappingData",
          "eraseDereference",
          "invalidContainer",
          "mismatchingContainerExpression",
          "mismatchingContainers",
          "va_end_missing",
          "va_list_usedBeforeStarted",
          "memalign",
          "ulimit",
          "usleep",
          "getpass",
          "nullPointerArithmetic",
          "wrongPrintfScanfArgNum",
          "invalidScanfFormatWidth",
          "AddAccessAllowedAce",
          "umask",
          "missingReturn",
          "objectIndex",
          "shiftNegative",
          "shiftTooManyBits",
          "unknownEvaluationOrder",
          "leakReturnValNotUsed",
          "resourceLeak",
          "ShellExecute",
          "WinExec",
          "execl",
          "execle",
          "execlp",
          "execv",
          "execvp",
          "popen",
          "system",
          "ctuArrayIndex",
          "negativeContainerIndex",
          "negativeIndex",
          "arrayIndexOutOfBounds",
          "bufferAccessOutOfBounds",
          "getlogin",
          "g_get_home_dir",
          "g_get_tmp_dir",
          "getenv",
          "derefInvalidIterator",
          "LoadLibrary",
          "LoadLibraryEx",
          "cppcheckError",
          "internalAstError",
          "overlappingWriteFunction",
          "overlappingWriteUnion",
          "preprocessorErrorDirective",
          "syntaxError",
          "unknownMacro",
          "",
          "",
          "",
          "",
          "",
          "",
          "",
          "",
          "",
          "",
          "",
          "",
          "",
          "",
          "",
          "",
          "",
          "",
          "",
          "",
          "",
          "",
          "",
          "",
          "",
          "",
          "",
          "",
          "",
          "",
          "",
          "",
          "",
          "",
          "",
          "",
          "",
          "",
          "",
          "",
          "",
          "",
          "",
          "",
          "",
          "",
          "",
          "",
          "",
          "",
          "",
          "",
          "",
          "",
          "",
          "",
          "",
          "",
          "",
          "",
          "",
          "",
          "",
          "",
          "",
          "",
          "",
          "",
          "",
          "",
          "",
          "",
          "",
          "",
          "",
          "",
          "",
          "",
          "",
          "",
          "",
          "",
          "",
          "",
          "",
          "",
          "",
          "",
          "",
          "",
          "",
          "",
          "",
          "",
          "",
          "",
          "",
          "",
          "",
          "",
          "",
          "",
          "",
          "",
          "",
          "",
          "",
          "",
          "",
          "",
          "",
          "",
          "",
          "",
          "",
          "",
          "",
          "",
          "",
          "",
          "",
          "",
          "",
          "",
          "",
          "",
          "",
          "",
          "",
          "",
          "",
          "",
          "",
          "",
          "",
          "",
          "",
          "",
          "",
          "",
          "",
          "",
          "",
          "",
          "",
          "",
          "",
          "",
          "",
          "",
          "",
          "",
          "",
          "",
          "",
          "",
          "",
          "",
          "",
          "",
          "",
          "",
          "",
          "",
          "",
          "",
          "",
          "",
          "",
          "",
          "",
          "",
          "",
          "",
          ""
         ],
         "type": "sunburst",
         "values": [
          100,
          22051,
          252,
          6,
          35,
          4226,
          1,
          3,
          15,
          2,
          5,
          5,
          1,
          1,
          29198,
          1,
          6470,
          26,
          695,
          2756,
          135,
          1111,
          1,
          8,
          23,
          1,
          12,
          53,
          11,
          26,
          22,
          20,
          28,
          8,
          7,
          3015,
          9,
          53,
          3,
          3,
          8,
          87,
          2,
          239,
          5,
          58,
          8947,
          120,
          2,
          4,
          1,
          228,
          1015,
          315,
          238,
          20,
          13,
          101,
          1,
          29,
          281,
          40,
          4,
          1,
          16,
          1465,
          120,
          1526,
          1,
          2,
          7,
          3,
          2,
          2,
          2,
          2,
          2,
          2,
          2,
          207,
          1,
          2,
          1,
          4,
          3,
          5,
          4,
          1,
          6,
          637,
          9,
          66,
          15,
          59,
          19,
          789,
          2072,
          11,
          61,
          1224,
          16,
          5,
          31,
          2,
          6,
          48,
          3,
          24,
          2,
          29,
          12,
          6,
          1,
          82,
          26,
          6,
          1554,
          55,
          282,
          30,
          66,
          14,
          147,
          72,
          150,
          496,
          1,
          18,
          1,
          1,
          4,
          23,
          10,
          4,
          13,
          7,
          27,
          5,
          139,
          3,
          68,
          20,
          1,
          2,
          99,
          131,
          9,
          2,
          31,
          4,
          2,
          11,
          3,
          1,
          18,
          7,
          20,
          31,
          38,
          29,
          374,
          8,
          5,
          33,
          91,
          3,
          2,
          3,
          6,
          604,
          2,
          75,
          2,
          5,
          139,
          4,
          18,
          24,
          1580,
          624,
          2,
          1,
          6,
          3,
          2,
          2,
          2,
          2,
          2,
          2,
          2,
          5,
          2,
          75,
          2,
          35,
          3,
          4226,
          100,
          1,
          2,
          4,
          1,
          3,
          15,
          2,
          2,
          1,
          16,
          1224,
          91,
          1,
          1465,
          120,
          30,
          5,
          3,
          22051,
          59,
          19,
          7,
          496,
          24,
          2,
          5,
          207,
          1,
          8,
          55,
          82,
          66,
          14,
          147,
          1,
          2,
          6,
          239,
          2,
          4,
          18,
          7,
          20,
          31,
          38,
          53,
          789,
          228,
          16,
          3,
          6,
          1,
          4,
          3,
          5,
          26,
          22,
          604,
          2,
          20,
          28,
          3,
          8,
          7,
          1526,
          139,
          23,
          18,
          1,
          72,
          1,
          5,
          4,
          2,
          1,
          1,
          1,
          27,
          29198,
          29,
          12,
          58,
          10,
          4,
          131,
          31,
          2,
          5,
          33,
          6,
          282,
          68,
          9,
          2072,
          4,
          18,
          29,
          24,
          1015,
          637,
          3015,
          61,
          87,
          11,
          150,
          10,
          9,
          2,
          31,
          315,
          6708,
          1,
          66,
          15,
          79,
          695,
          2756,
          8947,
          135,
          1111,
          20,
          1580,
          13,
          374,
          6,
          48,
          3,
          5,
          99,
          26,
          6,
          1554,
          4,
          624,
          139,
          13,
          7,
          11,
          101,
          3,
          1,
          29,
          3,
          281,
          41,
          8,
          4,
          1,
          252,
          8,
          23,
          120,
          1,
          12,
          20,
          16
         ]
        }
       ],
       "layout": {
        "autosize": false,
        "coloraxis": {
         "colorbar": {
          "title": {
           "text": "count"
          }
         },
         "colorscale": [
          [
           0,
           "rgb(255,245,240)"
          ],
          [
           0.125,
           "rgb(254,224,210)"
          ],
          [
           0.25,
           "rgb(252,187,161)"
          ],
          [
           0.375,
           "rgb(252,146,114)"
          ],
          [
           0.5,
           "rgb(251,106,74)"
          ],
          [
           0.625,
           "rgb(239,59,44)"
          ],
          [
           0.75,
           "rgb(203,24,29)"
          ],
          [
           0.875,
           "rgb(165,15,21)"
          ],
          [
           1,
           "rgb(103,0,13)"
          ]
         ]
        },
        "height": 800,
        "legend": {
         "tracegroupgap": 0
        },
        "margin": {
         "t": 60
        },
        "template": {
         "data": {
          "bar": [
           {
            "error_x": {
             "color": "#2a3f5f"
            },
            "error_y": {
             "color": "#2a3f5f"
            },
            "marker": {
             "line": {
              "color": "#E5ECF6",
              "width": 0.5
             },
             "pattern": {
              "fillmode": "overlay",
              "size": 10,
              "solidity": 0.2
             }
            },
            "type": "bar"
           }
          ],
          "barpolar": [
           {
            "marker": {
             "line": {
              "color": "#E5ECF6",
              "width": 0.5
             },
             "pattern": {
              "fillmode": "overlay",
              "size": 10,
              "solidity": 0.2
             }
            },
            "type": "barpolar"
           }
          ],
          "carpet": [
           {
            "aaxis": {
             "endlinecolor": "#2a3f5f",
             "gridcolor": "white",
             "linecolor": "white",
             "minorgridcolor": "white",
             "startlinecolor": "#2a3f5f"
            },
            "baxis": {
             "endlinecolor": "#2a3f5f",
             "gridcolor": "white",
             "linecolor": "white",
             "minorgridcolor": "white",
             "startlinecolor": "#2a3f5f"
            },
            "type": "carpet"
           }
          ],
          "choropleth": [
           {
            "colorbar": {
             "outlinewidth": 0,
             "ticks": ""
            },
            "type": "choropleth"
           }
          ],
          "contour": [
           {
            "colorbar": {
             "outlinewidth": 0,
             "ticks": ""
            },
            "colorscale": [
             [
              0,
              "#0d0887"
             ],
             [
              0.1111111111111111,
              "#46039f"
             ],
             [
              0.2222222222222222,
              "#7201a8"
             ],
             [
              0.3333333333333333,
              "#9c179e"
             ],
             [
              0.4444444444444444,
              "#bd3786"
             ],
             [
              0.5555555555555556,
              "#d8576b"
             ],
             [
              0.6666666666666666,
              "#ed7953"
             ],
             [
              0.7777777777777778,
              "#fb9f3a"
             ],
             [
              0.8888888888888888,
              "#fdca26"
             ],
             [
              1,
              "#f0f921"
             ]
            ],
            "type": "contour"
           }
          ],
          "contourcarpet": [
           {
            "colorbar": {
             "outlinewidth": 0,
             "ticks": ""
            },
            "type": "contourcarpet"
           }
          ],
          "heatmap": [
           {
            "colorbar": {
             "outlinewidth": 0,
             "ticks": ""
            },
            "colorscale": [
             [
              0,
              "#0d0887"
             ],
             [
              0.1111111111111111,
              "#46039f"
             ],
             [
              0.2222222222222222,
              "#7201a8"
             ],
             [
              0.3333333333333333,
              "#9c179e"
             ],
             [
              0.4444444444444444,
              "#bd3786"
             ],
             [
              0.5555555555555556,
              "#d8576b"
             ],
             [
              0.6666666666666666,
              "#ed7953"
             ],
             [
              0.7777777777777778,
              "#fb9f3a"
             ],
             [
              0.8888888888888888,
              "#fdca26"
             ],
             [
              1,
              "#f0f921"
             ]
            ],
            "type": "heatmap"
           }
          ],
          "heatmapgl": [
           {
            "colorbar": {
             "outlinewidth": 0,
             "ticks": ""
            },
            "colorscale": [
             [
              0,
              "#0d0887"
             ],
             [
              0.1111111111111111,
              "#46039f"
             ],
             [
              0.2222222222222222,
              "#7201a8"
             ],
             [
              0.3333333333333333,
              "#9c179e"
             ],
             [
              0.4444444444444444,
              "#bd3786"
             ],
             [
              0.5555555555555556,
              "#d8576b"
             ],
             [
              0.6666666666666666,
              "#ed7953"
             ],
             [
              0.7777777777777778,
              "#fb9f3a"
             ],
             [
              0.8888888888888888,
              "#fdca26"
             ],
             [
              1,
              "#f0f921"
             ]
            ],
            "type": "heatmapgl"
           }
          ],
          "histogram": [
           {
            "marker": {
             "pattern": {
              "fillmode": "overlay",
              "size": 10,
              "solidity": 0.2
             }
            },
            "type": "histogram"
           }
          ],
          "histogram2d": [
           {
            "colorbar": {
             "outlinewidth": 0,
             "ticks": ""
            },
            "colorscale": [
             [
              0,
              "#0d0887"
             ],
             [
              0.1111111111111111,
              "#46039f"
             ],
             [
              0.2222222222222222,
              "#7201a8"
             ],
             [
              0.3333333333333333,
              "#9c179e"
             ],
             [
              0.4444444444444444,
              "#bd3786"
             ],
             [
              0.5555555555555556,
              "#d8576b"
             ],
             [
              0.6666666666666666,
              "#ed7953"
             ],
             [
              0.7777777777777778,
              "#fb9f3a"
             ],
             [
              0.8888888888888888,
              "#fdca26"
             ],
             [
              1,
              "#f0f921"
             ]
            ],
            "type": "histogram2d"
           }
          ],
          "histogram2dcontour": [
           {
            "colorbar": {
             "outlinewidth": 0,
             "ticks": ""
            },
            "colorscale": [
             [
              0,
              "#0d0887"
             ],
             [
              0.1111111111111111,
              "#46039f"
             ],
             [
              0.2222222222222222,
              "#7201a8"
             ],
             [
              0.3333333333333333,
              "#9c179e"
             ],
             [
              0.4444444444444444,
              "#bd3786"
             ],
             [
              0.5555555555555556,
              "#d8576b"
             ],
             [
              0.6666666666666666,
              "#ed7953"
             ],
             [
              0.7777777777777778,
              "#fb9f3a"
             ],
             [
              0.8888888888888888,
              "#fdca26"
             ],
             [
              1,
              "#f0f921"
             ]
            ],
            "type": "histogram2dcontour"
           }
          ],
          "mesh3d": [
           {
            "colorbar": {
             "outlinewidth": 0,
             "ticks": ""
            },
            "type": "mesh3d"
           }
          ],
          "parcoords": [
           {
            "line": {
             "colorbar": {
              "outlinewidth": 0,
              "ticks": ""
             }
            },
            "type": "parcoords"
           }
          ],
          "pie": [
           {
            "automargin": true,
            "type": "pie"
           }
          ],
          "scatter": [
           {
            "fillpattern": {
             "fillmode": "overlay",
             "size": 10,
             "solidity": 0.2
            },
            "type": "scatter"
           }
          ],
          "scatter3d": [
           {
            "line": {
             "colorbar": {
              "outlinewidth": 0,
              "ticks": ""
             }
            },
            "marker": {
             "colorbar": {
              "outlinewidth": 0,
              "ticks": ""
             }
            },
            "type": "scatter3d"
           }
          ],
          "scattercarpet": [
           {
            "marker": {
             "colorbar": {
              "outlinewidth": 0,
              "ticks": ""
             }
            },
            "type": "scattercarpet"
           }
          ],
          "scattergeo": [
           {
            "marker": {
             "colorbar": {
              "outlinewidth": 0,
              "ticks": ""
             }
            },
            "type": "scattergeo"
           }
          ],
          "scattergl": [
           {
            "marker": {
             "colorbar": {
              "outlinewidth": 0,
              "ticks": ""
             }
            },
            "type": "scattergl"
           }
          ],
          "scattermapbox": [
           {
            "marker": {
             "colorbar": {
              "outlinewidth": 0,
              "ticks": ""
             }
            },
            "type": "scattermapbox"
           }
          ],
          "scatterpolar": [
           {
            "marker": {
             "colorbar": {
              "outlinewidth": 0,
              "ticks": ""
             }
            },
            "type": "scatterpolar"
           }
          ],
          "scatterpolargl": [
           {
            "marker": {
             "colorbar": {
              "outlinewidth": 0,
              "ticks": ""
             }
            },
            "type": "scatterpolargl"
           }
          ],
          "scatterternary": [
           {
            "marker": {
             "colorbar": {
              "outlinewidth": 0,
              "ticks": ""
             }
            },
            "type": "scatterternary"
           }
          ],
          "surface": [
           {
            "colorbar": {
             "outlinewidth": 0,
             "ticks": ""
            },
            "colorscale": [
             [
              0,
              "#0d0887"
             ],
             [
              0.1111111111111111,
              "#46039f"
             ],
             [
              0.2222222222222222,
              "#7201a8"
             ],
             [
              0.3333333333333333,
              "#9c179e"
             ],
             [
              0.4444444444444444,
              "#bd3786"
             ],
             [
              0.5555555555555556,
              "#d8576b"
             ],
             [
              0.6666666666666666,
              "#ed7953"
             ],
             [
              0.7777777777777778,
              "#fb9f3a"
             ],
             [
              0.8888888888888888,
              "#fdca26"
             ],
             [
              1,
              "#f0f921"
             ]
            ],
            "type": "surface"
           }
          ],
          "table": [
           {
            "cells": {
             "fill": {
              "color": "#EBF0F8"
             },
             "line": {
              "color": "white"
             }
            },
            "header": {
             "fill": {
              "color": "#C8D4E3"
             },
             "line": {
              "color": "white"
             }
            },
            "type": "table"
           }
          ]
         },
         "layout": {
          "annotationdefaults": {
           "arrowcolor": "#2a3f5f",
           "arrowhead": 0,
           "arrowwidth": 1
          },
          "autotypenumbers": "strict",
          "coloraxis": {
           "colorbar": {
            "outlinewidth": 0,
            "ticks": ""
           }
          },
          "colorscale": {
           "diverging": [
            [
             0,
             "#8e0152"
            ],
            [
             0.1,
             "#c51b7d"
            ],
            [
             0.2,
             "#de77ae"
            ],
            [
             0.3,
             "#f1b6da"
            ],
            [
             0.4,
             "#fde0ef"
            ],
            [
             0.5,
             "#f7f7f7"
            ],
            [
             0.6,
             "#e6f5d0"
            ],
            [
             0.7,
             "#b8e186"
            ],
            [
             0.8,
             "#7fbc41"
            ],
            [
             0.9,
             "#4d9221"
            ],
            [
             1,
             "#276419"
            ]
           ],
           "sequential": [
            [
             0,
             "#0d0887"
            ],
            [
             0.1111111111111111,
             "#46039f"
            ],
            [
             0.2222222222222222,
             "#7201a8"
            ],
            [
             0.3333333333333333,
             "#9c179e"
            ],
            [
             0.4444444444444444,
             "#bd3786"
            ],
            [
             0.5555555555555556,
             "#d8576b"
            ],
            [
             0.6666666666666666,
             "#ed7953"
            ],
            [
             0.7777777777777778,
             "#fb9f3a"
            ],
            [
             0.8888888888888888,
             "#fdca26"
            ],
            [
             1,
             "#f0f921"
            ]
           ],
           "sequentialminus": [
            [
             0,
             "#0d0887"
            ],
            [
             0.1111111111111111,
             "#46039f"
            ],
            [
             0.2222222222222222,
             "#7201a8"
            ],
            [
             0.3333333333333333,
             "#9c179e"
            ],
            [
             0.4444444444444444,
             "#bd3786"
            ],
            [
             0.5555555555555556,
             "#d8576b"
            ],
            [
             0.6666666666666666,
             "#ed7953"
            ],
            [
             0.7777777777777778,
             "#fb9f3a"
            ],
            [
             0.8888888888888888,
             "#fdca26"
            ],
            [
             1,
             "#f0f921"
            ]
           ]
          },
          "colorway": [
           "#636efa",
           "#EF553B",
           "#00cc96",
           "#ab63fa",
           "#FFA15A",
           "#19d3f3",
           "#FF6692",
           "#B6E880",
           "#FF97FF",
           "#FECB52"
          ],
          "font": {
           "color": "#2a3f5f"
          },
          "geo": {
           "bgcolor": "white",
           "lakecolor": "white",
           "landcolor": "#E5ECF6",
           "showlakes": true,
           "showland": true,
           "subunitcolor": "white"
          },
          "hoverlabel": {
           "align": "left"
          },
          "hovermode": "closest",
          "mapbox": {
           "style": "light"
          },
          "paper_bgcolor": "white",
          "plot_bgcolor": "#E5ECF6",
          "polar": {
           "angularaxis": {
            "gridcolor": "white",
            "linecolor": "white",
            "ticks": ""
           },
           "bgcolor": "#E5ECF6",
           "radialaxis": {
            "gridcolor": "white",
            "linecolor": "white",
            "ticks": ""
           }
          },
          "scene": {
           "xaxis": {
            "backgroundcolor": "#E5ECF6",
            "gridcolor": "white",
            "gridwidth": 2,
            "linecolor": "white",
            "showbackground": true,
            "ticks": "",
            "zerolinecolor": "white"
           },
           "yaxis": {
            "backgroundcolor": "#E5ECF6",
            "gridcolor": "white",
            "gridwidth": 2,
            "linecolor": "white",
            "showbackground": true,
            "ticks": "",
            "zerolinecolor": "white"
           },
           "zaxis": {
            "backgroundcolor": "#E5ECF6",
            "gridcolor": "white",
            "gridwidth": 2,
            "linecolor": "white",
            "showbackground": true,
            "ticks": "",
            "zerolinecolor": "white"
           }
          },
          "shapedefaults": {
           "line": {
            "color": "#2a3f5f"
           }
          },
          "ternary": {
           "aaxis": {
            "gridcolor": "white",
            "linecolor": "white",
            "ticks": ""
           },
           "baxis": {
            "gridcolor": "white",
            "linecolor": "white",
            "ticks": ""
           },
           "bgcolor": "#E5ECF6",
           "caxis": {
            "gridcolor": "white",
            "linecolor": "white",
            "ticks": ""
           }
          },
          "title": {
           "x": 0.05
          },
          "xaxis": {
           "automargin": true,
           "gridcolor": "white",
           "linecolor": "white",
           "ticks": "",
           "title": {
            "standoff": 15
           },
           "zerolinecolor": "white",
           "zerolinewidth": 2
          },
          "yaxis": {
           "automargin": true,
           "gridcolor": "white",
           "linecolor": "white",
           "ticks": "",
           "title": {
            "standoff": 15
           },
           "zerolinecolor": "white",
           "zerolinewidth": 2
          }
         }
        },
        "width": 800
       }
      }
     },
     "metadata": {},
     "output_type": "display_data"
    }
   ],
   "source": [
    "dfplt = dfs[['category', 'name', 'cwe']].groupby(['category', 'name', 'cwe'], group_keys=False).size().reset_index(name='count')\n",
    "\n",
    "dfplt['category'] = dfplt.apply(lambda row: row['category'] \n",
    "if row['category']==row['name'] or row['name']=='-' \n",
    "else row['name'], axis=1)\n",
    "dfplt = dfplt.drop(labels=['name'], axis=1)\n",
    "\n",
    "fig = px.sunburst(dfplt, \n",
    "    path=['category', 'cwe'],\n",
    "    values='count', \n",
    "    color_continuous_scale='Reds',\n",
    "    color='count',\n",
    ")\n",
    "\n",
    "fig.update_layout(\n",
    "    autosize=False,\n",
    "    width=800,\n",
    "    height=800,)\n",
    "fig.show()"
   ]
  },
  {
   "cell_type": "code",
   "execution_count": 84,
   "metadata": {},
   "outputs": [
    {
     "data": {
      "application/vnd.plotly.v1+json": {
       "config": {
        "plotlyServerURL": "https://plot.ly"
       },
       "data": [
        {
         "branchvalues": "total",
         "customdata": [
          [
           100
          ],
          [
           22051
          ],
          [
           252
          ],
          [
           6
          ],
          [
           35
          ],
          [
           4226
          ],
          [
           1
          ],
          [
           3
          ],
          [
           15
          ],
          [
           2
          ],
          [
           5
          ],
          [
           5
          ],
          [
           1
          ],
          [
           1
          ],
          [
           29198
          ],
          [
           1
          ],
          [
           6470
          ],
          [
           26
          ],
          [
           695
          ],
          [
           2756
          ],
          [
           135
          ],
          [
           1111
          ],
          [
           1
          ],
          [
           8
          ],
          [
           23
          ],
          [
           1
          ],
          [
           12
          ],
          [
           53
          ],
          [
           11
          ],
          [
           26
          ],
          [
           22
          ],
          [
           20
          ],
          [
           28
          ],
          [
           8
          ],
          [
           7
          ],
          [
           3015
          ],
          [
           9
          ],
          [
           53
          ],
          [
           3
          ],
          [
           3
          ],
          [
           8
          ],
          [
           87
          ],
          [
           2
          ],
          [
           239
          ],
          [
           5
          ],
          [
           58
          ],
          [
           8947
          ],
          [
           120
          ],
          [
           2
          ],
          [
           4
          ],
          [
           1
          ],
          [
           228
          ],
          [
           1015
          ],
          [
           315
          ],
          [
           238
          ],
          [
           20
          ],
          [
           13
          ],
          [
           101
          ],
          [
           1
          ],
          [
           29
          ],
          [
           281
          ],
          [
           40
          ],
          [
           4
          ],
          [
           1
          ],
          [
           16
          ],
          [
           1465
          ],
          [
           120
          ],
          [
           1526
          ],
          [
           1
          ],
          [
           2
          ],
          [
           7
          ],
          [
           3
          ],
          [
           2
          ],
          [
           2
          ],
          [
           2
          ],
          [
           2
          ],
          [
           2
          ],
          [
           2
          ],
          [
           2
          ],
          [
           207
          ],
          [
           1
          ],
          [
           2
          ],
          [
           1
          ],
          [
           4
          ],
          [
           3
          ],
          [
           5
          ],
          [
           4
          ],
          [
           1
          ],
          [
           6
          ],
          [
           637
          ],
          [
           9
          ],
          [
           66
          ],
          [
           15
          ],
          [
           59
          ],
          [
           19
          ],
          [
           789
          ],
          [
           2072
          ],
          [
           11
          ],
          [
           61
          ],
          [
           1224
          ],
          [
           16
          ],
          [
           5
          ],
          [
           31
          ],
          [
           2
          ],
          [
           6
          ],
          [
           48
          ],
          [
           3
          ],
          [
           24
          ],
          [
           2
          ],
          [
           29
          ],
          [
           12
          ],
          [
           6
          ],
          [
           1
          ],
          [
           82
          ],
          [
           26
          ],
          [
           6
          ],
          [
           1554
          ],
          [
           55
          ],
          [
           282
          ],
          [
           30
          ],
          [
           66
          ],
          [
           14
          ],
          [
           147
          ],
          [
           72
          ],
          [
           150
          ],
          [
           496
          ],
          [
           1
          ],
          [
           18
          ],
          [
           1
          ],
          [
           1
          ],
          [
           4
          ],
          [
           23
          ],
          [
           10
          ],
          [
           4
          ],
          [
           13
          ],
          [
           7
          ],
          [
           27
          ],
          [
           5
          ],
          [
           139
          ],
          [
           3
          ],
          [
           68
          ],
          [
           20
          ],
          [
           1
          ],
          [
           2
          ],
          [
           99
          ],
          [
           131
          ],
          [
           9
          ],
          [
           2
          ],
          [
           31
          ],
          [
           4
          ],
          [
           2
          ],
          [
           11
          ],
          [
           3
          ],
          [
           1
          ],
          [
           18
          ],
          [
           7
          ],
          [
           20
          ],
          [
           31
          ],
          [
           38
          ],
          [
           29
          ],
          [
           374
          ],
          [
           8
          ],
          [
           5
          ],
          [
           33
          ],
          [
           91
          ],
          [
           3
          ],
          [
           2
          ],
          [
           3
          ],
          [
           6
          ],
          [
           604
          ],
          [
           2
          ],
          [
           75
          ],
          [
           2
          ],
          [
           5
          ],
          [
           139
          ],
          [
           4
          ],
          [
           18
          ],
          [
           24
          ],
          [
           1580
          ],
          [
           624
          ],
          [
           2
          ],
          [
           1
          ],
          [
           6
          ],
          [
           3
          ],
          [
           2
          ],
          [
           2
          ],
          [
           2
          ],
          [
           2
          ],
          [
           2
          ],
          [
           2
          ],
          [
           2
          ],
          [
           5
          ],
          [
           2
          ],
          [
           75
          ],
          [
           2
          ],
          [
           35
          ],
          [
           3
          ],
          [
           4226
          ],
          [
           100
          ],
          [
           1
          ],
          [
           2
          ],
          [
           4
          ],
          [
           1
          ],
          [
           3
          ],
          [
           15
          ],
          [
           2
          ],
          [
           2
          ],
          [
           1
          ],
          [
           16
          ],
          [
           1224
          ],
          [
           91
          ],
          [
           1
          ],
          [
           1465
          ],
          [
           120
          ],
          [
           30
          ],
          [
           5
          ],
          [
           3
          ],
          [
           22051
          ],
          [
           59
          ],
          [
           19
          ],
          [
           7
          ],
          [
           496
          ],
          [
           24
          ],
          [
           2
          ],
          [
           5
          ],
          [
           207
          ],
          [
           1
          ],
          [
           8
          ],
          [
           55
          ],
          [
           82
          ],
          [
           66
          ],
          [
           14
          ],
          [
           147
          ],
          [
           1
          ],
          [
           2
          ],
          [
           6
          ],
          [
           239
          ],
          [
           2
          ],
          [
           4
          ],
          [
           18
          ],
          [
           7
          ],
          [
           20
          ],
          [
           31
          ],
          [
           38
          ],
          [
           53
          ],
          [
           789
          ],
          [
           228
          ],
          [
           9.125
          ],
          [
           3
          ],
          [
           6
          ],
          [
           1
          ],
          [
           4
          ],
          [
           3
          ],
          [
           5
          ],
          [
           26
          ],
          [
           22
          ],
          [
           604
          ],
          [
           2
          ],
          [
           20
          ],
          [
           28
          ],
          [
           3
          ],
          [
           8
          ],
          [
           7
          ],
          [
           1526
          ],
          [
           139
          ],
          [
           23
          ],
          [
           18
          ],
          [
           1
          ],
          [
           72
          ],
          [
           1
          ],
          [
           5
          ],
          [
           4
          ],
          [
           2
          ],
          [
           1
          ],
          [
           1
          ],
          [
           1
          ],
          [
           27
          ],
          [
           29198
          ],
          [
           29
          ],
          [
           12
          ],
          [
           58
          ],
          [
           10
          ],
          [
           4
          ],
          [
           131
          ],
          [
           31
          ],
          [
           2
          ],
          [
           5
          ],
          [
           33
          ],
          [
           6
          ],
          [
           282
          ],
          [
           68
          ],
          [
           9
          ],
          [
           2072
          ],
          [
           4
          ],
          [
           18
          ],
          [
           29
          ],
          [
           24
          ],
          [
           1015
          ],
          [
           637
          ],
          [
           3015
          ],
          [
           61
          ],
          [
           87
          ],
          [
           11
          ],
          [
           150
          ],
          [
           8.2
          ],
          [
           9
          ],
          [
           2
          ],
          [
           31
          ],
          [
           315
          ],
          [
           6248.888491353608
          ],
          [
           1
          ],
          [
           66
          ],
          [
           15
          ],
          [
           44.11392405063291
          ],
          [
           695
          ],
          [
           2756
          ],
          [
           8947
          ],
          [
           135
          ],
          [
           1111
          ],
          [
           20
          ],
          [
           1580
          ],
          [
           13
          ],
          [
           374
          ],
          [
           6
          ],
          [
           48
          ],
          [
           3
          ],
          [
           5
          ],
          [
           99
          ],
          [
           26
          ],
          [
           6
          ],
          [
           1554
          ],
          [
           4
          ],
          [
           624
          ],
          [
           139
          ],
          [
           13
          ],
          [
           7
          ],
          [
           11
          ],
          [
           101
          ],
          [
           3
          ],
          [
           1
          ],
          [
           29
          ],
          [
           3
          ],
          [
           281
          ],
          [
           39.048780487804876
          ],
          [
           8
          ],
          [
           4
          ],
          [
           1
          ],
          [
           252
          ],
          [
           8
          ],
          [
           23
          ],
          [
           120
          ],
          [
           1
          ],
          [
           12
          ],
          [
           20
          ],
          [
           16
          ]
         ],
         "domain": {
          "x": [
           0,
           1
          ],
          "y": [
           0,
           1
          ]
         },
         "hovertemplate": "labels=%{label}<br>count_sum=%{value}<br>parent=%{parent}<br>id=%{id}<br>count=%{color}<extra></extra>",
         "ids": [
          "TCHAR/CWE-119!/CWE-120",
          "char/CWE-119!/CWE-120",
          "wchar_t/CWE-119!/CWE-120",
          "CopyMemory/CWE-120",
          "MultiByteToWideChar/CWE-120",
          "StrCat/CWE-120",
          "_stprintf/CWE-120",
          "_tcscat/CWE-120",
          "_tcscpy/CWE-120",
          "_tcsncpy/CWE-120",
          "bcopy/CWE-120",
          "fscanf/CWE-120",
          "lstrcatW/CWE-120",
          "lstrcpy/CWE-120",
          "memcpy/CWE-120",
          "scanf/CWE-120",
          "sprintf/CWE-120",
          "sscanf/CWE-120",
          "strcat/CWE-120",
          "strcpy/CWE-120",
          "strncat/CWE-120",
          "strncpy/CWE-120",
          "vsprintf/CWE-120",
          "wcscat/CWE-120",
          "wcscpy/CWE-120",
          "wcsncat/CWE-120",
          "wcsncpy/CWE-120",
          "fgetc/CWE-120, CWE-20",
          "fscanf/CWE-120, CWE-20",
          "getc/CWE-120, CWE-20",
          "getchar/CWE-120, CWE-20",
          "getopt/CWE-120, CWE-20",
          "getopt_long/CWE-120, CWE-20",
          "gets/CWE-120, CWE-20",
          "getwd/CWE-120, CWE-20",
          "read/CWE-120, CWE-20",
          "scanf/CWE-120, CWE-20",
          "sscanf/CWE-120, CWE-20",
          "vfscanf/CWE-120, CWE-20",
          "vscanf/CWE-120, CWE-20",
          "vsscanf/CWE-120, CWE-20",
          "realpath/CWE-120/CWE-785!",
          "_tcslen/CWE-126",
          "equal/CWE-126",
          "is_permutation/CWE-126",
          "mismatch/CWE-126",
          "strlen/CWE-126",
          "wcslen/CWE-126",
          "_snprintf/CWE-134",
          "_sntprintf/CWE-134",
          "_vsntprintf/CWE-134",
          "fprintf/CWE-134",
          "printf/CWE-134",
          "snprintf/CWE-134",
          "sprintf/CWE-134",
          "swprintf/CWE-134",
          "syslog/CWE-134",
          "vfprintf/CWE-134",
          "vfwprintf/CWE-134",
          "vprintf/CWE-134",
          "vsnprintf/CWE-134",
          "vsprintf/CWE-134",
          "vswprintf/CWE-134",
          "vwprintf/CWE-134",
          "_wtoi/CWE-190",
          "atoi/CWE-190",
          "atol/CWE-190",
          "integerOverflow/CWE-190",
          "CoImpersonateClient/CWE-250",
          "ImpersonateLoggedOnUser/CWE-250",
          "chroot/CWE-250, CWE-22",
          "EVP_des_cbc/CWE-327",
          "EVP_des_cfb/CWE-327",
          "EVP_des_ecb/CWE-327",
          "EVP_des_ofb/CWE-327",
          "EVP_desx_cbc/CWE-327",
          "EVP_rc2_40_cbc/CWE-327",
          "EVP_rc2_64_cbc/CWE-327",
          "EVP_rc4_40/CWE-327",
          "crypt/CWE-327",
          "crypt_r/CWE-327",
          "erand48/CWE-327",
          "g_rand_int/CWE-327",
          "g_rand_int_range/CWE-327",
          "g_random_int/CWE-327",
          "g_random_int_range/CWE-327",
          "jrand48/CWE-327",
          "lrand48/CWE-327",
          "nrand48/CWE-327",
          "random/CWE-327",
          "setstate/CWE-327",
          "srand/CWE-327",
          "srandom/CWE-327",
          "chmod/CWE-362",
          "chown/CWE-362",
          "fopen/CWE-362",
          "open/CWE-362",
          "vfork/CWE-362",
          "readlink/CWE-362, CWE-20",
          "access/CWE-362/CWE-367!",
          "zerodiv/CWE-369",
          "GetTempFileName/CWE-377",
          "mkstemp/CWE-377",
          "mktemp/CWE-377",
          "tempnam/CWE-377",
          "tmpfile/CWE-377",
          "tmpnam/CWE-377",
          "containerOutOfBounds/CWE-398",
          "containerOutOfBoundsIndexExpression/CWE-398",
          "memleak/CWE-401",
          "memleakOnRealloc/CWE-401",
          "doubleFree/CWE-415",
          "deallocuse/CWE-416",
          "ctuuninitvar/CWE-457",
          "uninitStructMember/CWE-457",
          "uninitdata/CWE-457",
          "uninitvar/CWE-457",
          "ctunullpointer/CWE-476",
          "nullPointer/CWE-476",
          "autoVariables/CWE-562",
          "danglingLifetime/CWE-562",
          "danglingTempReference/CWE-562",
          "danglingTemporaryLifetime/CWE-562",
          "invalidLifetime/CWE-562",
          "returnDanglingLifetime/CWE-562",
          "comparePointers/CWE-570",
          "assignBoolToPointer/CWE-587",
          "invalidFunctionArg/CWE-628",
          "invalidFunctionArgStr/CWE-628",
          "sprintfOverlappingData/CWE-628",
          "eraseDereference/CWE-664",
          "invalidContainer/CWE-664",
          "mismatchingContainerExpression/CWE-664",
          "mismatchingContainers/CWE-664",
          "va_end_missing/CWE-664",
          "va_list_usedBeforeStarted/CWE-664",
          "memalign/CWE-676",
          "ulimit/CWE-676",
          "usleep/CWE-676",
          "getpass/CWE-676, CWE-120, CWE-20",
          "nullPointerArithmetic/CWE-682",
          "wrongPrintfScanfArgNum/CWE-685",
          "invalidScanfFormatWidth/CWE-687",
          "AddAccessAllowedAce/CWE-732",
          "umask/CWE-732",
          "missingReturn/CWE-758",
          "objectIndex/CWE-758",
          "shiftNegative/CWE-758",
          "shiftTooManyBits/CWE-758",
          "unknownEvaluationOrder/CWE-768",
          "leakReturnValNotUsed/CWE-771",
          "resourceLeak/CWE-775",
          "ShellExecute/CWE-78",
          "WinExec/CWE-78",
          "execl/CWE-78",
          "execle/CWE-78",
          "execlp/CWE-78",
          "execv/CWE-78",
          "execvp/CWE-78",
          "popen/CWE-78",
          "system/CWE-78",
          "ctuArrayIndex/CWE-786",
          "negativeContainerIndex/CWE-786",
          "negativeIndex/CWE-786",
          "arrayIndexOutOfBounds/CWE-788",
          "bufferAccessOutOfBounds/CWE-788",
          "getlogin/CWE-807",
          "g_get_home_dir/CWE-807, CWE-20",
          "g_get_tmp_dir/CWE-807, CWE-20",
          "getenv/CWE-807, CWE-20",
          "derefInvalidIterator/CWE-825",
          "LoadLibrary/CWE-829, CWE-20",
          "LoadLibraryEx/CWE-829, CWE-20",
          "cppcheckError/CWE-unknown",
          "internalAstError/CWE-unknown",
          "overlappingWriteFunction/CWE-unknown",
          "overlappingWriteUnion/CWE-unknown",
          "preprocessorErrorDirective/CWE-unknown",
          "syntaxError/CWE-unknown",
          "unknownMacro/CWE-unknown",
          "AddAccessAllowedAce",
          "CoImpersonateClient",
          "CopyMemory",
          "EVP_des_cbc",
          "EVP_des_cfb",
          "EVP_des_ecb",
          "EVP_des_ofb",
          "EVP_desx_cbc",
          "EVP_rc2_40_cbc",
          "EVP_rc2_64_cbc",
          "EVP_rc4_40",
          "GetTempFileName",
          "ImpersonateLoggedOnUser",
          "LoadLibrary",
          "LoadLibraryEx",
          "MultiByteToWideChar",
          "ShellExecute",
          "StrCat",
          "TCHAR",
          "WinExec",
          "_snprintf",
          "_sntprintf",
          "_stprintf",
          "_tcscat",
          "_tcscpy",
          "_tcslen",
          "_tcsncpy",
          "_vsntprintf",
          "_wtoi",
          "access",
          "arrayIndexOutOfBounds",
          "assignBoolToPointer",
          "atoi",
          "atol",
          "autoVariables",
          "bcopy",
          "bufferAccessOutOfBounds",
          "char",
          "chmod",
          "chown",
          "chroot",
          "comparePointers",
          "containerOutOfBounds",
          "containerOutOfBoundsIndexExpression",
          "cppcheckError",
          "crypt",
          "crypt_r",
          "ctuArrayIndex",
          "ctunullpointer",
          "ctuuninitvar",
          "danglingLifetime",
          "danglingTempReference",
          "danglingTemporaryLifetime",
          "deallocuse",
          "derefInvalidIterator",
          "doubleFree",
          "equal",
          "erand48",
          "eraseDereference",
          "execl",
          "execle",
          "execlp",
          "execv",
          "execvp",
          "fgetc",
          "fopen",
          "fprintf",
          "fscanf",
          "g_get_home_dir",
          "g_get_tmp_dir",
          "g_rand_int",
          "g_rand_int_range",
          "g_random_int",
          "g_random_int_range",
          "getc",
          "getchar",
          "getenv",
          "getlogin",
          "getopt",
          "getopt_long",
          "getpass",
          "gets",
          "getwd",
          "integerOverflow",
          "internalAstError",
          "invalidContainer",
          "invalidFunctionArg",
          "invalidFunctionArgStr",
          "invalidLifetime",
          "invalidScanfFormatWidth",
          "is_permutation",
          "jrand48",
          "leakReturnValNotUsed",
          "lrand48",
          "lstrcatW",
          "lstrcpy",
          "memalign",
          "memcpy",
          "memleak",
          "memleakOnRealloc",
          "mismatch",
          "mismatchingContainerExpression",
          "mismatchingContainers",
          "missingReturn",
          "mkstemp",
          "mktemp",
          "negativeContainerIndex",
          "negativeIndex",
          "nrand48",
          "nullPointer",
          "nullPointerArithmetic",
          "objectIndex",
          "open",
          "overlappingWriteFunction",
          "overlappingWriteUnion",
          "popen",
          "preprocessorErrorDirective",
          "printf",
          "random",
          "read",
          "readlink",
          "realpath",
          "resourceLeak",
          "returnDanglingLifetime",
          "scanf",
          "setstate",
          "shiftNegative",
          "shiftTooManyBits",
          "snprintf",
          "sprintf",
          "sprintfOverlappingData",
          "srand",
          "srandom",
          "sscanf",
          "strcat",
          "strcpy",
          "strlen",
          "strncat",
          "strncpy",
          "swprintf",
          "syntaxError",
          "syslog",
          "system",
          "tempnam",
          "tmpfile",
          "tmpnam",
          "ulimit",
          "umask",
          "uninitStructMember",
          "uninitdata",
          "uninitvar",
          "unknownEvaluationOrder",
          "unknownMacro",
          "usleep",
          "va_end_missing",
          "va_list_usedBeforeStarted",
          "vfork",
          "vfprintf",
          "vfscanf",
          "vfwprintf",
          "vprintf",
          "vscanf",
          "vsnprintf",
          "vsprintf",
          "vsscanf",
          "vswprintf",
          "vwprintf",
          "wchar_t",
          "wcscat",
          "wcscpy",
          "wcslen",
          "wcsncat",
          "wcsncpy",
          "wrongPrintfScanfArgNum",
          "zerodiv"
         ],
         "labels": [
          "CWE-119!/CWE-120",
          "CWE-119!/CWE-120",
          "CWE-119!/CWE-120",
          "CWE-120",
          "CWE-120",
          "CWE-120",
          "CWE-120",
          "CWE-120",
          "CWE-120",
          "CWE-120",
          "CWE-120",
          "CWE-120",
          "CWE-120",
          "CWE-120",
          "CWE-120",
          "CWE-120",
          "CWE-120",
          "CWE-120",
          "CWE-120",
          "CWE-120",
          "CWE-120",
          "CWE-120",
          "CWE-120",
          "CWE-120",
          "CWE-120",
          "CWE-120",
          "CWE-120",
          "CWE-120, CWE-20",
          "CWE-120, CWE-20",
          "CWE-120, CWE-20",
          "CWE-120, CWE-20",
          "CWE-120, CWE-20",
          "CWE-120, CWE-20",
          "CWE-120, CWE-20",
          "CWE-120, CWE-20",
          "CWE-120, CWE-20",
          "CWE-120, CWE-20",
          "CWE-120, CWE-20",
          "CWE-120, CWE-20",
          "CWE-120, CWE-20",
          "CWE-120, CWE-20",
          "CWE-120/CWE-785!",
          "CWE-126",
          "CWE-126",
          "CWE-126",
          "CWE-126",
          "CWE-126",
          "CWE-126",
          "CWE-134",
          "CWE-134",
          "CWE-134",
          "CWE-134",
          "CWE-134",
          "CWE-134",
          "CWE-134",
          "CWE-134",
          "CWE-134",
          "CWE-134",
          "CWE-134",
          "CWE-134",
          "CWE-134",
          "CWE-134",
          "CWE-134",
          "CWE-134",
          "CWE-190",
          "CWE-190",
          "CWE-190",
          "CWE-190",
          "CWE-250",
          "CWE-250",
          "CWE-250, CWE-22",
          "CWE-327",
          "CWE-327",
          "CWE-327",
          "CWE-327",
          "CWE-327",
          "CWE-327",
          "CWE-327",
          "CWE-327",
          "CWE-327",
          "CWE-327",
          "CWE-327",
          "CWE-327",
          "CWE-327",
          "CWE-327",
          "CWE-327",
          "CWE-327",
          "CWE-327",
          "CWE-327",
          "CWE-327",
          "CWE-327",
          "CWE-327",
          "CWE-327",
          "CWE-362",
          "CWE-362",
          "CWE-362",
          "CWE-362",
          "CWE-362",
          "CWE-362, CWE-20",
          "CWE-362/CWE-367!",
          "CWE-369",
          "CWE-377",
          "CWE-377",
          "CWE-377",
          "CWE-377",
          "CWE-377",
          "CWE-377",
          "CWE-398",
          "CWE-398",
          "CWE-401",
          "CWE-401",
          "CWE-415",
          "CWE-416",
          "CWE-457",
          "CWE-457",
          "CWE-457",
          "CWE-457",
          "CWE-476",
          "CWE-476",
          "CWE-562",
          "CWE-562",
          "CWE-562",
          "CWE-562",
          "CWE-562",
          "CWE-562",
          "CWE-570",
          "CWE-587",
          "CWE-628",
          "CWE-628",
          "CWE-628",
          "CWE-664",
          "CWE-664",
          "CWE-664",
          "CWE-664",
          "CWE-664",
          "CWE-664",
          "CWE-676",
          "CWE-676",
          "CWE-676",
          "CWE-676, CWE-120, CWE-20",
          "CWE-682",
          "CWE-685",
          "CWE-687",
          "CWE-732",
          "CWE-732",
          "CWE-758",
          "CWE-758",
          "CWE-758",
          "CWE-758",
          "CWE-768",
          "CWE-771",
          "CWE-775",
          "CWE-78",
          "CWE-78",
          "CWE-78",
          "CWE-78",
          "CWE-78",
          "CWE-78",
          "CWE-78",
          "CWE-78",
          "CWE-78",
          "CWE-786",
          "CWE-786",
          "CWE-786",
          "CWE-788",
          "CWE-788",
          "CWE-807",
          "CWE-807, CWE-20",
          "CWE-807, CWE-20",
          "CWE-807, CWE-20",
          "CWE-825",
          "CWE-829, CWE-20",
          "CWE-829, CWE-20",
          "CWE-unknown",
          "CWE-unknown",
          "CWE-unknown",
          "CWE-unknown",
          "CWE-unknown",
          "CWE-unknown",
          "CWE-unknown",
          "AddAccessAllowedAce",
          "CoImpersonateClient",
          "CopyMemory",
          "EVP_des_cbc",
          "EVP_des_cfb",
          "EVP_des_ecb",
          "EVP_des_ofb",
          "EVP_desx_cbc",
          "EVP_rc2_40_cbc",
          "EVP_rc2_64_cbc",
          "EVP_rc4_40",
          "GetTempFileName",
          "ImpersonateLoggedOnUser",
          "LoadLibrary",
          "LoadLibraryEx",
          "MultiByteToWideChar",
          "ShellExecute",
          "StrCat",
          "TCHAR",
          "WinExec",
          "_snprintf",
          "_sntprintf",
          "_stprintf",
          "_tcscat",
          "_tcscpy",
          "_tcslen",
          "_tcsncpy",
          "_vsntprintf",
          "_wtoi",
          "access",
          "arrayIndexOutOfBounds",
          "assignBoolToPointer",
          "atoi",
          "atol",
          "autoVariables",
          "bcopy",
          "bufferAccessOutOfBounds",
          "char",
          "chmod",
          "chown",
          "chroot",
          "comparePointers",
          "containerOutOfBounds",
          "containerOutOfBoundsIndexExpression",
          "cppcheckError",
          "crypt",
          "crypt_r",
          "ctuArrayIndex",
          "ctunullpointer",
          "ctuuninitvar",
          "danglingLifetime",
          "danglingTempReference",
          "danglingTemporaryLifetime",
          "deallocuse",
          "derefInvalidIterator",
          "doubleFree",
          "equal",
          "erand48",
          "eraseDereference",
          "execl",
          "execle",
          "execlp",
          "execv",
          "execvp",
          "fgetc",
          "fopen",
          "fprintf",
          "fscanf",
          "g_get_home_dir",
          "g_get_tmp_dir",
          "g_rand_int",
          "g_rand_int_range",
          "g_random_int",
          "g_random_int_range",
          "getc",
          "getchar",
          "getenv",
          "getlogin",
          "getopt",
          "getopt_long",
          "getpass",
          "gets",
          "getwd",
          "integerOverflow",
          "internalAstError",
          "invalidContainer",
          "invalidFunctionArg",
          "invalidFunctionArgStr",
          "invalidLifetime",
          "invalidScanfFormatWidth",
          "is_permutation",
          "jrand48",
          "leakReturnValNotUsed",
          "lrand48",
          "lstrcatW",
          "lstrcpy",
          "memalign",
          "memcpy",
          "memleak",
          "memleakOnRealloc",
          "mismatch",
          "mismatchingContainerExpression",
          "mismatchingContainers",
          "missingReturn",
          "mkstemp",
          "mktemp",
          "negativeContainerIndex",
          "negativeIndex",
          "nrand48",
          "nullPointer",
          "nullPointerArithmetic",
          "objectIndex",
          "open",
          "overlappingWriteFunction",
          "overlappingWriteUnion",
          "popen",
          "preprocessorErrorDirective",
          "printf",
          "random",
          "read",
          "readlink",
          "realpath",
          "resourceLeak",
          "returnDanglingLifetime",
          "scanf",
          "setstate",
          "shiftNegative",
          "shiftTooManyBits",
          "snprintf",
          "sprintf",
          "sprintfOverlappingData",
          "srand",
          "srandom",
          "sscanf",
          "strcat",
          "strcpy",
          "strlen",
          "strncat",
          "strncpy",
          "swprintf",
          "syntaxError",
          "syslog",
          "system",
          "tempnam",
          "tmpfile",
          "tmpnam",
          "ulimit",
          "umask",
          "uninitStructMember",
          "uninitdata",
          "uninitvar",
          "unknownEvaluationOrder",
          "unknownMacro",
          "usleep",
          "va_end_missing",
          "va_list_usedBeforeStarted",
          "vfork",
          "vfprintf",
          "vfscanf",
          "vfwprintf",
          "vprintf",
          "vscanf",
          "vsnprintf",
          "vsprintf",
          "vsscanf",
          "vswprintf",
          "vwprintf",
          "wchar_t",
          "wcscat",
          "wcscpy",
          "wcslen",
          "wcsncat",
          "wcsncpy",
          "wrongPrintfScanfArgNum",
          "zerodiv"
         ],
         "marker": {
          "coloraxis": "coloraxis",
          "colors": [
           100,
           22051,
           252,
           6,
           35,
           4226,
           1,
           3,
           15,
           2,
           5,
           5,
           1,
           1,
           29198,
           1,
           6470,
           26,
           695,
           2756,
           135,
           1111,
           1,
           8,
           23,
           1,
           12,
           53,
           11,
           26,
           22,
           20,
           28,
           8,
           7,
           3015,
           9,
           53,
           3,
           3,
           8,
           87,
           2,
           239,
           5,
           58,
           8947,
           120,
           2,
           4,
           1,
           228,
           1015,
           315,
           238,
           20,
           13,
           101,
           1,
           29,
           281,
           40,
           4,
           1,
           16,
           1465,
           120,
           1526,
           1,
           2,
           7,
           3,
           2,
           2,
           2,
           2,
           2,
           2,
           2,
           207,
           1,
           2,
           1,
           4,
           3,
           5,
           4,
           1,
           6,
           637,
           9,
           66,
           15,
           59,
           19,
           789,
           2072,
           11,
           61,
           1224,
           16,
           5,
           31,
           2,
           6,
           48,
           3,
           24,
           2,
           29,
           12,
           6,
           1,
           82,
           26,
           6,
           1554,
           55,
           282,
           30,
           66,
           14,
           147,
           72,
           150,
           496,
           1,
           18,
           1,
           1,
           4,
           23,
           10,
           4,
           13,
           7,
           27,
           5,
           139,
           3,
           68,
           20,
           1,
           2,
           99,
           131,
           9,
           2,
           31,
           4,
           2,
           11,
           3,
           1,
           18,
           7,
           20,
           31,
           38,
           29,
           374,
           8,
           5,
           33,
           91,
           3,
           2,
           3,
           6,
           604,
           2,
           75,
           2,
           5,
           139,
           4,
           18,
           24,
           1580,
           624,
           2,
           1,
           6,
           3,
           2,
           2,
           2,
           2,
           2,
           2,
           2,
           5,
           2,
           75,
           2,
           35,
           3,
           4226,
           100,
           1,
           2,
           4,
           1,
           3,
           15,
           2,
           2,
           1,
           16,
           1224,
           91,
           1,
           1465,
           120,
           30,
           5,
           3,
           22051,
           59,
           19,
           7,
           496,
           24,
           2,
           5,
           207,
           1,
           8,
           55,
           82,
           66,
           14,
           147,
           1,
           2,
           6,
           239,
           2,
           4,
           18,
           7,
           20,
           31,
           38,
           53,
           789,
           228,
           9.125,
           3,
           6,
           1,
           4,
           3,
           5,
           26,
           22,
           604,
           2,
           20,
           28,
           3,
           8,
           7,
           1526,
           139,
           23,
           18,
           1,
           72,
           1,
           5,
           4,
           2,
           1,
           1,
           1,
           27,
           29198,
           29,
           12,
           58,
           10,
           4,
           131,
           31,
           2,
           5,
           33,
           6,
           282,
           68,
           9,
           2072,
           4,
           18,
           29,
           24,
           1015,
           637,
           3015,
           61,
           87,
           11,
           150,
           8.2,
           9,
           2,
           31,
           315,
           6248.888491353608,
           1,
           66,
           15,
           44.11392405063291,
           695,
           2756,
           8947,
           135,
           1111,
           20,
           1580,
           13,
           374,
           6,
           48,
           3,
           5,
           99,
           26,
           6,
           1554,
           4,
           624,
           139,
           13,
           7,
           11,
           101,
           3,
           1,
           29,
           3,
           281,
           39.048780487804876,
           8,
           4,
           1,
           252,
           8,
           23,
           120,
           1,
           12,
           20,
           16
          ]
         },
         "name": "",
         "parents": [
          "TCHAR",
          "char",
          "wchar_t",
          "CopyMemory",
          "MultiByteToWideChar",
          "StrCat",
          "_stprintf",
          "_tcscat",
          "_tcscpy",
          "_tcsncpy",
          "bcopy",
          "fscanf",
          "lstrcatW",
          "lstrcpy",
          "memcpy",
          "scanf",
          "sprintf",
          "sscanf",
          "strcat",
          "strcpy",
          "strncat",
          "strncpy",
          "vsprintf",
          "wcscat",
          "wcscpy",
          "wcsncat",
          "wcsncpy",
          "fgetc",
          "fscanf",
          "getc",
          "getchar",
          "getopt",
          "getopt_long",
          "gets",
          "getwd",
          "read",
          "scanf",
          "sscanf",
          "vfscanf",
          "vscanf",
          "vsscanf",
          "realpath",
          "_tcslen",
          "equal",
          "is_permutation",
          "mismatch",
          "strlen",
          "wcslen",
          "_snprintf",
          "_sntprintf",
          "_vsntprintf",
          "fprintf",
          "printf",
          "snprintf",
          "sprintf",
          "swprintf",
          "syslog",
          "vfprintf",
          "vfwprintf",
          "vprintf",
          "vsnprintf",
          "vsprintf",
          "vswprintf",
          "vwprintf",
          "_wtoi",
          "atoi",
          "atol",
          "integerOverflow",
          "CoImpersonateClient",
          "ImpersonateLoggedOnUser",
          "chroot",
          "EVP_des_cbc",
          "EVP_des_cfb",
          "EVP_des_ecb",
          "EVP_des_ofb",
          "EVP_desx_cbc",
          "EVP_rc2_40_cbc",
          "EVP_rc2_64_cbc",
          "EVP_rc4_40",
          "crypt",
          "crypt_r",
          "erand48",
          "g_rand_int",
          "g_rand_int_range",
          "g_random_int",
          "g_random_int_range",
          "jrand48",
          "lrand48",
          "nrand48",
          "random",
          "setstate",
          "srand",
          "srandom",
          "chmod",
          "chown",
          "fopen",
          "open",
          "vfork",
          "readlink",
          "access",
          "zerodiv",
          "GetTempFileName",
          "mkstemp",
          "mktemp",
          "tempnam",
          "tmpfile",
          "tmpnam",
          "containerOutOfBounds",
          "containerOutOfBoundsIndexExpression",
          "memleak",
          "memleakOnRealloc",
          "doubleFree",
          "deallocuse",
          "ctuuninitvar",
          "uninitStructMember",
          "uninitdata",
          "uninitvar",
          "ctunullpointer",
          "nullPointer",
          "autoVariables",
          "danglingLifetime",
          "danglingTempReference",
          "danglingTemporaryLifetime",
          "invalidLifetime",
          "returnDanglingLifetime",
          "comparePointers",
          "assignBoolToPointer",
          "invalidFunctionArg",
          "invalidFunctionArgStr",
          "sprintfOverlappingData",
          "eraseDereference",
          "invalidContainer",
          "mismatchingContainerExpression",
          "mismatchingContainers",
          "va_end_missing",
          "va_list_usedBeforeStarted",
          "memalign",
          "ulimit",
          "usleep",
          "getpass",
          "nullPointerArithmetic",
          "wrongPrintfScanfArgNum",
          "invalidScanfFormatWidth",
          "AddAccessAllowedAce",
          "umask",
          "missingReturn",
          "objectIndex",
          "shiftNegative",
          "shiftTooManyBits",
          "unknownEvaluationOrder",
          "leakReturnValNotUsed",
          "resourceLeak",
          "ShellExecute",
          "WinExec",
          "execl",
          "execle",
          "execlp",
          "execv",
          "execvp",
          "popen",
          "system",
          "ctuArrayIndex",
          "negativeContainerIndex",
          "negativeIndex",
          "arrayIndexOutOfBounds",
          "bufferAccessOutOfBounds",
          "getlogin",
          "g_get_home_dir",
          "g_get_tmp_dir",
          "getenv",
          "derefInvalidIterator",
          "LoadLibrary",
          "LoadLibraryEx",
          "cppcheckError",
          "internalAstError",
          "overlappingWriteFunction",
          "overlappingWriteUnion",
          "preprocessorErrorDirective",
          "syntaxError",
          "unknownMacro",
          "",
          "",
          "",
          "",
          "",
          "",
          "",
          "",
          "",
          "",
          "",
          "",
          "",
          "",
          "",
          "",
          "",
          "",
          "",
          "",
          "",
          "",
          "",
          "",
          "",
          "",
          "",
          "",
          "",
          "",
          "",
          "",
          "",
          "",
          "",
          "",
          "",
          "",
          "",
          "",
          "",
          "",
          "",
          "",
          "",
          "",
          "",
          "",
          "",
          "",
          "",
          "",
          "",
          "",
          "",
          "",
          "",
          "",
          "",
          "",
          "",
          "",
          "",
          "",
          "",
          "",
          "",
          "",
          "",
          "",
          "",
          "",
          "",
          "",
          "",
          "",
          "",
          "",
          "",
          "",
          "",
          "",
          "",
          "",
          "",
          "",
          "",
          "",
          "",
          "",
          "",
          "",
          "",
          "",
          "",
          "",
          "",
          "",
          "",
          "",
          "",
          "",
          "",
          "",
          "",
          "",
          "",
          "",
          "",
          "",
          "",
          "",
          "",
          "",
          "",
          "",
          "",
          "",
          "",
          "",
          "",
          "",
          "",
          "",
          "",
          "",
          "",
          "",
          "",
          "",
          "",
          "",
          "",
          "",
          "",
          "",
          "",
          "",
          "",
          "",
          "",
          "",
          "",
          "",
          "",
          "",
          "",
          "",
          "",
          "",
          "",
          "",
          "",
          "",
          "",
          "",
          "",
          "",
          "",
          "",
          "",
          "",
          "",
          "",
          "",
          "",
          "",
          "",
          "",
          "",
          "",
          "",
          "",
          "",
          ""
         ],
         "type": "treemap",
         "values": [
          100,
          22051,
          252,
          6,
          35,
          4226,
          1,
          3,
          15,
          2,
          5,
          5,
          1,
          1,
          29198,
          1,
          6470,
          26,
          695,
          2756,
          135,
          1111,
          1,
          8,
          23,
          1,
          12,
          53,
          11,
          26,
          22,
          20,
          28,
          8,
          7,
          3015,
          9,
          53,
          3,
          3,
          8,
          87,
          2,
          239,
          5,
          58,
          8947,
          120,
          2,
          4,
          1,
          228,
          1015,
          315,
          238,
          20,
          13,
          101,
          1,
          29,
          281,
          40,
          4,
          1,
          16,
          1465,
          120,
          1526,
          1,
          2,
          7,
          3,
          2,
          2,
          2,
          2,
          2,
          2,
          2,
          207,
          1,
          2,
          1,
          4,
          3,
          5,
          4,
          1,
          6,
          637,
          9,
          66,
          15,
          59,
          19,
          789,
          2072,
          11,
          61,
          1224,
          16,
          5,
          31,
          2,
          6,
          48,
          3,
          24,
          2,
          29,
          12,
          6,
          1,
          82,
          26,
          6,
          1554,
          55,
          282,
          30,
          66,
          14,
          147,
          72,
          150,
          496,
          1,
          18,
          1,
          1,
          4,
          23,
          10,
          4,
          13,
          7,
          27,
          5,
          139,
          3,
          68,
          20,
          1,
          2,
          99,
          131,
          9,
          2,
          31,
          4,
          2,
          11,
          3,
          1,
          18,
          7,
          20,
          31,
          38,
          29,
          374,
          8,
          5,
          33,
          91,
          3,
          2,
          3,
          6,
          604,
          2,
          75,
          2,
          5,
          139,
          4,
          18,
          24,
          1580,
          624,
          2,
          1,
          6,
          3,
          2,
          2,
          2,
          2,
          2,
          2,
          2,
          5,
          2,
          75,
          2,
          35,
          3,
          4226,
          100,
          1,
          2,
          4,
          1,
          3,
          15,
          2,
          2,
          1,
          16,
          1224,
          91,
          1,
          1465,
          120,
          30,
          5,
          3,
          22051,
          59,
          19,
          7,
          496,
          24,
          2,
          5,
          207,
          1,
          8,
          55,
          82,
          66,
          14,
          147,
          1,
          2,
          6,
          239,
          2,
          4,
          18,
          7,
          20,
          31,
          38,
          53,
          789,
          228,
          16,
          3,
          6,
          1,
          4,
          3,
          5,
          26,
          22,
          604,
          2,
          20,
          28,
          3,
          8,
          7,
          1526,
          139,
          23,
          18,
          1,
          72,
          1,
          5,
          4,
          2,
          1,
          1,
          1,
          27,
          29198,
          29,
          12,
          58,
          10,
          4,
          131,
          31,
          2,
          5,
          33,
          6,
          282,
          68,
          9,
          2072,
          4,
          18,
          29,
          24,
          1015,
          637,
          3015,
          61,
          87,
          11,
          150,
          10,
          9,
          2,
          31,
          315,
          6708,
          1,
          66,
          15,
          79,
          695,
          2756,
          8947,
          135,
          1111,
          20,
          1580,
          13,
          374,
          6,
          48,
          3,
          5,
          99,
          26,
          6,
          1554,
          4,
          624,
          139,
          13,
          7,
          11,
          101,
          3,
          1,
          29,
          3,
          281,
          41,
          8,
          4,
          1,
          252,
          8,
          23,
          120,
          1,
          12,
          20,
          16
         ]
        }
       ],
       "layout": {
        "autosize": true,
        "coloraxis": {
         "colorbar": {
          "title": {
           "text": "count"
          }
         },
         "colorscale": [
          [
           0,
           "rgb(255,245,240)"
          ],
          [
           0.125,
           "rgb(254,224,210)"
          ],
          [
           0.25,
           "rgb(252,187,161)"
          ],
          [
           0.375,
           "rgb(252,146,114)"
          ],
          [
           0.5,
           "rgb(251,106,74)"
          ],
          [
           0.625,
           "rgb(239,59,44)"
          ],
          [
           0.75,
           "rgb(203,24,29)"
          ],
          [
           0.875,
           "rgb(165,15,21)"
          ],
          [
           1,
           "rgb(103,0,13)"
          ]
         ]
        },
        "font": {
         "size": 16
        },
        "height": 800,
        "legend": {
         "tracegroupgap": 0
        },
        "template": {
         "data": {
          "bar": [
           {
            "error_x": {
             "color": "#2a3f5f"
            },
            "error_y": {
             "color": "#2a3f5f"
            },
            "marker": {
             "line": {
              "color": "#E5ECF6",
              "width": 0.5
             },
             "pattern": {
              "fillmode": "overlay",
              "size": 10,
              "solidity": 0.2
             }
            },
            "type": "bar"
           }
          ],
          "barpolar": [
           {
            "marker": {
             "line": {
              "color": "#E5ECF6",
              "width": 0.5
             },
             "pattern": {
              "fillmode": "overlay",
              "size": 10,
              "solidity": 0.2
             }
            },
            "type": "barpolar"
           }
          ],
          "carpet": [
           {
            "aaxis": {
             "endlinecolor": "#2a3f5f",
             "gridcolor": "white",
             "linecolor": "white",
             "minorgridcolor": "white",
             "startlinecolor": "#2a3f5f"
            },
            "baxis": {
             "endlinecolor": "#2a3f5f",
             "gridcolor": "white",
             "linecolor": "white",
             "minorgridcolor": "white",
             "startlinecolor": "#2a3f5f"
            },
            "type": "carpet"
           }
          ],
          "choropleth": [
           {
            "colorbar": {
             "outlinewidth": 0,
             "ticks": ""
            },
            "type": "choropleth"
           }
          ],
          "contour": [
           {
            "colorbar": {
             "outlinewidth": 0,
             "ticks": ""
            },
            "colorscale": [
             [
              0,
              "#0d0887"
             ],
             [
              0.1111111111111111,
              "#46039f"
             ],
             [
              0.2222222222222222,
              "#7201a8"
             ],
             [
              0.3333333333333333,
              "#9c179e"
             ],
             [
              0.4444444444444444,
              "#bd3786"
             ],
             [
              0.5555555555555556,
              "#d8576b"
             ],
             [
              0.6666666666666666,
              "#ed7953"
             ],
             [
              0.7777777777777778,
              "#fb9f3a"
             ],
             [
              0.8888888888888888,
              "#fdca26"
             ],
             [
              1,
              "#f0f921"
             ]
            ],
            "type": "contour"
           }
          ],
          "contourcarpet": [
           {
            "colorbar": {
             "outlinewidth": 0,
             "ticks": ""
            },
            "type": "contourcarpet"
           }
          ],
          "heatmap": [
           {
            "colorbar": {
             "outlinewidth": 0,
             "ticks": ""
            },
            "colorscale": [
             [
              0,
              "#0d0887"
             ],
             [
              0.1111111111111111,
              "#46039f"
             ],
             [
              0.2222222222222222,
              "#7201a8"
             ],
             [
              0.3333333333333333,
              "#9c179e"
             ],
             [
              0.4444444444444444,
              "#bd3786"
             ],
             [
              0.5555555555555556,
              "#d8576b"
             ],
             [
              0.6666666666666666,
              "#ed7953"
             ],
             [
              0.7777777777777778,
              "#fb9f3a"
             ],
             [
              0.8888888888888888,
              "#fdca26"
             ],
             [
              1,
              "#f0f921"
             ]
            ],
            "type": "heatmap"
           }
          ],
          "heatmapgl": [
           {
            "colorbar": {
             "outlinewidth": 0,
             "ticks": ""
            },
            "colorscale": [
             [
              0,
              "#0d0887"
             ],
             [
              0.1111111111111111,
              "#46039f"
             ],
             [
              0.2222222222222222,
              "#7201a8"
             ],
             [
              0.3333333333333333,
              "#9c179e"
             ],
             [
              0.4444444444444444,
              "#bd3786"
             ],
             [
              0.5555555555555556,
              "#d8576b"
             ],
             [
              0.6666666666666666,
              "#ed7953"
             ],
             [
              0.7777777777777778,
              "#fb9f3a"
             ],
             [
              0.8888888888888888,
              "#fdca26"
             ],
             [
              1,
              "#f0f921"
             ]
            ],
            "type": "heatmapgl"
           }
          ],
          "histogram": [
           {
            "marker": {
             "pattern": {
              "fillmode": "overlay",
              "size": 10,
              "solidity": 0.2
             }
            },
            "type": "histogram"
           }
          ],
          "histogram2d": [
           {
            "colorbar": {
             "outlinewidth": 0,
             "ticks": ""
            },
            "colorscale": [
             [
              0,
              "#0d0887"
             ],
             [
              0.1111111111111111,
              "#46039f"
             ],
             [
              0.2222222222222222,
              "#7201a8"
             ],
             [
              0.3333333333333333,
              "#9c179e"
             ],
             [
              0.4444444444444444,
              "#bd3786"
             ],
             [
              0.5555555555555556,
              "#d8576b"
             ],
             [
              0.6666666666666666,
              "#ed7953"
             ],
             [
              0.7777777777777778,
              "#fb9f3a"
             ],
             [
              0.8888888888888888,
              "#fdca26"
             ],
             [
              1,
              "#f0f921"
             ]
            ],
            "type": "histogram2d"
           }
          ],
          "histogram2dcontour": [
           {
            "colorbar": {
             "outlinewidth": 0,
             "ticks": ""
            },
            "colorscale": [
             [
              0,
              "#0d0887"
             ],
             [
              0.1111111111111111,
              "#46039f"
             ],
             [
              0.2222222222222222,
              "#7201a8"
             ],
             [
              0.3333333333333333,
              "#9c179e"
             ],
             [
              0.4444444444444444,
              "#bd3786"
             ],
             [
              0.5555555555555556,
              "#d8576b"
             ],
             [
              0.6666666666666666,
              "#ed7953"
             ],
             [
              0.7777777777777778,
              "#fb9f3a"
             ],
             [
              0.8888888888888888,
              "#fdca26"
             ],
             [
              1,
              "#f0f921"
             ]
            ],
            "type": "histogram2dcontour"
           }
          ],
          "mesh3d": [
           {
            "colorbar": {
             "outlinewidth": 0,
             "ticks": ""
            },
            "type": "mesh3d"
           }
          ],
          "parcoords": [
           {
            "line": {
             "colorbar": {
              "outlinewidth": 0,
              "ticks": ""
             }
            },
            "type": "parcoords"
           }
          ],
          "pie": [
           {
            "automargin": true,
            "type": "pie"
           }
          ],
          "scatter": [
           {
            "fillpattern": {
             "fillmode": "overlay",
             "size": 10,
             "solidity": 0.2
            },
            "type": "scatter"
           }
          ],
          "scatter3d": [
           {
            "line": {
             "colorbar": {
              "outlinewidth": 0,
              "ticks": ""
             }
            },
            "marker": {
             "colorbar": {
              "outlinewidth": 0,
              "ticks": ""
             }
            },
            "type": "scatter3d"
           }
          ],
          "scattercarpet": [
           {
            "marker": {
             "colorbar": {
              "outlinewidth": 0,
              "ticks": ""
             }
            },
            "type": "scattercarpet"
           }
          ],
          "scattergeo": [
           {
            "marker": {
             "colorbar": {
              "outlinewidth": 0,
              "ticks": ""
             }
            },
            "type": "scattergeo"
           }
          ],
          "scattergl": [
           {
            "marker": {
             "colorbar": {
              "outlinewidth": 0,
              "ticks": ""
             }
            },
            "type": "scattergl"
           }
          ],
          "scattermapbox": [
           {
            "marker": {
             "colorbar": {
              "outlinewidth": 0,
              "ticks": ""
             }
            },
            "type": "scattermapbox"
           }
          ],
          "scatterpolar": [
           {
            "marker": {
             "colorbar": {
              "outlinewidth": 0,
              "ticks": ""
             }
            },
            "type": "scatterpolar"
           }
          ],
          "scatterpolargl": [
           {
            "marker": {
             "colorbar": {
              "outlinewidth": 0,
              "ticks": ""
             }
            },
            "type": "scatterpolargl"
           }
          ],
          "scatterternary": [
           {
            "marker": {
             "colorbar": {
              "outlinewidth": 0,
              "ticks": ""
             }
            },
            "type": "scatterternary"
           }
          ],
          "surface": [
           {
            "colorbar": {
             "outlinewidth": 0,
             "ticks": ""
            },
            "colorscale": [
             [
              0,
              "#0d0887"
             ],
             [
              0.1111111111111111,
              "#46039f"
             ],
             [
              0.2222222222222222,
              "#7201a8"
             ],
             [
              0.3333333333333333,
              "#9c179e"
             ],
             [
              0.4444444444444444,
              "#bd3786"
             ],
             [
              0.5555555555555556,
              "#d8576b"
             ],
             [
              0.6666666666666666,
              "#ed7953"
             ],
             [
              0.7777777777777778,
              "#fb9f3a"
             ],
             [
              0.8888888888888888,
              "#fdca26"
             ],
             [
              1,
              "#f0f921"
             ]
            ],
            "type": "surface"
           }
          ],
          "table": [
           {
            "cells": {
             "fill": {
              "color": "#EBF0F8"
             },
             "line": {
              "color": "white"
             }
            },
            "header": {
             "fill": {
              "color": "#C8D4E3"
             },
             "line": {
              "color": "white"
             }
            },
            "type": "table"
           }
          ]
         },
         "layout": {
          "annotationdefaults": {
           "arrowcolor": "#2a3f5f",
           "arrowhead": 0,
           "arrowwidth": 1
          },
          "autotypenumbers": "strict",
          "coloraxis": {
           "colorbar": {
            "outlinewidth": 0,
            "ticks": ""
           }
          },
          "colorscale": {
           "diverging": [
            [
             0,
             "#8e0152"
            ],
            [
             0.1,
             "#c51b7d"
            ],
            [
             0.2,
             "#de77ae"
            ],
            [
             0.3,
             "#f1b6da"
            ],
            [
             0.4,
             "#fde0ef"
            ],
            [
             0.5,
             "#f7f7f7"
            ],
            [
             0.6,
             "#e6f5d0"
            ],
            [
             0.7,
             "#b8e186"
            ],
            [
             0.8,
             "#7fbc41"
            ],
            [
             0.9,
             "#4d9221"
            ],
            [
             1,
             "#276419"
            ]
           ],
           "sequential": [
            [
             0,
             "#0d0887"
            ],
            [
             0.1111111111111111,
             "#46039f"
            ],
            [
             0.2222222222222222,
             "#7201a8"
            ],
            [
             0.3333333333333333,
             "#9c179e"
            ],
            [
             0.4444444444444444,
             "#bd3786"
            ],
            [
             0.5555555555555556,
             "#d8576b"
            ],
            [
             0.6666666666666666,
             "#ed7953"
            ],
            [
             0.7777777777777778,
             "#fb9f3a"
            ],
            [
             0.8888888888888888,
             "#fdca26"
            ],
            [
             1,
             "#f0f921"
            ]
           ],
           "sequentialminus": [
            [
             0,
             "#0d0887"
            ],
            [
             0.1111111111111111,
             "#46039f"
            ],
            [
             0.2222222222222222,
             "#7201a8"
            ],
            [
             0.3333333333333333,
             "#9c179e"
            ],
            [
             0.4444444444444444,
             "#bd3786"
            ],
            [
             0.5555555555555556,
             "#d8576b"
            ],
            [
             0.6666666666666666,
             "#ed7953"
            ],
            [
             0.7777777777777778,
             "#fb9f3a"
            ],
            [
             0.8888888888888888,
             "#fdca26"
            ],
            [
             1,
             "#f0f921"
            ]
           ]
          },
          "colorway": [
           "#636efa",
           "#EF553B",
           "#00cc96",
           "#ab63fa",
           "#FFA15A",
           "#19d3f3",
           "#FF6692",
           "#B6E880",
           "#FF97FF",
           "#FECB52"
          ],
          "font": {
           "color": "#2a3f5f"
          },
          "geo": {
           "bgcolor": "white",
           "lakecolor": "white",
           "landcolor": "#E5ECF6",
           "showlakes": true,
           "showland": true,
           "subunitcolor": "white"
          },
          "hoverlabel": {
           "align": "left"
          },
          "hovermode": "closest",
          "mapbox": {
           "style": "light"
          },
          "paper_bgcolor": "white",
          "plot_bgcolor": "#E5ECF6",
          "polar": {
           "angularaxis": {
            "gridcolor": "white",
            "linecolor": "white",
            "ticks": ""
           },
           "bgcolor": "#E5ECF6",
           "radialaxis": {
            "gridcolor": "white",
            "linecolor": "white",
            "ticks": ""
           }
          },
          "scene": {
           "xaxis": {
            "backgroundcolor": "#E5ECF6",
            "gridcolor": "white",
            "gridwidth": 2,
            "linecolor": "white",
            "showbackground": true,
            "ticks": "",
            "zerolinecolor": "white"
           },
           "yaxis": {
            "backgroundcolor": "#E5ECF6",
            "gridcolor": "white",
            "gridwidth": 2,
            "linecolor": "white",
            "showbackground": true,
            "ticks": "",
            "zerolinecolor": "white"
           },
           "zaxis": {
            "backgroundcolor": "#E5ECF6",
            "gridcolor": "white",
            "gridwidth": 2,
            "linecolor": "white",
            "showbackground": true,
            "ticks": "",
            "zerolinecolor": "white"
           }
          },
          "shapedefaults": {
           "line": {
            "color": "#2a3f5f"
           }
          },
          "ternary": {
           "aaxis": {
            "gridcolor": "white",
            "linecolor": "white",
            "ticks": ""
           },
           "baxis": {
            "gridcolor": "white",
            "linecolor": "white",
            "ticks": ""
           },
           "bgcolor": "#E5ECF6",
           "caxis": {
            "gridcolor": "white",
            "linecolor": "white",
            "ticks": ""
           }
          },
          "title": {
           "x": 0.05
          },
          "xaxis": {
           "automargin": true,
           "gridcolor": "white",
           "linecolor": "white",
           "ticks": "",
           "title": {
            "standoff": 15
           },
           "zerolinecolor": "white",
           "zerolinewidth": 2
          },
          "yaxis": {
           "automargin": true,
           "gridcolor": "white",
           "linecolor": "white",
           "ticks": "",
           "title": {
            "standoff": 15
           },
           "zerolinecolor": "white",
           "zerolinewidth": 2
          }
         }
        },
        "title": {
         "text": "Treemap"
        },
        "width": 800
       }
      }
     },
     "metadata": {},
     "output_type": "display_data"
    }
   ],
   "source": [
    "# Create a treemap from the same data\n",
    "fig = px.treemap(dfplt, \n",
    "    path=['category', 'cwe'],\n",
    "    values='count',\n",
    "    color='count',\n",
    "    color_continuous_scale='Reds',\n",
    "    title='Treemap'\n",
    ")\n",
    "\n",
    "# Update layout if necessary\n",
    "fig.update_layout(\n",
    "    autosize=True,\n",
    "    width=800,\n",
    "    height=800,\n",
    "    font=dict( \n",
    "        size=16,\n",
    "    )\n",
    ")\n",
    "# Show the treemap\n",
    "fig.show()\n",
    "fig.write_image(fig_dir / \"vul-statistics.png\", width=800, height=800)"
   ]
  },
  {
   "cell_type": "code",
   "execution_count": 5,
   "metadata": {},
   "outputs": [
    {
     "data": {
      "text/html": [
       "<div>\n",
       "<style scoped>\n",
       "    .dataframe tbody tr th:only-of-type {\n",
       "        vertical-align: middle;\n",
       "    }\n",
       "\n",
       "    .dataframe tbody tr th {\n",
       "        vertical-align: top;\n",
       "    }\n",
       "\n",
       "    .dataframe thead th {\n",
       "        text-align: right;\n",
       "    }\n",
       "</style>\n",
       "<table border=\"1\" class=\"dataframe\">\n",
       "  <thead>\n",
       "    <tr style=\"text-align: right;\">\n",
       "      <th></th>\n",
       "      <th>category</th>\n",
       "      <th>cwe</th>\n",
       "      <th>count</th>\n",
       "    </tr>\n",
       "  </thead>\n",
       "  <tbody>\n",
       "    <tr>\n",
       "      <th>84</th>\n",
       "      <td>memcpy</td>\n",
       "      <td>CWE-120</td>\n",
       "      <td>29198</td>\n",
       "    </tr>\n",
       "    <tr>\n",
       "      <th>67</th>\n",
       "      <td>char</td>\n",
       "      <td>CWE-119!/CWE-120</td>\n",
       "      <td>22051</td>\n",
       "    </tr>\n",
       "    <tr>\n",
       "      <th>95</th>\n",
       "      <td>strlen</td>\n",
       "      <td>CWE-126</td>\n",
       "      <td>8947</td>\n",
       "    </tr>\n",
       "    <tr>\n",
       "      <th>90</th>\n",
       "      <td>sprintf</td>\n",
       "      <td>CWE-120</td>\n",
       "      <td>6470</td>\n",
       "    </tr>\n",
       "    <tr>\n",
       "      <th>59</th>\n",
       "      <td>StrCat</td>\n",
       "      <td>CWE-120</td>\n",
       "      <td>4226</td>\n",
       "    </tr>\n",
       "    <tr>\n",
       "      <th>86</th>\n",
       "      <td>read</td>\n",
       "      <td>CWE-120, CWE-20</td>\n",
       "      <td>3015</td>\n",
       "    </tr>\n",
       "    <tr>\n",
       "      <th>94</th>\n",
       "      <td>strcpy</td>\n",
       "      <td>CWE-120</td>\n",
       "      <td>2756</td>\n",
       "    </tr>\n",
       "    <tr>\n",
       "      <th>145</th>\n",
       "      <td>open</td>\n",
       "      <td>CWE-362</td>\n",
       "      <td>2072</td>\n",
       "    </tr>\n",
       "    <tr>\n",
       "      <th>44</th>\n",
       "      <td>syntaxError</td>\n",
       "      <td>CWE-unknown</td>\n",
       "      <td>1580</td>\n",
       "    </tr>\n",
       "    <tr>\n",
       "      <th>47</th>\n",
       "      <td>uninitvar</td>\n",
       "      <td>CWE-457</td>\n",
       "      <td>1554</td>\n",
       "    </tr>\n",
       "  </tbody>\n",
       "</table>\n",
       "</div>"
      ],
      "text/plain": [
       "        category               cwe  count\n",
       "84        memcpy           CWE-120  29198\n",
       "67          char  CWE-119!/CWE-120  22051\n",
       "95        strlen           CWE-126   8947\n",
       "90       sprintf           CWE-120   6470\n",
       "59        StrCat           CWE-120   4226\n",
       "86          read   CWE-120, CWE-20   3015\n",
       "94        strcpy           CWE-120   2756\n",
       "145         open           CWE-362   2072\n",
       "44   syntaxError       CWE-unknown   1580\n",
       "47     uninitvar           CWE-457   1554"
      ]
     },
     "execution_count": 5,
     "metadata": {},
     "output_type": "execute_result"
    }
   ],
   "source": [
    "dfplt.sort_values(by=['count'], ascending=False).head(10)"
   ]
  },
  {
   "attachments": {},
   "cell_type": "markdown",
   "metadata": {},
   "source": [
    "# Top 10 vulnerabilities"
   ]
  },
  {
   "cell_type": "code",
   "execution_count": 6,
   "metadata": {},
   "outputs": [
    {
     "name": "stdout",
     "output_type": "stream",
     "text": [
      "+----+-------------+------------------+---------+\n",
      "|    | category    | cwe              |   count |\n",
      "|----+-------------+------------------+---------|\n",
      "|  0 | memcpy      | CWE-120          |   29198 |\n",
      "|  1 | char        | CWE-119!/CWE-120 |   22051 |\n",
      "|  2 | strlen      | CWE-126          |    8947 |\n",
      "|  3 | sprintf     | CWE-120          |    6470 |\n",
      "|  4 | StrCat      | CWE-120          |    4226 |\n",
      "|  5 | read        | CWE-120, CWE-20  |    3015 |\n",
      "|  6 | strcpy      | CWE-120          |    2756 |\n",
      "|  7 | open        | CWE-362          |    2072 |\n",
      "|  8 | syntaxError | CWE-unknown      |    1580 |\n",
      "|  9 | uninitvar   | CWE-457          |    1554 |\n",
      "+----+-------------+------------------+---------+\n"
     ]
    }
   ],
   "source": [
    "df_top10 = dfplt.sort_values(by=['count'], ascending=False).head(10).reset_index(drop=True)\n",
    "print(tabulate(df_top10, headers='keys', tablefmt='psql'))\n",
    "df_top10.to_latex(result_dir / \"top10.tex\", index=False, caption=\"Top 10 CWEs in IoT code\")"
   ]
  },
  {
   "cell_type": "code",
   "execution_count": 7,
   "metadata": {},
   "outputs": [
    {
     "data": {
      "text/plain": [
       "<AxesSubplot: >"
      ]
     },
     "execution_count": 7,
     "metadata": {},
     "output_type": "execute_result"
    },
    {
     "data": {
      "image/png": "[encoded data removed]",
      "text/plain": [
       "<Figure size 640x480 with 1 Axes>"
      ]
     },
     "metadata": {},
     "output_type": "display_data"
    }
   ],
   "source": [
    "# dfs.context.head(200).str.len().plot(kind='bar')\n",
    "pd.Series(sorted(list(dfs.context.head(20).str.len()))).plot(kind='bar')"
   ]
  },
  {
   "cell_type": "code",
   "execution_count": 8,
   "metadata": {},
   "outputs": [
    {
     "data": {
      "text/plain": [
       "[51, 60, 1, 37, 68]"
      ]
     },
     "execution_count": 8,
     "metadata": {},
     "output_type": "execute_result"
    }
   ],
   "source": [
    "def filter_unusual_statements(statements, min_len, max_len, df):\n",
    "    \"\"\"\" \n",
    "    # https://peps.python.org/pep-0007/\n",
    "    # https://www.python.org/dev/peps/pep-0007/ \n",
    "\n",
    "    \"\"\"\n",
    "    filtered_statements = []\n",
    "    for statement in statements:\n",
    "        if len(statement) >= min_len and len(statement) <= max_len:\n",
    "            filtered_statements.append(statement)\n",
    "   \n",
    "    # take size of the vul statements as basis\n",
    "    df = pd.Series(statements)   \n",
    "    df = df.str.len()\n",
    "    \n",
    "    stat_sizes =  list(df[df.between(max_len, min_len)].reset_index(drop=True))\n",
    "    \n",
    "    sample_size = 5 if len(stat_sizes)>5 else len(stat_sizes)-1\n",
    "    stat_sizes = random.sample(set(stat_sizes), sample_size)\n",
    "    return stat_sizes\n",
    "\n",
    "\n",
    "# standard variables:\n",
    "max_len = 151  #TODO: double check pep standards\n",
    "\n",
    "# TODO: check min_len as well, otherwise the below code unnessesarily checks one extra condition \n",
    "# because there is no any statement/fun with len below that. \n",
    "# for min_len (eg, 7 characters)\n",
    "min_len = dfs.context.str.len().sort_values(ascending=False).reset_index(drop=True).min()\n",
    "\n",
    "\n",
    "lines = dff.code[0].splitlines()\n",
    "stat_sizes = filter_unusual_statements(lines, max_len, min_len, dfs)\n",
    "stat_sizes"
   ]
  },
  {
   "attachments": {},
   "cell_type": "markdown",
   "metadata": {},
   "source": [
    "## Create a latex table from the statistics of projects"
   ]
  },
  {
   "cell_type": "code",
   "execution_count": 9,
   "metadata": {},
   "outputs": [],
   "source": [
    "def save_latex(df, file):\n",
    "    \"\"\"\n",
    "    save the dataframe as latex table\n",
    "    \"\"\"\n",
    "    styler = df.style\n",
    "    # styler.applymap_index(lambda v: \"font-weight: bold;\", axis=\"index\")\n",
    "    styler.applymap_index(lambda v: \"font-weight: bold;\", axis=\"columns\")\n",
    "    res = styler.to_latex(convert_css=True, column_format='|l|l|r|')\n",
    "\n",
    "    with open(file, 'w') as f:\n",
    "        f.write(res)\n",
    "    return res\n",
    "\n",
    "# make class binary type benign/vulnerable\n",
    "dfs_binary = dfs.copy()\n",
    "dfs_binary.loc[dfs_binary.cwe!=\"Benign\", 'cwe'] = \"Vulnerable\"\n",
    "dfs_binary['project'] = dfs_binary.project.str.split('/').str[-1]\n",
    "\n",
    "prj_stat = dfs_binary.groupby(['project', 'cwe']).size().reset_index(name='count')\n",
    "prj_s = prj_stat.groupby(['project', 'cwe']).sum()\n",
    "\n",
    "res = tabulate(save_latex(prj_s, result_dir / 'project_stat.tex'))"
   ]
  },
  {
   "cell_type": "code",
   "execution_count": 10,
   "metadata": {},
   "outputs": [
    {
     "data": {
      "text/html": [
       "<div>\n",
       "<style scoped>\n",
       "    .dataframe tbody tr th:only-of-type {\n",
       "        vertical-align: middle;\n",
       "    }\n",
       "\n",
       "    .dataframe tbody tr th {\n",
       "        vertical-align: top;\n",
       "    }\n",
       "\n",
       "    .dataframe thead th {\n",
       "        text-align: right;\n",
       "    }\n",
       "</style>\n",
       "<table border=\"1\" class=\"dataframe\">\n",
       "  <thead>\n",
       "    <tr style=\"text-align: right;\">\n",
       "      <th></th>\n",
       "      <th>project</th>\n",
       "      <th>cwe</th>\n",
       "      <th>count</th>\n",
       "    </tr>\n",
       "  </thead>\n",
       "  <tbody>\n",
       "    <tr>\n",
       "      <th>0</th>\n",
       "      <td>ARMmbed</td>\n",
       "      <td>Benign</td>\n",
       "      <td>21378</td>\n",
       "    </tr>\n",
       "    <tr>\n",
       "      <th>1</th>\n",
       "      <td>ARMmbed</td>\n",
       "      <td>Vulnerable</td>\n",
       "      <td>4986</td>\n",
       "    </tr>\n",
       "    <tr>\n",
       "      <th>2</th>\n",
       "      <td>CycloneTCP</td>\n",
       "      <td>Benign</td>\n",
       "      <td>8760</td>\n",
       "    </tr>\n",
       "    <tr>\n",
       "      <th>3</th>\n",
       "      <td>CycloneTCP</td>\n",
       "      <td>Vulnerable</td>\n",
       "      <td>1837</td>\n",
       "    </tr>\n",
       "    <tr>\n",
       "      <th>4</th>\n",
       "      <td>FreeRTOS</td>\n",
       "      <td>Benign</td>\n",
       "      <td>16642</td>\n",
       "    </tr>\n",
       "    <tr>\n",
       "      <th>5</th>\n",
       "      <td>FreeRTOS</td>\n",
       "      <td>Vulnerable</td>\n",
       "      <td>3628</td>\n",
       "    </tr>\n",
       "    <tr>\n",
       "      <th>6</th>\n",
       "      <td>ImageMagick</td>\n",
       "      <td>Benign</td>\n",
       "      <td>2922</td>\n",
       "    </tr>\n",
       "    <tr>\n",
       "      <th>7</th>\n",
       "      <td>ImageMagick</td>\n",
       "      <td>Vulnerable</td>\n",
       "      <td>2109</td>\n",
       "    </tr>\n",
       "    <tr>\n",
       "      <th>8</th>\n",
       "      <td>OpenCV</td>\n",
       "      <td>Benign</td>\n",
       "      <td>2216</td>\n",
       "    </tr>\n",
       "    <tr>\n",
       "      <th>9</th>\n",
       "      <td>OpenCV</td>\n",
       "      <td>Vulnerable</td>\n",
       "      <td>84</td>\n",
       "    </tr>\n",
       "    <tr>\n",
       "      <th>10</th>\n",
       "      <td>OpenSSL</td>\n",
       "      <td>Benign</td>\n",
       "      <td>10837</td>\n",
       "    </tr>\n",
       "    <tr>\n",
       "      <th>11</th>\n",
       "      <td>OpenSSL</td>\n",
       "      <td>Vulnerable</td>\n",
       "      <td>2318</td>\n",
       "    </tr>\n",
       "    <tr>\n",
       "      <th>12</th>\n",
       "      <td>RIOT</td>\n",
       "      <td>Benign</td>\n",
       "      <td>7550</td>\n",
       "    </tr>\n",
       "    <tr>\n",
       "      <th>13</th>\n",
       "      <td>RIOT</td>\n",
       "      <td>Vulnerable</td>\n",
       "      <td>2223</td>\n",
       "    </tr>\n",
       "    <tr>\n",
       "      <th>14</th>\n",
       "      <td>chromium</td>\n",
       "      <td>Benign</td>\n",
       "      <td>247596</td>\n",
       "    </tr>\n",
       "    <tr>\n",
       "      <th>15</th>\n",
       "      <td>chromium</td>\n",
       "      <td>Vulnerable</td>\n",
       "      <td>10321</td>\n",
       "    </tr>\n",
       "    <tr>\n",
       "      <th>16</th>\n",
       "      <td>contiki</td>\n",
       "      <td>Benign</td>\n",
       "      <td>1074</td>\n",
       "    </tr>\n",
       "    <tr>\n",
       "      <th>17</th>\n",
       "      <td>contiki</td>\n",
       "      <td>Vulnerable</td>\n",
       "      <td>400</td>\n",
       "    </tr>\n",
       "    <tr>\n",
       "      <th>18</th>\n",
       "      <td>contiki-master</td>\n",
       "      <td>Benign</td>\n",
       "      <td>4379</td>\n",
       "    </tr>\n",
       "    <tr>\n",
       "      <th>19</th>\n",
       "      <td>contiki-master</td>\n",
       "      <td>Vulnerable</td>\n",
       "      <td>1147</td>\n",
       "    </tr>\n",
       "    <tr>\n",
       "      <th>20</th>\n",
       "      <td>ffmpeg</td>\n",
       "      <td>Benign</td>\n",
       "      <td>13753</td>\n",
       "    </tr>\n",
       "    <tr>\n",
       "      <th>21</th>\n",
       "      <td>ffmpeg</td>\n",
       "      <td>Vulnerable</td>\n",
       "      <td>2984</td>\n",
       "    </tr>\n",
       "    <tr>\n",
       "      <th>22</th>\n",
       "      <td>gnucobol</td>\n",
       "      <td>Benign</td>\n",
       "      <td>1934</td>\n",
       "    </tr>\n",
       "    <tr>\n",
       "      <th>23</th>\n",
       "      <td>gnucobol</td>\n",
       "      <td>Vulnerable</td>\n",
       "      <td>905</td>\n",
       "    </tr>\n",
       "    <tr>\n",
       "      <th>24</th>\n",
       "      <td>httpd</td>\n",
       "      <td>Benign</td>\n",
       "      <td>4494</td>\n",
       "    </tr>\n",
       "    <tr>\n",
       "      <th>25</th>\n",
       "      <td>httpd</td>\n",
       "      <td>Vulnerable</td>\n",
       "      <td>1277</td>\n",
       "    </tr>\n",
       "    <tr>\n",
       "      <th>26</th>\n",
       "      <td>linux</td>\n",
       "      <td>Benign</td>\n",
       "      <td>402864</td>\n",
       "    </tr>\n",
       "    <tr>\n",
       "      <th>27</th>\n",
       "      <td>linux</td>\n",
       "      <td>Vulnerable</td>\n",
       "      <td>48157</td>\n",
       "    </tr>\n",
       "    <tr>\n",
       "      <th>28</th>\n",
       "      <td>linux-rpi</td>\n",
       "      <td>Benign</td>\n",
       "      <td>24290</td>\n",
       "    </tr>\n",
       "    <tr>\n",
       "      <th>29</th>\n",
       "      <td>linux-rpi</td>\n",
       "      <td>Vulnerable</td>\n",
       "      <td>4357</td>\n",
       "    </tr>\n",
       "    <tr>\n",
       "      <th>30</th>\n",
       "      <td>mbed-os</td>\n",
       "      <td>Benign</td>\n",
       "      <td>216</td>\n",
       "    </tr>\n",
       "    <tr>\n",
       "      <th>31</th>\n",
       "      <td>mbed-os</td>\n",
       "      <td>Vulnerable</td>\n",
       "      <td>22</td>\n",
       "    </tr>\n",
       "    <tr>\n",
       "      <th>32</th>\n",
       "      <td>micropython</td>\n",
       "      <td>Benign</td>\n",
       "      <td>18855</td>\n",
       "    </tr>\n",
       "    <tr>\n",
       "      <th>33</th>\n",
       "      <td>micropython</td>\n",
       "      <td>Vulnerable</td>\n",
       "      <td>4082</td>\n",
       "    </tr>\n",
       "    <tr>\n",
       "      <th>34</th>\n",
       "      <td>mosquitto</td>\n",
       "      <td>Benign</td>\n",
       "      <td>820</td>\n",
       "    </tr>\n",
       "    <tr>\n",
       "      <th>35</th>\n",
       "      <td>mosquitto</td>\n",
       "      <td>Vulnerable</td>\n",
       "      <td>558</td>\n",
       "    </tr>\n",
       "    <tr>\n",
       "      <th>36</th>\n",
       "      <td>openwrt</td>\n",
       "      <td>Benign</td>\n",
       "      <td>3094</td>\n",
       "    </tr>\n",
       "    <tr>\n",
       "      <th>37</th>\n",
       "      <td>openwrt</td>\n",
       "      <td>Vulnerable</td>\n",
       "      <td>676</td>\n",
       "    </tr>\n",
       "    <tr>\n",
       "      <th>38</th>\n",
       "      <td>systemd</td>\n",
       "      <td>Benign</td>\n",
       "      <td>13337</td>\n",
       "    </tr>\n",
       "    <tr>\n",
       "      <th>39</th>\n",
       "      <td>systemd</td>\n",
       "      <td>Vulnerable</td>\n",
       "      <td>2690</td>\n",
       "    </tr>\n",
       "    <tr>\n",
       "      <th>40</th>\n",
       "      <td>tcpdump</td>\n",
       "      <td>Benign</td>\n",
       "      <td>528</td>\n",
       "    </tr>\n",
       "    <tr>\n",
       "      <th>41</th>\n",
       "      <td>tcpdump</td>\n",
       "      <td>Vulnerable</td>\n",
       "      <td>191</td>\n",
       "    </tr>\n",
       "    <tr>\n",
       "      <th>42</th>\n",
       "      <td>tensorflow</td>\n",
       "      <td>Benign</td>\n",
       "      <td>35732</td>\n",
       "    </tr>\n",
       "    <tr>\n",
       "      <th>43</th>\n",
       "      <td>tensorflow</td>\n",
       "      <td>Vulnerable</td>\n",
       "      <td>3903</td>\n",
       "    </tr>\n",
       "    <tr>\n",
       "      <th>44</th>\n",
       "      <td>tinyos</td>\n",
       "      <td>Benign</td>\n",
       "      <td>1017</td>\n",
       "    </tr>\n",
       "    <tr>\n",
       "      <th>45</th>\n",
       "      <td>tinyos</td>\n",
       "      <td>Vulnerable</td>\n",
       "      <td>377</td>\n",
       "    </tr>\n",
       "    <tr>\n",
       "      <th>46</th>\n",
       "      <td>vlc</td>\n",
       "      <td>Benign</td>\n",
       "      <td>10764</td>\n",
       "    </tr>\n",
       "    <tr>\n",
       "      <th>47</th>\n",
       "      <td>vlc</td>\n",
       "      <td>Vulnerable</td>\n",
       "      <td>2051</td>\n",
       "    </tr>\n",
       "    <tr>\n",
       "      <th>48</th>\n",
       "      <td>wireshark</td>\n",
       "      <td>Benign</td>\n",
       "      <td>67421</td>\n",
       "    </tr>\n",
       "    <tr>\n",
       "      <th>49</th>\n",
       "      <td>wireshark</td>\n",
       "      <td>Vulnerable</td>\n",
       "      <td>2355</td>\n",
       "    </tr>\n",
       "  </tbody>\n",
       "</table>\n",
       "</div>"
      ],
      "text/plain": [
       "           project         cwe   count\n",
       "0          ARMmbed      Benign   21378\n",
       "1          ARMmbed  Vulnerable    4986\n",
       "2       CycloneTCP      Benign    8760\n",
       "3       CycloneTCP  Vulnerable    1837\n",
       "4         FreeRTOS      Benign   16642\n",
       "5         FreeRTOS  Vulnerable    3628\n",
       "6      ImageMagick      Benign    2922\n",
       "7      ImageMagick  Vulnerable    2109\n",
       "8           OpenCV      Benign    2216\n",
       "9           OpenCV  Vulnerable      84\n",
       "10         OpenSSL      Benign   10837\n",
       "11         OpenSSL  Vulnerable    2318\n",
       "12            RIOT      Benign    7550\n",
       "13            RIOT  Vulnerable    2223\n",
       "14        chromium      Benign  247596\n",
       "15        chromium  Vulnerable   10321\n",
       "16         contiki      Benign    1074\n",
       "17         contiki  Vulnerable     400\n",
       "18  contiki-master      Benign    4379\n",
       "19  contiki-master  Vulnerable    1147\n",
       "20          ffmpeg      Benign   13753\n",
       "21          ffmpeg  Vulnerable    2984\n",
       "22        gnucobol      Benign    1934\n",
       "23        gnucobol  Vulnerable     905\n",
       "24           httpd      Benign    4494\n",
       "25           httpd  Vulnerable    1277\n",
       "26           linux      Benign  402864\n",
       "27           linux  Vulnerable   48157\n",
       "28       linux-rpi      Benign   24290\n",
       "29       linux-rpi  Vulnerable    4357\n",
       "30         mbed-os      Benign     216\n",
       "31         mbed-os  Vulnerable      22\n",
       "32     micropython      Benign   18855\n",
       "33     micropython  Vulnerable    4082\n",
       "34       mosquitto      Benign     820\n",
       "35       mosquitto  Vulnerable     558\n",
       "36         openwrt      Benign    3094\n",
       "37         openwrt  Vulnerable     676\n",
       "38         systemd      Benign   13337\n",
       "39         systemd  Vulnerable    2690\n",
       "40         tcpdump      Benign     528\n",
       "41         tcpdump  Vulnerable     191\n",
       "42      tensorflow      Benign   35732\n",
       "43      tensorflow  Vulnerable    3903\n",
       "44          tinyos      Benign    1017\n",
       "45          tinyos  Vulnerable     377\n",
       "46             vlc      Benign   10764\n",
       "47             vlc  Vulnerable    2051\n",
       "48       wireshark      Benign   67421\n",
       "49       wireshark  Vulnerable    2355"
      ]
     },
     "execution_count": 10,
     "metadata": {},
     "output_type": "execute_result"
    }
   ],
   "source": [
    "dff_binary = dff.copy()\n",
    "dff_binary.loc[dff_binary.cwe!=\"Benign\", 'cwe'] = \"Vulnerable\"\n",
    "dff_binary['project'] = dff_binary.project.str.split('/').str[-1]\n",
    "\n",
    "prj_fun = dff_binary.groupby(['project', 'cwe']).size().reset_index(name='count')\n",
    "prj_f = prj_fun.groupby(['project', 'cwe']).sum()\n",
    "prj_f = prj_f.reset_index()\n",
    "prj_f"
   ]
  },
  {
   "cell_type": "code",
   "execution_count": 80,
   "metadata": {},
   "outputs": [
    {
     "name": "stdout",
     "output_type": "stream",
     "text": [
      "Total #statements: 2263907\n",
      "Total #functions: 1026111\n"
     ]
    },
    {
     "data": {
      "text/html": [
       "<div>\n",
       "<style scoped>\n",
       "    .dataframe tbody tr th:only-of-type {\n",
       "        vertical-align: middle;\n",
       "    }\n",
       "\n",
       "    .dataframe tbody tr th {\n",
       "        vertical-align: top;\n",
       "    }\n",
       "\n",
       "    .dataframe thead tr th {\n",
       "        text-align: left;\n",
       "    }\n",
       "</style>\n",
       "<table border=\"1\" class=\"dataframe\">\n",
       "  <thead>\n",
       "    <tr>\n",
       "      <th></th>\n",
       "      <th colspan=\"2\" halign=\"left\">#statement</th>\n",
       "      <th colspan=\"2\" halign=\"left\">#function</th>\n",
       "    </tr>\n",
       "    <tr>\n",
       "      <th>cwe</th>\n",
       "      <th>Benign</th>\n",
       "      <th>Vulnerable</th>\n",
       "      <th>Benign</th>\n",
       "      <th>Vulnerable</th>\n",
       "    </tr>\n",
       "  </thead>\n",
       "  <tbody>\n",
       "    <tr>\n",
       "      <th>ARMmbed</th>\n",
       "      <td>62692</td>\n",
       "      <td>6091</td>\n",
       "      <td>21378</td>\n",
       "      <td>4986</td>\n",
       "    </tr>\n",
       "    <tr>\n",
       "      <th>CycloneTCP</th>\n",
       "      <td>17509</td>\n",
       "      <td>1129</td>\n",
       "      <td>8760</td>\n",
       "      <td>1837</td>\n",
       "    </tr>\n",
       "    <tr>\n",
       "      <th>FreeRTOS</th>\n",
       "      <td>67732</td>\n",
       "      <td>4112</td>\n",
       "      <td>16642</td>\n",
       "      <td>3628</td>\n",
       "    </tr>\n",
       "    <tr>\n",
       "      <th>ImageMagick</th>\n",
       "      <td>23477</td>\n",
       "      <td>442</td>\n",
       "      <td>2922</td>\n",
       "      <td>2109</td>\n",
       "    </tr>\n",
       "    <tr>\n",
       "      <th>OpenCV</th>\n",
       "      <td>467</td>\n",
       "      <td>107</td>\n",
       "      <td>2216</td>\n",
       "      <td>84</td>\n",
       "    </tr>\n",
       "    <tr>\n",
       "      <th>OpenSSL</th>\n",
       "      <td>32359</td>\n",
       "      <td>2379</td>\n",
       "      <td>10837</td>\n",
       "      <td>2318</td>\n",
       "    </tr>\n",
       "    <tr>\n",
       "      <th>RIOT</th>\n",
       "      <td>20759</td>\n",
       "      <td>2326</td>\n",
       "      <td>7550</td>\n",
       "      <td>2223</td>\n",
       "    </tr>\n",
       "    <tr>\n",
       "      <th>chromium</th>\n",
       "      <td>205146</td>\n",
       "      <td>11578</td>\n",
       "      <td>247596</td>\n",
       "      <td>10321</td>\n",
       "    </tr>\n",
       "    <tr>\n",
       "      <th>contiki</th>\n",
       "      <td>2775</td>\n",
       "      <td>274</td>\n",
       "      <td>1074</td>\n",
       "      <td>400</td>\n",
       "    </tr>\n",
       "    <tr>\n",
       "      <th>contiki-master</th>\n",
       "      <td>11864</td>\n",
       "      <td>1732</td>\n",
       "      <td>4379</td>\n",
       "      <td>1147</td>\n",
       "    </tr>\n",
       "    <tr>\n",
       "      <th>ffmpeg</th>\n",
       "      <td>74204</td>\n",
       "      <td>3309</td>\n",
       "      <td>13753</td>\n",
       "      <td>2984</td>\n",
       "    </tr>\n",
       "    <tr>\n",
       "      <th>gnucobol</th>\n",
       "      <td>17075</td>\n",
       "      <td>1342</td>\n",
       "      <td>1934</td>\n",
       "      <td>905</td>\n",
       "    </tr>\n",
       "    <tr>\n",
       "      <th>httpd</th>\n",
       "      <td>23540</td>\n",
       "      <td>1423</td>\n",
       "      <td>4494</td>\n",
       "      <td>1277</td>\n",
       "    </tr>\n",
       "    <tr>\n",
       "      <th>linux</th>\n",
       "      <td>1149066</td>\n",
       "      <td>44315</td>\n",
       "      <td>402864</td>\n",
       "      <td>48157</td>\n",
       "    </tr>\n",
       "    <tr>\n",
       "      <th>linux-rpi</th>\n",
       "      <td>63438</td>\n",
       "      <td>846</td>\n",
       "      <td>24290</td>\n",
       "      <td>4357</td>\n",
       "    </tr>\n",
       "    <tr>\n",
       "      <th>mbed-os</th>\n",
       "      <td>333</td>\n",
       "      <td>18</td>\n",
       "      <td>216</td>\n",
       "      <td>22</td>\n",
       "    </tr>\n",
       "    <tr>\n",
       "      <th>micropython</th>\n",
       "      <td>51310</td>\n",
       "      <td>3614</td>\n",
       "      <td>18855</td>\n",
       "      <td>4082</td>\n",
       "    </tr>\n",
       "    <tr>\n",
       "      <th>mosquitto</th>\n",
       "      <td>4088</td>\n",
       "      <td>490</td>\n",
       "      <td>820</td>\n",
       "      <td>558</td>\n",
       "    </tr>\n",
       "    <tr>\n",
       "      <th>openwrt</th>\n",
       "      <td>9436</td>\n",
       "      <td>855</td>\n",
       "      <td>3094</td>\n",
       "      <td>676</td>\n",
       "    </tr>\n",
       "    <tr>\n",
       "      <th>systemd</th>\n",
       "      <td>47900</td>\n",
       "      <td>2311</td>\n",
       "      <td>13337</td>\n",
       "      <td>2690</td>\n",
       "    </tr>\n",
       "    <tr>\n",
       "      <th>tcpdump</th>\n",
       "      <td>4573</td>\n",
       "      <td>201</td>\n",
       "      <td>528</td>\n",
       "      <td>191</td>\n",
       "    </tr>\n",
       "    <tr>\n",
       "      <th>tensorflow</th>\n",
       "      <td>81243</td>\n",
       "      <td>3804</td>\n",
       "      <td>35732</td>\n",
       "      <td>3903</td>\n",
       "    </tr>\n",
       "    <tr>\n",
       "      <th>tinyos</th>\n",
       "      <td>3420</td>\n",
       "      <td>439</td>\n",
       "      <td>1017</td>\n",
       "      <td>377</td>\n",
       "    </tr>\n",
       "    <tr>\n",
       "      <th>vlc</th>\n",
       "      <td>40354</td>\n",
       "      <td>2446</td>\n",
       "      <td>10764</td>\n",
       "      <td>2051</td>\n",
       "    </tr>\n",
       "    <tr>\n",
       "      <th>wireshark</th>\n",
       "      <td>151090</td>\n",
       "      <td>2474</td>\n",
       "      <td>67421</td>\n",
       "      <td>2355</td>\n",
       "    </tr>\n",
       "    <tr>\n",
       "      <th>TOTAL</th>\n",
       "      <td>2165850</td>\n",
       "      <td>98057</td>\n",
       "      <td>922473</td>\n",
       "      <td>103638</td>\n",
       "    </tr>\n",
       "  </tbody>\n",
       "</table>\n",
       "</div>"
      ],
      "text/plain": [
       "               #statement            #function           \n",
       "cwe                Benign Vulnerable    Benign Vulnerable\n",
       "ARMmbed             62692       6091     21378       4986\n",
       "CycloneTCP          17509       1129      8760       1837\n",
       "FreeRTOS            67732       4112     16642       3628\n",
       "ImageMagick         23477        442      2922       2109\n",
       "OpenCV                467        107      2216         84\n",
       "OpenSSL             32359       2379     10837       2318\n",
       "RIOT                20759       2326      7550       2223\n",
       "chromium           205146      11578    247596      10321\n",
       "contiki              2775        274      1074        400\n",
       "contiki-master      11864       1732      4379       1147\n",
       "ffmpeg              74204       3309     13753       2984\n",
       "gnucobol            17075       1342      1934        905\n",
       "httpd               23540       1423      4494       1277\n",
       "linux             1149066      44315    402864      48157\n",
       "linux-rpi           63438        846     24290       4357\n",
       "mbed-os               333         18       216         22\n",
       "micropython         51310       3614     18855       4082\n",
       "mosquitto            4088        490       820        558\n",
       "openwrt              9436        855      3094        676\n",
       "systemd             47900       2311     13337       2690\n",
       "tcpdump              4573        201       528        191\n",
       "tensorflow          81243       3804     35732       3903\n",
       "tinyos               3420        439      1017        377\n",
       "vlc                 40354       2446     10764       2051\n",
       "wireshark          151090       2474     67421       2355\n",
       "TOTAL             2165850      98057    922473     103638"
      ]
     },
     "execution_count": 80,
     "metadata": {},
     "output_type": "execute_result"
    }
   ],
   "source": [
    "prj_f = prj_f.rename(columns={'cwe':'cwef', 'count':'#function','project':'projectf'})\n",
    "prj_stat = prj_stat.rename(columns={'count':'#statement'})\n",
    "\n",
    "df_dist = pd.concat([prj_stat, prj_f], axis=1, join='inner')\n",
    "df_dist = df_dist.sort_values(by=['#statement'], ascending=False)\n",
    "df_dist = df_dist.drop(columns=['projectf', 'cwef'], axis=1)\n",
    "df_dist = df_dist.set_index(['project', 'cwe'])\n",
    "df_dist = df_dist.unstack()\n",
    "\n",
    "# add total row\n",
    "df_dist = pd.concat([df_dist, df_dist.sum().rename('TOTAL').to_frame().T], ignore_index=False)\n",
    "df_dist.reset_index().to_latex('result/project-stat.tex', index=False)\n",
    "print(f\"Total #statements: {df_dist[-1:][0:2].T[0:2].sum().values[0]}\")\n",
    "print(f\"Total #functions: {df_dist[-1:][0:2].T[2:4].sum().values[0]}\")\n",
    "df_dist"
   ]
  },
  {
   "cell_type": "code",
   "execution_count": 87,
   "metadata": {},
   "outputs": [
    {
     "name": "stdout",
     "output_type": "stream",
     "text": [
      "Linux statements: 1193381\n",
      "Linux functions: 451021\n",
      "Chromium statements: 216724\n",
      "Chromium statements: 257917\n"
     ]
    }
   ],
   "source": [
    "print(f'Linux statements: {1149066+44315}')\t\n",
    "print(f'Linux functions: {402864+48157}')\t\n",
    "\n",
    "print(f'Chromium statements: {205146+11578}')\n",
    "print(f'Chromium statements: {247596+10321}')"
   ]
  },
  {
   "cell_type": "code",
   "execution_count": 12,
   "metadata": {},
   "outputs": [
    {
     "data": {
      "text/html": [
       "<div>\n",
       "<style scoped>\n",
       "    .dataframe tbody tr th:only-of-type {\n",
       "        vertical-align: middle;\n",
       "    }\n",
       "\n",
       "    .dataframe tbody tr th {\n",
       "        vertical-align: top;\n",
       "    }\n",
       "\n",
       "    .dataframe thead th {\n",
       "        text-align: right;\n",
       "    }\n",
       "</style>\n",
       "<table border=\"1\" class=\"dataframe\">\n",
       "  <thead>\n",
       "    <tr style=\"text-align: right;\">\n",
       "      <th></th>\n",
       "      <th>cwe</th>\n",
       "      <th>#statements</th>\n",
       "      <th>cwe</th>\n",
       "      <th>#functions</th>\n",
       "    </tr>\n",
       "  </thead>\n",
       "  <tbody>\n",
       "    <tr>\n",
       "      <th>0</th>\n",
       "      <td>Benign</td>\n",
       "      <td>2165850.0</td>\n",
       "      <td>Benign</td>\n",
       "      <td>922473</td>\n",
       "    </tr>\n",
       "    <tr>\n",
       "      <th>1</th>\n",
       "      <td>CWE-120</td>\n",
       "      <td>44737.0</td>\n",
       "      <td>CWE-120</td>\n",
       "      <td>42354</td>\n",
       "    </tr>\n",
       "    <tr>\n",
       "      <th>2</th>\n",
       "      <td>CWE-119!/CWE-120</td>\n",
       "      <td>22403.0</td>\n",
       "      <td>CWE-119!/CWE-120</td>\n",
       "      <td>19469</td>\n",
       "    </tr>\n",
       "    <tr>\n",
       "      <th>3</th>\n",
       "      <td>CWE-126</td>\n",
       "      <td>9371.0</td>\n",
       "      <td>CWE-126</td>\n",
       "      <td>10373</td>\n",
       "    </tr>\n",
       "    <tr>\n",
       "      <th>4</th>\n",
       "      <td>CWE-120, CWE-20</td>\n",
       "      <td>3266.0</td>\n",
       "      <td>CWE-unknown</td>\n",
       "      <td>7049</td>\n",
       "    </tr>\n",
       "    <tr>\n",
       "      <th>5</th>\n",
       "      <td>CWE-190</td>\n",
       "      <td>3127.0</td>\n",
       "      <td>CWE-457</td>\n",
       "      <td>5662</td>\n",
       "    </tr>\n",
       "    <tr>\n",
       "      <th>6</th>\n",
       "      <td>CWE-362</td>\n",
       "      <td>2950.0</td>\n",
       "      <td>CWE-120, CWE-20</td>\n",
       "      <td>3623</td>\n",
       "    </tr>\n",
       "    <tr>\n",
       "      <th>7</th>\n",
       "      <td>CWE-unknown</td>\n",
       "      <td>2394.0</td>\n",
       "      <td>CWE-362</td>\n",
       "      <td>3447</td>\n",
       "    </tr>\n",
       "    <tr>\n",
       "      <th>8</th>\n",
       "      <td>CWE-134</td>\n",
       "      <td>2293.0</td>\n",
       "      <td>CWE-190</td>\n",
       "      <td>3294</td>\n",
       "    </tr>\n",
       "    <tr>\n",
       "      <th>9</th>\n",
       "      <td>CWE-457</td>\n",
       "      <td>1668.0</td>\n",
       "      <td>CWE-134</td>\n",
       "      <td>1720</td>\n",
       "    </tr>\n",
       "  </tbody>\n",
       "</table>\n",
       "</div>"
      ],
      "text/plain": [
       "                cwe  #statements               cwe  #functions\n",
       "0            Benign    2165850.0            Benign      922473\n",
       "1           CWE-120      44737.0           CWE-120       42354\n",
       "2  CWE-119!/CWE-120      22403.0  CWE-119!/CWE-120       19469\n",
       "3           CWE-126       9371.0           CWE-126       10373\n",
       "4   CWE-120, CWE-20       3266.0       CWE-unknown        7049\n",
       "5           CWE-190       3127.0           CWE-457        5662\n",
       "6           CWE-362       2950.0   CWE-120, CWE-20        3623\n",
       "7       CWE-unknown       2394.0           CWE-362        3447\n",
       "8           CWE-134       2293.0           CWE-190        3294\n",
       "9           CWE-457       1668.0           CWE-134        1720"
      ]
     },
     "execution_count": 12,
     "metadata": {},
     "output_type": "execute_result"
    }
   ],
   "source": [
    "dff['cwe'] = dff.cwe.str.replace(r\"\\['|']\", \"\",regex=True)\n",
    "dfs_cwe = dfs.cwe.value_counts().reset_index(name='#statements')\n",
    "dff_cwe = dff.cwe.value_counts().reset_index(name='#functions')\n",
    "\n",
    "dfs_cwe = dfs_cwe.rename(columns={'index':'cwe'})\n",
    "dff_cwe = dff_cwe.rename(columns={'index':'cwe'})\n",
    "df_cwe_count = pd.concat([dfs_cwe, dff_cwe], axis=1).head(10)\n",
    "df_cwe_count = df_cwe_count.astype({\"#functions\": int})\n",
    "df_cwe_count.to_latex('result/cwe-top-10.tex', index=False)\n",
    "df_cwe_count"
   ]
  },
  {
   "attachments": {},
   "cell_type": "markdown",
   "metadata": {},
   "source": [
    "# Show the description of the function-level data"
   ]
  },
  {
   "cell_type": "code",
   "execution_count": 13,
   "metadata": {},
   "outputs": [
    {
     "name": "stdout",
     "output_type": "stream",
     "text": [
      "\\begin{table}\n",
      "\\caption{Function Statistics}\n",
      "\\label{Function Statistics}\n",
      "\\begin{tabular}{rrrrr}\n",
      "\\toprule\n",
      "features & unique & top & freq \\\\\n",
      "\\midrule\n",
      "context & 69182 &  & 922473 \\\\\n",
      "cwe & 2 & Benign & 922473 \\\\\n",
      "project & 25 & linux & 451021 \\\\\n",
      "\\bottomrule\n",
      "\\end{tabular}\n",
      "\\end{table}\n",
      "\n"
     ]
    }
   ],
   "source": [
    "df_describe = dff_binary.drop(\n",
    "    labels=['top_nesting_level', 'fan_in', 'fan_out', 'general_fan_out', 'content', 'long_name', 'fun_name', 'full_parameters', 'code'],\n",
    "    axis=1, \n",
    "    errors='ignore').describe().T\n",
    "\n",
    "df_freq = df_describe.reset_index().rename(columns={'index': 'features'})\n",
    "df_freq = df_freq.drop(labels=['count'], axis=1)\n",
    "\n",
    "# shortening the project URL to project name only \n",
    "df_freq['top'] = df_freq.apply(lambda row:row['top'].split('/')[-1] if '/' in row['top'] else row['top'], axis=1)\n",
    "\n",
    "# The freq is the most common value’s frequency. The top is the most common value.\n",
    "print(df_freq[~df_freq.features.isin(['file'])].to_latex(\n",
    "    index=False,\n",
    "    column_format='rrrrr', \n",
    "    label='Function Statistics', \n",
    "    caption='Function Statistics')\n",
    "    )"
   ]
  },
  {
   "cell_type": "code",
   "execution_count": 14,
   "metadata": {},
   "outputs": [
    {
     "name": "stdout",
     "output_type": "stream",
     "text": [
      "Size of statements: 2263907\n",
      "Size of unique statements: 2263431\n",
      "\n",
      "Size of functions: 1026111\n",
      "Size of unique functions: 1012833\n"
     ]
    }
   ],
   "source": [
    "print(f'Size of statements: {len(dfs.context)}')\n",
    "print(f'Size of unique statements: {dfs.context.nunique()}')\n",
    "\n",
    "print(f'\\nSize of functions: {len(dff.code)}')\n",
    "print(f'Size of unique functions: {dff.code.nunique()}')"
   ]
  },
  {
   "cell_type": "markdown",
   "metadata": {},
   "source": [
    "# Token count of function-level data"
   ]
  },
  {
   "cell_type": "code",
   "execution_count": 15,
   "metadata": {},
   "outputs": [],
   "source": [
    "from gensim.utils import simple_preprocess\n",
    "\n",
    "fun_token_count = [len(simple_preprocess(x)) for x in dff.code]\n",
    "stat_token_count = [len(simple_preprocess(x)) for x in dfs.context]"
   ]
  },
  {
   "cell_type": "code",
   "execution_count": 16,
   "metadata": {},
   "outputs": [
    {
     "data": {
      "image/png": "[encoded data removed]",
      "text/plain": [
       "<Figure size 640x480 with 1 Axes>"
      ]
     },
     "metadata": {},
     "output_type": "display_data"
    }
   ],
   "source": [
    "fun_token_count_short = [x for x in fun_token_count if x<=1024]\n",
    "pd.Series(fun_token_count_short).plot.hist(bins=20)\n",
    "plt.xlabel('#tokens')\n",
    "plt.ylabel('frequency')\n",
    "# plt.title('Function Token Count Distribution')\n",
    "plt.savefig(fig_dir / 'fun_token_count.pdf')"
   ]
  },
  {
   "cell_type": "code",
   "execution_count": 17,
   "metadata": {},
   "outputs": [
    {
     "name": "stdout",
     "output_type": "stream",
     "text": [
      "       fun_token_count  stat_token_count\n",
      "count     2.263907e+06      1.026111e+06\n",
      "mean      3.766665e+00      6.515471e+01\n",
      "std       2.568985e+00      2.326848e+02\n",
      "min       0.000000e+00      0.000000e+00\n",
      "25%       2.000000e+00      1.400000e+01\n",
      "50%       3.000000e+00      3.000000e+01\n",
      "75%       5.000000e+00      6.800000e+01\n",
      "max       9.300000e+01      8.333000e+04\n"
     ]
    }
   ],
   "source": [
    "# Combine descriptions into a DataFrame\n",
    "combined_df = pd.DataFrame({\n",
    "    'fun_token_count': pd.Series(stat_token_count).describe(),\n",
    "    'stat_token_count': pd.Series(fun_token_count).describe()\n",
    "})\n",
    "\n",
    "print(combined_df)"
   ]
  },
  {
   "cell_type": "code",
   "execution_count": 18,
   "metadata": {},
   "outputs": [
    {
     "data": {
      "image/png": "[encoded data removed]",
      "text/plain": [
       "<Figure size 640x480 with 1 Axes>"
      ]
     },
     "metadata": {},
     "output_type": "display_data"
    }
   ],
   "source": [
    "pd.Series(stat_token_count).plot.hist(bins=20, alpha=0.8)\n",
    "plt.xlabel('#tokens')\n",
    "plt.ylabel('Frequency')\n",
    "plt.savefig(fig_dir / 'stat_token_count.pdf')"
   ]
  },
  {
   "cell_type": "code",
   "execution_count": 19,
   "metadata": {},
   "outputs": [
    {
     "data": {
      "image/png": "[encoded data removed]",
      "text/plain": [
       "<Figure size 640x480 with 1 Axes>"
      ]
     },
     "metadata": {},
     "output_type": "display_data"
    }
   ],
   "source": [
    "dfs1 = dfs[dfs.context.str.len()<151]\n",
    "stat_char_len = [len(x) for x in dfs1.context if len(x)>10]\n",
    "ax = pd.Series(stat_char_len).plot.hist(bins=20, xlabel='#chars', ylabel='#statements',alpha=0.8)\n",
    "plt.xlabel('#tokens')\n",
    "plt.ylabel('Frequency')\n",
    "fighist = ax.get_figure()\n",
    "fighist.savefig(fig_dir / 'statement-charlen.pdf')"
   ]
  },
  {
   "cell_type": "code",
   "execution_count": 20,
   "metadata": {},
   "outputs": [
    {
     "data": {
      "text/html": [
       "<div>\n",
       "<style scoped>\n",
       "    .dataframe tbody tr th:only-of-type {\n",
       "        vertical-align: middle;\n",
       "    }\n",
       "\n",
       "    .dataframe tbody tr th {\n",
       "        vertical-align: top;\n",
       "    }\n",
       "\n",
       "    .dataframe thead th {\n",
       "        text-align: right;\n",
       "    }\n",
       "</style>\n",
       "<table border=\"1\" class=\"dataframe\">\n",
       "  <thead>\n",
       "    <tr style=\"text-align: right;\">\n",
       "      <th></th>\n",
       "      <th>file</th>\n",
       "      <th>line</th>\n",
       "      <th>column</th>\n",
       "      <th>defaultlevel</th>\n",
       "      <th>level</th>\n",
       "      <th>category</th>\n",
       "      <th>name</th>\n",
       "      <th>msg</th>\n",
       "      <th>note</th>\n",
       "      <th>cwe</th>\n",
       "      <th>context</th>\n",
       "      <th>helpuri</th>\n",
       "      <th>severity</th>\n",
       "      <th>tool</th>\n",
       "      <th>type</th>\n",
       "      <th>project</th>\n",
       "    </tr>\n",
       "  </thead>\n",
       "  <tbody>\n",
       "  </tbody>\n",
       "</table>\n",
       "</div>"
      ],
      "text/plain": [
       "Empty DataFrame\n",
       "Columns: [file, line, column, defaultlevel, level, category, name, msg, note, cwe, context, helpuri, severity, tool, type, project]\n",
       "Index: []"
      ]
     },
     "execution_count": 20,
     "metadata": {},
     "output_type": "execute_result"
    }
   ],
   "source": [
    "dfs[dfs.file.str.len()<5].reset_index(drop=True)"
   ]
  },
  {
   "cell_type": "code",
   "execution_count": 21,
   "metadata": {},
   "outputs": [
    {
     "data": {
      "text/html": [
       "<div>\n",
       "<style scoped>\n",
       "    .dataframe tbody tr th:only-of-type {\n",
       "        vertical-align: middle;\n",
       "    }\n",
       "\n",
       "    .dataframe tbody tr th {\n",
       "        vertical-align: top;\n",
       "    }\n",
       "\n",
       "    .dataframe thead th {\n",
       "        text-align: right;\n",
       "    }\n",
       "</style>\n",
       "<table border=\"1\" class=\"dataframe\">\n",
       "  <thead>\n",
       "    <tr style=\"text-align: right;\">\n",
       "      <th></th>\n",
       "      <th>file</th>\n",
       "      <th>line</th>\n",
       "      <th>column</th>\n",
       "      <th>defaultlevel</th>\n",
       "      <th>level</th>\n",
       "      <th>category</th>\n",
       "      <th>name</th>\n",
       "      <th>msg</th>\n",
       "      <th>note</th>\n",
       "      <th>cwe</th>\n",
       "      <th>context</th>\n",
       "      <th>helpuri</th>\n",
       "      <th>severity</th>\n",
       "      <th>tool</th>\n",
       "      <th>type</th>\n",
       "      <th>project</th>\n",
       "    </tr>\n",
       "  </thead>\n",
       "  <tbody>\n",
       "  </tbody>\n",
       "</table>\n",
       "</div>"
      ],
      "text/plain": [
       "Empty DataFrame\n",
       "Columns: [file, line, column, defaultlevel, level, category, name, msg, note, cwe, context, helpuri, severity, tool, type, project]\n",
       "Index: []"
      ]
     },
     "execution_count": 21,
     "metadata": {},
     "output_type": "execute_result"
    }
   ],
   "source": [
    "dfs[dfs.file.str.len()<5].reset_index(drop=True)"
   ]
  }
 ],
 "metadata": {
  "kernelspec": {
   "display_name": "vulcode",
   "language": "python",
   "name": "python3"
  },
  "language_info": {
   "codemirror_mode": {
    "name": "ipython",
    "version": 3
   },
   "file_extension": ".py",
   "mimetype": "text/x-python",
   "name": "python",
   "nbconvert_exporter": "python",
   "pygments_lexer": "ipython3",
   "version": "3.8.0"
  },
  "orig_nbformat": 4,
  "vscode": {
   "interpreter": {
    "hash": "770d70f40277e0fadd6bc1f7a5fecfd799eee3cbb57c500ccfb48eb07fd2c1ce"
   }
  }
 },
 "nbformat": 4,
 "nbformat_minor": 2
}
