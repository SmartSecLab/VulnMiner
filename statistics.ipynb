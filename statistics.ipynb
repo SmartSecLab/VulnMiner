{
 "cells": [
  {
   "attachments": {},
   "cell_type": "markdown",
   "metadata": {},
   "source": [
    "# Statistics on the output data. "
   ]
  },
  {
   "cell_type": "markdown",
   "metadata": {},
   "source": [
    "### Loading data from the sqlite database to the dataframes"
   ]
  },
  {
   "cell_type": "code",
   "execution_count": 90,
   "metadata": {},
   "outputs": [],
   "source": [
    "import pandas as pd\n",
    "import matplotlib.pyplot as plt\n",
    "import seaborn as sns\n",
    "import plotly.express as px\n",
    "import lizard\n",
    "import subprocess as sub\n",
    "from pylibsrcml import srcml\n",
    "import os\n",
    "import re \n",
    "import xml.etree.ElementTree as et \n",
    "import warnings\n",
    "from sqlite3 import connect\n",
    "from argparse import ArgumentParser\n",
    "from configparser import ConfigParser\n",
    "import yaml\n",
    "from pathlib import Path\n",
    "import random\n",
    "from tabulate import tabulate\n",
    "\n",
    "warnings.filterwarnings(\"ignore\")\n",
    "fig_dir = Path('figure').mkdir(parents=True, exist_ok=True)\n",
    "fig_dir = Path('figure')\n",
    "result_dir = Path('result').mkdir(parents=True, exist_ok=True)\n",
    "result_dir = Path('result')\n",
    "\n",
    "database = \"/Users/guru/research/VulnMiner/data/VulMinerV1.db\"\n",
    "conn= connect(database)\n",
    "random.seed(0)"
   ]
  },
  {
   "cell_type": "code",
   "execution_count": 3,
   "metadata": {},
   "outputs": [
    {
     "data": {
      "text/plain": [
       "Index(['file', 'line', 'column', 'defaultlevel', 'level', 'category', 'name',\n",
       "       'msg', 'note', 'cwe', 'context', 'helpuri', 'severity', 'tool', 'type',\n",
       "       'project'],\n",
       "      dtype='object')"
      ]
     },
     "execution_count": 3,
     "metadata": {},
     "output_type": "execute_result"
    }
   ],
   "source": [
    "dfp = pd.read_sql_query(\"SELECT * FROM project\", con=conn)\n",
    "dfs = pd.read_sql_query(\"SELECT * FROM statement\", con=conn)\n",
    "dff = pd.read_sql_query(\"SELECT * FROM function\", con=conn)\n",
    "dfs.columns"
   ]
  },
  {
   "cell_type": "markdown",
   "metadata": {},
   "source": [
    "### Plotting subburset plot from the frequency of category, name and cwe types. "
   ]
  },
  {
   "cell_type": "code",
   "execution_count": 108,
   "metadata": {},
   "outputs": [
    {
     "data": {
      "application/vnd.plotly.v1+json": {
       "config": {
        "plotlyServerURL": "https://plot.ly"
       },
       "data": [
        {
         "branchvalues": "total",
         "customdata": [
          [
           65
          ],
          [
           23228
          ],
          [
           333
          ],
          [
           4
          ],
          [
           15
          ],
          [
           5276
          ],
          [
           2
          ],
          [
           1
          ],
          [
           5
          ],
          [
           1
          ],
          [
           1
          ],
          [
           24707
          ],
          [
           2
          ],
          [
           7710
          ],
          [
           22
          ],
          [
           530
          ],
          [
           3962
          ],
          [
           82
          ],
          [
           735
          ],
          [
           1
          ],
          [
           6
          ],
          [
           14
          ],
          [
           1
          ],
          [
           11
          ],
          [
           35
          ],
          [
           7
          ],
          [
           20
          ],
          [
           15
          ],
          [
           10
          ],
          [
           22
          ],
          [
           7
          ],
          [
           6
          ],
          [
           3684
          ],
          [
           8
          ],
          [
           35
          ],
          [
           3
          ],
          [
           3
          ],
          [
           8
          ],
          [
           96
          ],
          [
           337
          ],
          [
           5
          ],
          [
           97
          ],
          [
           7566
          ],
          [
           106
          ],
          [
           2
          ],
          [
           173
          ],
          [
           305
          ],
          [
           264
          ],
          [
           169
          ],
          [
           20
          ],
          [
           12
          ],
          [
           108
          ],
          [
           1
          ],
          [
           29
          ],
          [
           236
          ],
          [
           24
          ],
          [
           6
          ],
          [
           2
          ],
          [
           16
          ],
          [
           482
          ],
          [
           59
          ],
          [
           39
          ],
          [
           5
          ],
          [
           2
          ],
          [
           4
          ],
          [
           434
          ],
          [
           1
          ],
          [
           1023
          ],
          [
           12
          ],
          [
           187
          ],
          [
           13
          ],
          [
           25
          ],
          [
           13
          ],
          [
           784
          ],
          [
           1945
          ],
          [
           8
          ],
          [
           58
          ],
          [
           1236
          ],
          [
           53
          ],
          [
           8
          ],
          [
           26
          ],
          [
           1
          ],
          [
           30
          ],
          [
           3
          ],
          [
           47
          ],
          [
           4
          ],
          [
           55
          ],
          [
           6
          ],
          [
           16
          ],
          [
           14
          ],
          [
           132
          ],
          [
           32
          ],
          [
           4
          ],
          [
           1625
          ],
          [
           49
          ],
          [
           434
          ],
          [
           1
          ],
          [
           34
          ],
          [
           45
          ],
          [
           5
          ],
          [
           192
          ],
          [
           67
          ],
          [
           110
          ],
          [
           10958
          ],
          [
           15
          ],
          [
           1
          ],
          [
           4
          ],
          [
           35
          ],
          [
           12
          ],
          [
           3
          ],
          [
           6
          ],
          [
           499
          ],
          [
           6
          ],
          [
           28
          ],
          [
           5
          ],
          [
           1161
          ],
          [
           1
          ],
          [
           31
          ],
          [
           4
          ],
          [
           3
          ],
          [
           82
          ],
          [
           87
          ],
          [
           10
          ],
          [
           2
          ],
          [
           123
          ],
          [
           3
          ],
          [
           5
          ],
          [
           22
          ],
          [
           3
          ],
          [
           11
          ],
          [
           11
          ],
          [
           17
          ],
          [
           21
          ],
          [
           28
          ],
          [
           405
          ],
          [
           6
          ],
          [
           12
          ],
          [
           73
          ],
          [
           2
          ],
          [
           432
          ],
          [
           2
          ],
          [
           50
          ],
          [
           2
          ],
          [
           35
          ],
          [
           2
          ],
          [
           2
          ],
          [
           14
          ],
          [
           66
          ],
          [
           1839
          ],
          [
           549
          ],
          [
           3
          ],
          [
           5
          ],
          [
           4
          ],
          [
           8
          ],
          [
           2
          ],
          [
           50
          ],
          [
           2
          ],
          [
           15
          ],
          [
           3
          ],
          [
           5276
          ],
          [
           65
          ],
          [
           2
          ],
          [
           2
          ],
          [
           16
          ],
          [
           1236
          ],
          [
           73
          ],
          [
           482
          ],
          [
           59
          ],
          [
           34
          ],
          [
           1
          ],
          [
           2
          ],
          [
           23228
          ],
          [
           25
          ],
          [
           13
          ],
          [
           4
          ],
          [
           10958
          ],
          [
           47
          ],
          [
           4
          ],
          [
           434
          ],
          [
           49
          ],
          [
           14
          ],
          [
           45
          ],
          [
           5
          ],
          [
           192
          ],
          [
           2
          ],
          [
           16
          ],
          [
           337
          ],
          [
           4
          ],
          [
           11
          ],
          [
           11
          ],
          [
           17
          ],
          [
           21
          ],
          [
           35
          ],
          [
           784
          ],
          [
           173
          ],
          [
           6.166666666666667
          ],
          [
           20
          ],
          [
           15
          ],
          [
           432
          ],
          [
           10
          ],
          [
           22
          ],
          [
           1
          ],
          [
           7
          ],
          [
           6
          ],
          [
           39
          ],
          [
           35
          ],
          [
           2
          ],
          [
           35
          ],
          [
           12
          ],
          [
           15
          ],
          [
           1
          ],
          [
           67
          ],
          [
           5
          ],
          [
           5
          ],
          [
           132
          ],
          [
           1
          ],
          [
           1
          ],
          [
           1
          ],
          [
           28
          ],
          [
           24707
          ],
          [
           55
          ],
          [
           6
          ],
          [
           97
          ],
          [
           3
          ],
          [
           6
          ],
          [
           87
          ],
          [
           26
          ],
          [
           6
          ],
          [
           12
          ],
          [
           434
          ],
          [
           31
          ],
          [
           10
          ],
          [
           1945
          ],
          [
           2
          ],
          [
           14
          ],
          [
           28
          ],
          [
           66
          ],
          [
           305
          ],
          [
           1023
          ],
          [
           3684
          ],
          [
           58
          ],
          [
           96
          ],
          [
           22
          ],
          [
           1
          ],
          [
           110
          ],
          [
           6.8
          ],
          [
           12
          ],
          [
           2
          ],
          [
           123
          ],
          [
           264
          ],
          [
           7548.249904810255
          ],
          [
           187
          ],
          [
           13
          ],
          [
           29.982456140350877
          ],
          [
           530
          ],
          [
           3962
          ],
          [
           7566
          ],
          [
           82
          ],
          [
           735
          ],
          [
           20
          ],
          [
           1839
          ],
          [
           12
          ],
          [
           405
          ],
          [
           1
          ],
          [
           30
          ],
          [
           3
          ],
          [
           5
          ],
          [
           82
          ],
          [
           32
          ],
          [
           4
          ],
          [
           1625
          ],
          [
           3
          ],
          [
           549
          ],
          [
           1161
          ],
          [
           499
          ],
          [
           6
          ],
          [
           8
          ],
          [
           108
          ],
          [
           3
          ],
          [
           1
          ],
          [
           29
          ],
          [
           3
          ],
          [
           236
          ],
          [
           23.08
          ],
          [
           8
          ],
          [
           6
          ],
          [
           2
          ],
          [
           333
          ],
          [
           6
          ],
          [
           14
          ],
          [
           106
          ],
          [
           1
          ],
          [
           11
          ],
          [
           4
          ],
          [
           53
          ]
         ],
         "domain": {
          "x": [
           0,
           1
          ],
          "y": [
           0,
           1
          ]
         },
         "hovertemplate": "labels=%{label}<br>count_sum=%{value}<br>parent=%{parent}<br>id=%{id}<br>count=%{color}<extra></extra>",
         "ids": [
          "TCHAR/CWE-119!/CWE-120",
          "char/CWE-119!/CWE-120",
          "wchar_t/CWE-119!/CWE-120",
          "CopyMemory/CWE-120",
          "MultiByteToWideChar/CWE-120",
          "StrCat/CWE-120",
          "_stprintf/CWE-120",
          "bcopy/CWE-120",
          "fscanf/CWE-120",
          "lstrcatW/CWE-120",
          "lstrcpy/CWE-120",
          "memcpy/CWE-120",
          "scanf/CWE-120",
          "sprintf/CWE-120",
          "sscanf/CWE-120",
          "strcat/CWE-120",
          "strcpy/CWE-120",
          "strncat/CWE-120",
          "strncpy/CWE-120",
          "vsprintf/CWE-120",
          "wcscat/CWE-120",
          "wcscpy/CWE-120",
          "wcsncat/CWE-120",
          "wcsncpy/CWE-120",
          "fgetc/CWE-120, CWE-20",
          "fscanf/CWE-120, CWE-20",
          "getc/CWE-120, CWE-20",
          "getchar/CWE-120, CWE-20",
          "getopt/CWE-120, CWE-20",
          "getopt_long/CWE-120, CWE-20",
          "gets/CWE-120, CWE-20",
          "getwd/CWE-120, CWE-20",
          "read/CWE-120, CWE-20",
          "scanf/CWE-120, CWE-20",
          "sscanf/CWE-120, CWE-20",
          "vfscanf/CWE-120, CWE-20",
          "vscanf/CWE-120, CWE-20",
          "vsscanf/CWE-120, CWE-20",
          "realpath/CWE-120/CWE-785!",
          "equal/CWE-126",
          "is_permutation/CWE-126",
          "mismatch/CWE-126",
          "strlen/CWE-126",
          "wcslen/CWE-126",
          "_snprintf/CWE-134",
          "fprintf/CWE-134",
          "printf/CWE-134",
          "snprintf/CWE-134",
          "sprintf/CWE-134",
          "swprintf/CWE-134",
          "syslog/CWE-134",
          "vfprintf/CWE-134",
          "vfwprintf/CWE-134",
          "vprintf/CWE-134",
          "vsnprintf/CWE-134",
          "vsprintf/CWE-134",
          "vswprintf/CWE-134",
          "vwprintf/CWE-134",
          "_wtoi/CWE-190",
          "atoi/CWE-190",
          "atol/CWE-190",
          "integerOverflow/CWE-190",
          "CoImpersonateClient/CWE-250",
          "ImpersonateLoggedOnUser/CWE-250",
          "chroot/CWE-250, CWE-22",
          "crypt/CWE-327",
          "lrand48/CWE-327",
          "random/CWE-327",
          "setstate/CWE-327",
          "srand/CWE-327",
          "srandom/CWE-327",
          "chmod/CWE-362",
          "chown/CWE-362",
          "fopen/CWE-362",
          "open/CWE-362",
          "vfork/CWE-362",
          "readlink/CWE-362, CWE-20",
          "access/CWE-362/CWE-367!",
          "zerodiv/CWE-369",
          "GetTempFileName/CWE-377",
          "mkstemp/CWE-377",
          "tempnam/CWE-377",
          "tmpfile/CWE-377",
          "tmpnam/CWE-377",
          "containerOutOfBounds/CWE-398",
          "containerOutOfBoundsIndexExpression/CWE-398",
          "memleak/CWE-401",
          "memleakOnRealloc/CWE-401",
          "doubleFree/CWE-415",
          "ctuuninitvar/CWE-457",
          "legacyUninitvar/CWE-457",
          "uninitStructMember/CWE-457",
          "uninitdata/CWE-457",
          "uninitvar/CWE-457",
          "ctunullpointer/CWE-476",
          "nullPointer/CWE-476",
          "rethrowNoCurrentException/CWE-480",
          "autoVariables/CWE-562",
          "danglingLifetime/CWE-562",
          "danglingTempReference/CWE-562",
          "danglingTemporaryLifetime/CWE-562",
          "invalidLifetime/CWE-562",
          "returnDanglingLifetime/CWE-562",
          "comparePointers/CWE-570",
          "invalidFunctionArg/CWE-628",
          "invalidFunctionArgStr/CWE-628",
          "eraseDereference/CWE-664",
          "invalidContainer/CWE-664",
          "invalidContainerReference/CWE-664",
          "mismatchingContainerExpression/CWE-664",
          "mismatchingContainers/CWE-664",
          "va_end_missing/CWE-664",
          "va_list_usedBeforeStarted/CWE-664",
          "memalign/CWE-676",
          "ulimit/CWE-676",
          "usleep/CWE-676",
          "getpass/CWE-676, CWE-120, CWE-20",
          "nullPointerArithmetic/CWE-682",
          "wrongPrintfScanfArgNum/CWE-685",
          "AddAccessAllowedAce/CWE-732",
          "umask/CWE-732",
          "missingReturn/CWE-758",
          "objectIndex/CWE-758",
          "shiftNegative/CWE-758",
          "shiftTooManyBits/CWE-758",
          "unknownEvaluationOrder/CWE-768",
          "leakReturnValNotUsed/CWE-771",
          "resourceLeak/CWE-775",
          "ShellExecute/CWE-78",
          "execl/CWE-78",
          "execlp/CWE-78",
          "execv/CWE-78",
          "execvp/CWE-78",
          "popen/CWE-78",
          "system/CWE-78",
          "negativeContainerIndex/CWE-786",
          "negativeIndex/CWE-786",
          "arrayIndexOutOfBounds/CWE-788",
          "bufferAccessOutOfBounds/CWE-788",
          "getenv/CWE-807, CWE-20",
          "derefInvalidIterator/CWE-825",
          "LoadLibrary/CWE-829, CWE-20",
          "LoadLibraryEx/CWE-829, CWE-20",
          "internalAstError/CWE-unknown",
          "internalError/CWE-unknown",
          "overlappingWriteFunction/CWE-unknown",
          "overlappingWriteUnion/CWE-unknown",
          "preprocessorErrorDirective/CWE-unknown",
          "syntaxError/CWE-unknown",
          "unknownMacro/CWE-unknown",
          "AddAccessAllowedAce",
          "CoImpersonateClient",
          "CopyMemory",
          "GetTempFileName",
          "ImpersonateLoggedOnUser",
          "LoadLibrary",
          "LoadLibraryEx",
          "MultiByteToWideChar",
          "ShellExecute",
          "StrCat",
          "TCHAR",
          "_snprintf",
          "_stprintf",
          "_wtoi",
          "access",
          "arrayIndexOutOfBounds",
          "atoi",
          "atol",
          "autoVariables",
          "bcopy",
          "bufferAccessOutOfBounds",
          "char",
          "chmod",
          "chown",
          "chroot",
          "comparePointers",
          "containerOutOfBounds",
          "containerOutOfBoundsIndexExpression",
          "crypt",
          "ctunullpointer",
          "ctuuninitvar",
          "danglingLifetime",
          "danglingTempReference",
          "danglingTemporaryLifetime",
          "derefInvalidIterator",
          "doubleFree",
          "equal",
          "eraseDereference",
          "execl",
          "execlp",
          "execv",
          "execvp",
          "fgetc",
          "fopen",
          "fprintf",
          "fscanf",
          "getc",
          "getchar",
          "getenv",
          "getopt",
          "getopt_long",
          "getpass",
          "gets",
          "getwd",
          "integerOverflow",
          "internalAstError",
          "internalError",
          "invalidContainer",
          "invalidContainerReference",
          "invalidFunctionArg",
          "invalidFunctionArgStr",
          "invalidLifetime",
          "is_permutation",
          "leakReturnValNotUsed",
          "legacyUninitvar",
          "lrand48",
          "lstrcatW",
          "lstrcpy",
          "memalign",
          "memcpy",
          "memleak",
          "memleakOnRealloc",
          "mismatch",
          "mismatchingContainerExpression",
          "mismatchingContainers",
          "missingReturn",
          "mkstemp",
          "negativeContainerIndex",
          "negativeIndex",
          "nullPointer",
          "nullPointerArithmetic",
          "objectIndex",
          "open",
          "overlappingWriteFunction",
          "overlappingWriteUnion",
          "popen",
          "preprocessorErrorDirective",
          "printf",
          "random",
          "read",
          "readlink",
          "realpath",
          "resourceLeak",
          "rethrowNoCurrentException",
          "returnDanglingLifetime",
          "scanf",
          "setstate",
          "shiftNegative",
          "shiftTooManyBits",
          "snprintf",
          "sprintf",
          "srand",
          "srandom",
          "sscanf",
          "strcat",
          "strcpy",
          "strlen",
          "strncat",
          "strncpy",
          "swprintf",
          "syntaxError",
          "syslog",
          "system",
          "tempnam",
          "tmpfile",
          "tmpnam",
          "ulimit",
          "umask",
          "uninitStructMember",
          "uninitdata",
          "uninitvar",
          "unknownEvaluationOrder",
          "unknownMacro",
          "usleep",
          "va_end_missing",
          "va_list_usedBeforeStarted",
          "vfork",
          "vfprintf",
          "vfscanf",
          "vfwprintf",
          "vprintf",
          "vscanf",
          "vsnprintf",
          "vsprintf",
          "vsscanf",
          "vswprintf",
          "vwprintf",
          "wchar_t",
          "wcscat",
          "wcscpy",
          "wcslen",
          "wcsncat",
          "wcsncpy",
          "wrongPrintfScanfArgNum",
          "zerodiv"
         ],
         "labels": [
          "CWE-119!/CWE-120",
          "CWE-119!/CWE-120",
          "CWE-119!/CWE-120",
          "CWE-120",
          "CWE-120",
          "CWE-120",
          "CWE-120",
          "CWE-120",
          "CWE-120",
          "CWE-120",
          "CWE-120",
          "CWE-120",
          "CWE-120",
          "CWE-120",
          "CWE-120",
          "CWE-120",
          "CWE-120",
          "CWE-120",
          "CWE-120",
          "CWE-120",
          "CWE-120",
          "CWE-120",
          "CWE-120",
          "CWE-120",
          "CWE-120, CWE-20",
          "CWE-120, CWE-20",
          "CWE-120, CWE-20",
          "CWE-120, CWE-20",
          "CWE-120, CWE-20",
          "CWE-120, CWE-20",
          "CWE-120, CWE-20",
          "CWE-120, CWE-20",
          "CWE-120, CWE-20",
          "CWE-120, CWE-20",
          "CWE-120, CWE-20",
          "CWE-120, CWE-20",
          "CWE-120, CWE-20",
          "CWE-120, CWE-20",
          "CWE-120/CWE-785!",
          "CWE-126",
          "CWE-126",
          "CWE-126",
          "CWE-126",
          "CWE-126",
          "CWE-134",
          "CWE-134",
          "CWE-134",
          "CWE-134",
          "CWE-134",
          "CWE-134",
          "CWE-134",
          "CWE-134",
          "CWE-134",
          "CWE-134",
          "CWE-134",
          "CWE-134",
          "CWE-134",
          "CWE-134",
          "CWE-190",
          "CWE-190",
          "CWE-190",
          "CWE-190",
          "CWE-250",
          "CWE-250",
          "CWE-250, CWE-22",
          "CWE-327",
          "CWE-327",
          "CWE-327",
          "CWE-327",
          "CWE-327",
          "CWE-327",
          "CWE-362",
          "CWE-362",
          "CWE-362",
          "CWE-362",
          "CWE-362",
          "CWE-362, CWE-20",
          "CWE-362/CWE-367!",
          "CWE-369",
          "CWE-377",
          "CWE-377",
          "CWE-377",
          "CWE-377",
          "CWE-377",
          "CWE-398",
          "CWE-398",
          "CWE-401",
          "CWE-401",
          "CWE-415",
          "CWE-457",
          "CWE-457",
          "CWE-457",
          "CWE-457",
          "CWE-457",
          "CWE-476",
          "CWE-476",
          "CWE-480",
          "CWE-562",
          "CWE-562",
          "CWE-562",
          "CWE-562",
          "CWE-562",
          "CWE-562",
          "CWE-570",
          "CWE-628",
          "CWE-628",
          "CWE-664",
          "CWE-664",
          "CWE-664",
          "CWE-664",
          "CWE-664",
          "CWE-664",
          "CWE-664",
          "CWE-676",
          "CWE-676",
          "CWE-676",
          "CWE-676, CWE-120, CWE-20",
          "CWE-682",
          "CWE-685",
          "CWE-732",
          "CWE-732",
          "CWE-758",
          "CWE-758",
          "CWE-758",
          "CWE-758",
          "CWE-768",
          "CWE-771",
          "CWE-775",
          "CWE-78",
          "CWE-78",
          "CWE-78",
          "CWE-78",
          "CWE-78",
          "CWE-78",
          "CWE-78",
          "CWE-786",
          "CWE-786",
          "CWE-788",
          "CWE-788",
          "CWE-807, CWE-20",
          "CWE-825",
          "CWE-829, CWE-20",
          "CWE-829, CWE-20",
          "CWE-unknown",
          "CWE-unknown",
          "CWE-unknown",
          "CWE-unknown",
          "CWE-unknown",
          "CWE-unknown",
          "CWE-unknown",
          "AddAccessAllowedAce",
          "CoImpersonateClient",
          "CopyMemory",
          "GetTempFileName",
          "ImpersonateLoggedOnUser",
          "LoadLibrary",
          "LoadLibraryEx",
          "MultiByteToWideChar",
          "ShellExecute",
          "StrCat",
          "TCHAR",
          "_snprintf",
          "_stprintf",
          "_wtoi",
          "access",
          "arrayIndexOutOfBounds",
          "atoi",
          "atol",
          "autoVariables",
          "bcopy",
          "bufferAccessOutOfBounds",
          "char",
          "chmod",
          "chown",
          "chroot",
          "comparePointers",
          "containerOutOfBounds",
          "containerOutOfBoundsIndexExpression",
          "crypt",
          "ctunullpointer",
          "ctuuninitvar",
          "danglingLifetime",
          "danglingTempReference",
          "danglingTemporaryLifetime",
          "derefInvalidIterator",
          "doubleFree",
          "equal",
          "eraseDereference",
          "execl",
          "execlp",
          "execv",
          "execvp",
          "fgetc",
          "fopen",
          "fprintf",
          "fscanf",
          "getc",
          "getchar",
          "getenv",
          "getopt",
          "getopt_long",
          "getpass",
          "gets",
          "getwd",
          "integerOverflow",
          "internalAstError",
          "internalError",
          "invalidContainer",
          "invalidContainerReference",
          "invalidFunctionArg",
          "invalidFunctionArgStr",
          "invalidLifetime",
          "is_permutation",
          "leakReturnValNotUsed",
          "legacyUninitvar",
          "lrand48",
          "lstrcatW",
          "lstrcpy",
          "memalign",
          "memcpy",
          "memleak",
          "memleakOnRealloc",
          "mismatch",
          "mismatchingContainerExpression",
          "mismatchingContainers",
          "missingReturn",
          "mkstemp",
          "negativeContainerIndex",
          "negativeIndex",
          "nullPointer",
          "nullPointerArithmetic",
          "objectIndex",
          "open",
          "overlappingWriteFunction",
          "overlappingWriteUnion",
          "popen",
          "preprocessorErrorDirective",
          "printf",
          "random",
          "read",
          "readlink",
          "realpath",
          "resourceLeak",
          "rethrowNoCurrentException",
          "returnDanglingLifetime",
          "scanf",
          "setstate",
          "shiftNegative",
          "shiftTooManyBits",
          "snprintf",
          "sprintf",
          "srand",
          "srandom",
          "sscanf",
          "strcat",
          "strcpy",
          "strlen",
          "strncat",
          "strncpy",
          "swprintf",
          "syntaxError",
          "syslog",
          "system",
          "tempnam",
          "tmpfile",
          "tmpnam",
          "ulimit",
          "umask",
          "uninitStructMember",
          "uninitdata",
          "uninitvar",
          "unknownEvaluationOrder",
          "unknownMacro",
          "usleep",
          "va_end_missing",
          "va_list_usedBeforeStarted",
          "vfork",
          "vfprintf",
          "vfscanf",
          "vfwprintf",
          "vprintf",
          "vscanf",
          "vsnprintf",
          "vsprintf",
          "vsscanf",
          "vswprintf",
          "vwprintf",
          "wchar_t",
          "wcscat",
          "wcscpy",
          "wcslen",
          "wcsncat",
          "wcsncpy",
          "wrongPrintfScanfArgNum",
          "zerodiv"
         ],
         "marker": {
          "coloraxis": "coloraxis",
          "colors": [
           65,
           23228,
           333,
           4,
           15,
           5276,
           2,
           1,
           5,
           1,
           1,
           24707,
           2,
           7710,
           22,
           530,
           3962,
           82,
           735,
           1,
           6,
           14,
           1,
           11,
           35,
           7,
           20,
           15,
           10,
           22,
           7,
           6,
           3684,
           8,
           35,
           3,
           3,
           8,
           96,
           337,
           5,
           97,
           7566,
           106,
           2,
           173,
           305,
           264,
           169,
           20,
           12,
           108,
           1,
           29,
           236,
           24,
           6,
           2,
           16,
           482,
           59,
           39,
           5,
           2,
           4,
           434,
           1,
           1023,
           12,
           187,
           13,
           25,
           13,
           784,
           1945,
           8,
           58,
           1236,
           53,
           8,
           26,
           1,
           30,
           3,
           47,
           4,
           55,
           6,
           16,
           14,
           132,
           32,
           4,
           1625,
           49,
           434,
           1,
           34,
           45,
           5,
           192,
           67,
           110,
           10958,
           15,
           1,
           4,
           35,
           12,
           3,
           6,
           499,
           6,
           28,
           5,
           1161,
           1,
           31,
           4,
           3,
           82,
           87,
           10,
           2,
           123,
           3,
           5,
           22,
           3,
           11,
           11,
           17,
           21,
           28,
           405,
           6,
           12,
           73,
           2,
           432,
           2,
           50,
           2,
           35,
           2,
           2,
           14,
           66,
           1839,
           549,
           3,
           5,
           4,
           8,
           2,
           50,
           2,
           15,
           3,
           5276,
           65,
           2,
           2,
           16,
           1236,
           73,
           482,
           59,
           34,
           1,
           2,
           23228,
           25,
           13,
           4,
           10958,
           47,
           4,
           434,
           49,
           14,
           45,
           5,
           192,
           2,
           16,
           337,
           4,
           11,
           11,
           17,
           21,
           35,
           784,
           173,
           6.166666666666667,
           20,
           15,
           432,
           10,
           22,
           1,
           7,
           6,
           39,
           35,
           2,
           35,
           12,
           15,
           1,
           67,
           5,
           5,
           132,
           1,
           1,
           1,
           28,
           24707,
           55,
           6,
           97,
           3,
           6,
           87,
           26,
           6,
           12,
           434,
           31,
           10,
           1945,
           2,
           14,
           28,
           66,
           305,
           1023,
           3684,
           58,
           96,
           22,
           1,
           110,
           6.8,
           12,
           2,
           123,
           264,
           7548.249904810255,
           187,
           13,
           29.982456140350877,
           530,
           3962,
           7566,
           82,
           735,
           20,
           1839,
           12,
           405,
           1,
           30,
           3,
           5,
           82,
           32,
           4,
           1625,
           3,
           549,
           1161,
           499,
           6,
           8,
           108,
           3,
           1,
           29,
           3,
           236,
           23.08,
           8,
           6,
           2,
           333,
           6,
           14,
           106,
           1,
           11,
           4,
           53
          ]
         },
         "name": "",
         "parents": [
          "TCHAR",
          "char",
          "wchar_t",
          "CopyMemory",
          "MultiByteToWideChar",
          "StrCat",
          "_stprintf",
          "bcopy",
          "fscanf",
          "lstrcatW",
          "lstrcpy",
          "memcpy",
          "scanf",
          "sprintf",
          "sscanf",
          "strcat",
          "strcpy",
          "strncat",
          "strncpy",
          "vsprintf",
          "wcscat",
          "wcscpy",
          "wcsncat",
          "wcsncpy",
          "fgetc",
          "fscanf",
          "getc",
          "getchar",
          "getopt",
          "getopt_long",
          "gets",
          "getwd",
          "read",
          "scanf",
          "sscanf",
          "vfscanf",
          "vscanf",
          "vsscanf",
          "realpath",
          "equal",
          "is_permutation",
          "mismatch",
          "strlen",
          "wcslen",
          "_snprintf",
          "fprintf",
          "printf",
          "snprintf",
          "sprintf",
          "swprintf",
          "syslog",
          "vfprintf",
          "vfwprintf",
          "vprintf",
          "vsnprintf",
          "vsprintf",
          "vswprintf",
          "vwprintf",
          "_wtoi",
          "atoi",
          "atol",
          "integerOverflow",
          "CoImpersonateClient",
          "ImpersonateLoggedOnUser",
          "chroot",
          "crypt",
          "lrand48",
          "random",
          "setstate",
          "srand",
          "srandom",
          "chmod",
          "chown",
          "fopen",
          "open",
          "vfork",
          "readlink",
          "access",
          "zerodiv",
          "GetTempFileName",
          "mkstemp",
          "tempnam",
          "tmpfile",
          "tmpnam",
          "containerOutOfBounds",
          "containerOutOfBoundsIndexExpression",
          "memleak",
          "memleakOnRealloc",
          "doubleFree",
          "ctuuninitvar",
          "legacyUninitvar",
          "uninitStructMember",
          "uninitdata",
          "uninitvar",
          "ctunullpointer",
          "nullPointer",
          "rethrowNoCurrentException",
          "autoVariables",
          "danglingLifetime",
          "danglingTempReference",
          "danglingTemporaryLifetime",
          "invalidLifetime",
          "returnDanglingLifetime",
          "comparePointers",
          "invalidFunctionArg",
          "invalidFunctionArgStr",
          "eraseDereference",
          "invalidContainer",
          "invalidContainerReference",
          "mismatchingContainerExpression",
          "mismatchingContainers",
          "va_end_missing",
          "va_list_usedBeforeStarted",
          "memalign",
          "ulimit",
          "usleep",
          "getpass",
          "nullPointerArithmetic",
          "wrongPrintfScanfArgNum",
          "AddAccessAllowedAce",
          "umask",
          "missingReturn",
          "objectIndex",
          "shiftNegative",
          "shiftTooManyBits",
          "unknownEvaluationOrder",
          "leakReturnValNotUsed",
          "resourceLeak",
          "ShellExecute",
          "execl",
          "execlp",
          "execv",
          "execvp",
          "popen",
          "system",
          "negativeContainerIndex",
          "negativeIndex",
          "arrayIndexOutOfBounds",
          "bufferAccessOutOfBounds",
          "getenv",
          "derefInvalidIterator",
          "LoadLibrary",
          "LoadLibraryEx",
          "internalAstError",
          "internalError",
          "overlappingWriteFunction",
          "overlappingWriteUnion",
          "preprocessorErrorDirective",
          "syntaxError",
          "unknownMacro",
          "",
          "",
          "",
          "",
          "",
          "",
          "",
          "",
          "",
          "",
          "",
          "",
          "",
          "",
          "",
          "",
          "",
          "",
          "",
          "",
          "",
          "",
          "",
          "",
          "",
          "",
          "",
          "",
          "",
          "",
          "",
          "",
          "",
          "",
          "",
          "",
          "",
          "",
          "",
          "",
          "",
          "",
          "",
          "",
          "",
          "",
          "",
          "",
          "",
          "",
          "",
          "",
          "",
          "",
          "",
          "",
          "",
          "",
          "",
          "",
          "",
          "",
          "",
          "",
          "",
          "",
          "",
          "",
          "",
          "",
          "",
          "",
          "",
          "",
          "",
          "",
          "",
          "",
          "",
          "",
          "",
          "",
          "",
          "",
          "",
          "",
          "",
          "",
          "",
          "",
          "",
          "",
          "",
          "",
          "",
          "",
          "",
          "",
          "",
          "",
          "",
          "",
          "",
          "",
          "",
          "",
          "",
          "",
          "",
          "",
          "",
          "",
          "",
          "",
          "",
          "",
          "",
          "",
          "",
          "",
          "",
          "",
          "",
          "",
          "",
          "",
          "",
          "",
          "",
          "",
          "",
          "",
          "",
          "",
          "",
          "",
          "",
          "",
          "",
          "",
          "",
          "",
          "",
          "",
          ""
         ],
         "type": "sunburst",
         "values": [
          65,
          23228,
          333,
          4,
          15,
          5276,
          2,
          1,
          5,
          1,
          1,
          24707,
          2,
          7710,
          22,
          530,
          3962,
          82,
          735,
          1,
          6,
          14,
          1,
          11,
          35,
          7,
          20,
          15,
          10,
          22,
          7,
          6,
          3684,
          8,
          35,
          3,
          3,
          8,
          96,
          337,
          5,
          97,
          7566,
          106,
          2,
          173,
          305,
          264,
          169,
          20,
          12,
          108,
          1,
          29,
          236,
          24,
          6,
          2,
          16,
          482,
          59,
          39,
          5,
          2,
          4,
          434,
          1,
          1023,
          12,
          187,
          13,
          25,
          13,
          784,
          1945,
          8,
          58,
          1236,
          53,
          8,
          26,
          1,
          30,
          3,
          47,
          4,
          55,
          6,
          16,
          14,
          132,
          32,
          4,
          1625,
          49,
          434,
          1,
          34,
          45,
          5,
          192,
          67,
          110,
          10958,
          15,
          1,
          4,
          35,
          12,
          3,
          6,
          499,
          6,
          28,
          5,
          1161,
          1,
          31,
          4,
          3,
          82,
          87,
          10,
          2,
          123,
          3,
          5,
          22,
          3,
          11,
          11,
          17,
          21,
          28,
          405,
          6,
          12,
          73,
          2,
          432,
          2,
          50,
          2,
          35,
          2,
          2,
          14,
          66,
          1839,
          549,
          3,
          5,
          4,
          8,
          2,
          50,
          2,
          15,
          3,
          5276,
          65,
          2,
          2,
          16,
          1236,
          73,
          482,
          59,
          34,
          1,
          2,
          23228,
          25,
          13,
          4,
          10958,
          47,
          4,
          434,
          49,
          14,
          45,
          5,
          192,
          2,
          16,
          337,
          4,
          11,
          11,
          17,
          21,
          35,
          784,
          173,
          12,
          20,
          15,
          432,
          10,
          22,
          1,
          7,
          6,
          39,
          35,
          2,
          35,
          12,
          15,
          1,
          67,
          5,
          5,
          132,
          1,
          1,
          1,
          28,
          24707,
          55,
          6,
          97,
          3,
          6,
          87,
          26,
          6,
          12,
          434,
          31,
          10,
          1945,
          2,
          14,
          28,
          66,
          305,
          1023,
          3684,
          58,
          96,
          22,
          1,
          110,
          10,
          12,
          2,
          123,
          264,
          7879,
          187,
          13,
          57,
          530,
          3962,
          7566,
          82,
          735,
          20,
          1839,
          12,
          405,
          1,
          30,
          3,
          5,
          82,
          32,
          4,
          1625,
          3,
          549,
          1161,
          499,
          6,
          8,
          108,
          3,
          1,
          29,
          3,
          236,
          25,
          8,
          6,
          2,
          333,
          6,
          14,
          106,
          1,
          11,
          4,
          53
         ]
        }
       ],
       "layout": {
        "autosize": false,
        "coloraxis": {
         "colorbar": {
          "title": {
           "text": "count"
          }
         },
         "colorscale": [
          [
           0,
           "rgb(255,245,240)"
          ],
          [
           0.125,
           "rgb(254,224,210)"
          ],
          [
           0.25,
           "rgb(252,187,161)"
          ],
          [
           0.375,
           "rgb(252,146,114)"
          ],
          [
           0.5,
           "rgb(251,106,74)"
          ],
          [
           0.625,
           "rgb(239,59,44)"
          ],
          [
           0.75,
           "rgb(203,24,29)"
          ],
          [
           0.875,
           "rgb(165,15,21)"
          ],
          [
           1,
           "rgb(103,0,13)"
          ]
         ]
        },
        "height": 800,
        "legend": {
         "tracegroupgap": 0
        },
        "margin": {
         "t": 60
        },
        "template": {
         "data": {
          "bar": [
           {
            "error_x": {
             "color": "#2a3f5f"
            },
            "error_y": {
             "color": "#2a3f5f"
            },
            "marker": {
             "line": {
              "color": "#E5ECF6",
              "width": 0.5
             },
             "pattern": {
              "fillmode": "overlay",
              "size": 10,
              "solidity": 0.2
             }
            },
            "type": "bar"
           }
          ],
          "barpolar": [
           {
            "marker": {
             "line": {
              "color": "#E5ECF6",
              "width": 0.5
             },
             "pattern": {
              "fillmode": "overlay",
              "size": 10,
              "solidity": 0.2
             }
            },
            "type": "barpolar"
           }
          ],
          "carpet": [
           {
            "aaxis": {
             "endlinecolor": "#2a3f5f",
             "gridcolor": "white",
             "linecolor": "white",
             "minorgridcolor": "white",
             "startlinecolor": "#2a3f5f"
            },
            "baxis": {
             "endlinecolor": "#2a3f5f",
             "gridcolor": "white",
             "linecolor": "white",
             "minorgridcolor": "white",
             "startlinecolor": "#2a3f5f"
            },
            "type": "carpet"
           }
          ],
          "choropleth": [
           {
            "colorbar": {
             "outlinewidth": 0,
             "ticks": ""
            },
            "type": "choropleth"
           }
          ],
          "contour": [
           {
            "colorbar": {
             "outlinewidth": 0,
             "ticks": ""
            },
            "colorscale": [
             [
              0,
              "#0d0887"
             ],
             [
              0.1111111111111111,
              "#46039f"
             ],
             [
              0.2222222222222222,
              "#7201a8"
             ],
             [
              0.3333333333333333,
              "#9c179e"
             ],
             [
              0.4444444444444444,
              "#bd3786"
             ],
             [
              0.5555555555555556,
              "#d8576b"
             ],
             [
              0.6666666666666666,
              "#ed7953"
             ],
             [
              0.7777777777777778,
              "#fb9f3a"
             ],
             [
              0.8888888888888888,
              "#fdca26"
             ],
             [
              1,
              "#f0f921"
             ]
            ],
            "type": "contour"
           }
          ],
          "contourcarpet": [
           {
            "colorbar": {
             "outlinewidth": 0,
             "ticks": ""
            },
            "type": "contourcarpet"
           }
          ],
          "heatmap": [
           {
            "colorbar": {
             "outlinewidth": 0,
             "ticks": ""
            },
            "colorscale": [
             [
              0,
              "#0d0887"
             ],
             [
              0.1111111111111111,
              "#46039f"
             ],
             [
              0.2222222222222222,
              "#7201a8"
             ],
             [
              0.3333333333333333,
              "#9c179e"
             ],
             [
              0.4444444444444444,
              "#bd3786"
             ],
             [
              0.5555555555555556,
              "#d8576b"
             ],
             [
              0.6666666666666666,
              "#ed7953"
             ],
             [
              0.7777777777777778,
              "#fb9f3a"
             ],
             [
              0.8888888888888888,
              "#fdca26"
             ],
             [
              1,
              "#f0f921"
             ]
            ],
            "type": "heatmap"
           }
          ],
          "heatmapgl": [
           {
            "colorbar": {
             "outlinewidth": 0,
             "ticks": ""
            },
            "colorscale": [
             [
              0,
              "#0d0887"
             ],
             [
              0.1111111111111111,
              "#46039f"
             ],
             [
              0.2222222222222222,
              "#7201a8"
             ],
             [
              0.3333333333333333,
              "#9c179e"
             ],
             [
              0.4444444444444444,
              "#bd3786"
             ],
             [
              0.5555555555555556,
              "#d8576b"
             ],
             [
              0.6666666666666666,
              "#ed7953"
             ],
             [
              0.7777777777777778,
              "#fb9f3a"
             ],
             [
              0.8888888888888888,
              "#fdca26"
             ],
             [
              1,
              "#f0f921"
             ]
            ],
            "type": "heatmapgl"
           }
          ],
          "histogram": [
           {
            "marker": {
             "pattern": {
              "fillmode": "overlay",
              "size": 10,
              "solidity": 0.2
             }
            },
            "type": "histogram"
           }
          ],
          "histogram2d": [
           {
            "colorbar": {
             "outlinewidth": 0,
             "ticks": ""
            },
            "colorscale": [
             [
              0,
              "#0d0887"
             ],
             [
              0.1111111111111111,
              "#46039f"
             ],
             [
              0.2222222222222222,
              "#7201a8"
             ],
             [
              0.3333333333333333,
              "#9c179e"
             ],
             [
              0.4444444444444444,
              "#bd3786"
             ],
             [
              0.5555555555555556,
              "#d8576b"
             ],
             [
              0.6666666666666666,
              "#ed7953"
             ],
             [
              0.7777777777777778,
              "#fb9f3a"
             ],
             [
              0.8888888888888888,
              "#fdca26"
             ],
             [
              1,
              "#f0f921"
             ]
            ],
            "type": "histogram2d"
           }
          ],
          "histogram2dcontour": [
           {
            "colorbar": {
             "outlinewidth": 0,
             "ticks": ""
            },
            "colorscale": [
             [
              0,
              "#0d0887"
             ],
             [
              0.1111111111111111,
              "#46039f"
             ],
             [
              0.2222222222222222,
              "#7201a8"
             ],
             [
              0.3333333333333333,
              "#9c179e"
             ],
             [
              0.4444444444444444,
              "#bd3786"
             ],
             [
              0.5555555555555556,
              "#d8576b"
             ],
             [
              0.6666666666666666,
              "#ed7953"
             ],
             [
              0.7777777777777778,
              "#fb9f3a"
             ],
             [
              0.8888888888888888,
              "#fdca26"
             ],
             [
              1,
              "#f0f921"
             ]
            ],
            "type": "histogram2dcontour"
           }
          ],
          "mesh3d": [
           {
            "colorbar": {
             "outlinewidth": 0,
             "ticks": ""
            },
            "type": "mesh3d"
           }
          ],
          "parcoords": [
           {
            "line": {
             "colorbar": {
              "outlinewidth": 0,
              "ticks": ""
             }
            },
            "type": "parcoords"
           }
          ],
          "pie": [
           {
            "automargin": true,
            "type": "pie"
           }
          ],
          "scatter": [
           {
            "fillpattern": {
             "fillmode": "overlay",
             "size": 10,
             "solidity": 0.2
            },
            "type": "scatter"
           }
          ],
          "scatter3d": [
           {
            "line": {
             "colorbar": {
              "outlinewidth": 0,
              "ticks": ""
             }
            },
            "marker": {
             "colorbar": {
              "outlinewidth": 0,
              "ticks": ""
             }
            },
            "type": "scatter3d"
           }
          ],
          "scattercarpet": [
           {
            "marker": {
             "colorbar": {
              "outlinewidth": 0,
              "ticks": ""
             }
            },
            "type": "scattercarpet"
           }
          ],
          "scattergeo": [
           {
            "marker": {
             "colorbar": {
              "outlinewidth": 0,
              "ticks": ""
             }
            },
            "type": "scattergeo"
           }
          ],
          "scattergl": [
           {
            "marker": {
             "colorbar": {
              "outlinewidth": 0,
              "ticks": ""
             }
            },
            "type": "scattergl"
           }
          ],
          "scattermapbox": [
           {
            "marker": {
             "colorbar": {
              "outlinewidth": 0,
              "ticks": ""
             }
            },
            "type": "scattermapbox"
           }
          ],
          "scatterpolar": [
           {
            "marker": {
             "colorbar": {
              "outlinewidth": 0,
              "ticks": ""
             }
            },
            "type": "scatterpolar"
           }
          ],
          "scatterpolargl": [
           {
            "marker": {
             "colorbar": {
              "outlinewidth": 0,
              "ticks": ""
             }
            },
            "type": "scatterpolargl"
           }
          ],
          "scatterternary": [
           {
            "marker": {
             "colorbar": {
              "outlinewidth": 0,
              "ticks": ""
             }
            },
            "type": "scatterternary"
           }
          ],
          "surface": [
           {
            "colorbar": {
             "outlinewidth": 0,
             "ticks": ""
            },
            "colorscale": [
             [
              0,
              "#0d0887"
             ],
             [
              0.1111111111111111,
              "#46039f"
             ],
             [
              0.2222222222222222,
              "#7201a8"
             ],
             [
              0.3333333333333333,
              "#9c179e"
             ],
             [
              0.4444444444444444,
              "#bd3786"
             ],
             [
              0.5555555555555556,
              "#d8576b"
             ],
             [
              0.6666666666666666,
              "#ed7953"
             ],
             [
              0.7777777777777778,
              "#fb9f3a"
             ],
             [
              0.8888888888888888,
              "#fdca26"
             ],
             [
              1,
              "#f0f921"
             ]
            ],
            "type": "surface"
           }
          ],
          "table": [
           {
            "cells": {
             "fill": {
              "color": "#EBF0F8"
             },
             "line": {
              "color": "white"
             }
            },
            "header": {
             "fill": {
              "color": "#C8D4E3"
             },
             "line": {
              "color": "white"
             }
            },
            "type": "table"
           }
          ]
         },
         "layout": {
          "annotationdefaults": {
           "arrowcolor": "#2a3f5f",
           "arrowhead": 0,
           "arrowwidth": 1
          },
          "autotypenumbers": "strict",
          "coloraxis": {
           "colorbar": {
            "outlinewidth": 0,
            "ticks": ""
           }
          },
          "colorscale": {
           "diverging": [
            [
             0,
             "#8e0152"
            ],
            [
             0.1,
             "#c51b7d"
            ],
            [
             0.2,
             "#de77ae"
            ],
            [
             0.3,
             "#f1b6da"
            ],
            [
             0.4,
             "#fde0ef"
            ],
            [
             0.5,
             "#f7f7f7"
            ],
            [
             0.6,
             "#e6f5d0"
            ],
            [
             0.7,
             "#b8e186"
            ],
            [
             0.8,
             "#7fbc41"
            ],
            [
             0.9,
             "#4d9221"
            ],
            [
             1,
             "#276419"
            ]
           ],
           "sequential": [
            [
             0,
             "#0d0887"
            ],
            [
             0.1111111111111111,
             "#46039f"
            ],
            [
             0.2222222222222222,
             "#7201a8"
            ],
            [
             0.3333333333333333,
             "#9c179e"
            ],
            [
             0.4444444444444444,
             "#bd3786"
            ],
            [
             0.5555555555555556,
             "#d8576b"
            ],
            [
             0.6666666666666666,
             "#ed7953"
            ],
            [
             0.7777777777777778,
             "#fb9f3a"
            ],
            [
             0.8888888888888888,
             "#fdca26"
            ],
            [
             1,
             "#f0f921"
            ]
           ],
           "sequentialminus": [
            [
             0,
             "#0d0887"
            ],
            [
             0.1111111111111111,
             "#46039f"
            ],
            [
             0.2222222222222222,
             "#7201a8"
            ],
            [
             0.3333333333333333,
             "#9c179e"
            ],
            [
             0.4444444444444444,
             "#bd3786"
            ],
            [
             0.5555555555555556,
             "#d8576b"
            ],
            [
             0.6666666666666666,
             "#ed7953"
            ],
            [
             0.7777777777777778,
             "#fb9f3a"
            ],
            [
             0.8888888888888888,
             "#fdca26"
            ],
            [
             1,
             "#f0f921"
            ]
           ]
          },
          "colorway": [
           "#636efa",
           "#EF553B",
           "#00cc96",
           "#ab63fa",
           "#FFA15A",
           "#19d3f3",
           "#FF6692",
           "#B6E880",
           "#FF97FF",
           "#FECB52"
          ],
          "font": {
           "color": "#2a3f5f"
          },
          "geo": {
           "bgcolor": "white",
           "lakecolor": "white",
           "landcolor": "#E5ECF6",
           "showlakes": true,
           "showland": true,
           "subunitcolor": "white"
          },
          "hoverlabel": {
           "align": "left"
          },
          "hovermode": "closest",
          "mapbox": {
           "style": "light"
          },
          "paper_bgcolor": "white",
          "plot_bgcolor": "#E5ECF6",
          "polar": {
           "angularaxis": {
            "gridcolor": "white",
            "linecolor": "white",
            "ticks": ""
           },
           "bgcolor": "#E5ECF6",
           "radialaxis": {
            "gridcolor": "white",
            "linecolor": "white",
            "ticks": ""
           }
          },
          "scene": {
           "xaxis": {
            "backgroundcolor": "#E5ECF6",
            "gridcolor": "white",
            "gridwidth": 2,
            "linecolor": "white",
            "showbackground": true,
            "ticks": "",
            "zerolinecolor": "white"
           },
           "yaxis": {
            "backgroundcolor": "#E5ECF6",
            "gridcolor": "white",
            "gridwidth": 2,
            "linecolor": "white",
            "showbackground": true,
            "ticks": "",
            "zerolinecolor": "white"
           },
           "zaxis": {
            "backgroundcolor": "#E5ECF6",
            "gridcolor": "white",
            "gridwidth": 2,
            "linecolor": "white",
            "showbackground": true,
            "ticks": "",
            "zerolinecolor": "white"
           }
          },
          "shapedefaults": {
           "line": {
            "color": "#2a3f5f"
           }
          },
          "ternary": {
           "aaxis": {
            "gridcolor": "white",
            "linecolor": "white",
            "ticks": ""
           },
           "baxis": {
            "gridcolor": "white",
            "linecolor": "white",
            "ticks": ""
           },
           "bgcolor": "#E5ECF6",
           "caxis": {
            "gridcolor": "white",
            "linecolor": "white",
            "ticks": ""
           }
          },
          "title": {
           "x": 0.05
          },
          "xaxis": {
           "automargin": true,
           "gridcolor": "white",
           "linecolor": "white",
           "ticks": "",
           "title": {
            "standoff": 15
           },
           "zerolinecolor": "white",
           "zerolinewidth": 2
          },
          "yaxis": {
           "automargin": true,
           "gridcolor": "white",
           "linecolor": "white",
           "ticks": "",
           "title": {
            "standoff": 15
           },
           "zerolinecolor": "white",
           "zerolinewidth": 2
          }
         }
        },
        "width": 800
       }
      }
     },
     "metadata": {},
     "output_type": "display_data"
    }
   ],
   "source": [
    "dfplt = dfs[['category', 'name', 'cwe']].groupby(['category', 'name', 'cwe'], group_keys=False).size().reset_index(name='count')\n",
    "\n",
    "dfplt['category'] = dfplt.apply(lambda row: row['category'] \n",
    "if row['category']==row['name'] or row['name']=='-' \n",
    "else row['name'], axis=1)\n",
    "dfplt = dfplt.drop(labels=['name'], axis=1)\n",
    "\n",
    "fig = px.sunburst(dfplt, \n",
    "    path=['category', 'cwe'],\n",
    "    values='count', \n",
    "    color_continuous_scale='Reds',\n",
    "    color='count',\n",
    ")\n",
    "\n",
    "fig.update_layout(\n",
    "    autosize=False,\n",
    "    width=800,\n",
    "    height=800,)\n",
    "fig.show()"
   ]
  },
  {
   "cell_type": "code",
   "execution_count": 187,
   "metadata": {},
   "outputs": [
    {
     "data": {
      "application/vnd.plotly.v1+json": {
       "config": {
        "plotlyServerURL": "https://plot.ly"
       },
       "data": [
        {
         "branchvalues": "total",
         "customdata": [
          [
           65
          ],
          [
           23228
          ],
          [
           333
          ],
          [
           4
          ],
          [
           15
          ],
          [
           5276
          ],
          [
           2
          ],
          [
           1
          ],
          [
           5
          ],
          [
           1
          ],
          [
           1
          ],
          [
           24707
          ],
          [
           2
          ],
          [
           7710
          ],
          [
           22
          ],
          [
           530
          ],
          [
           3962
          ],
          [
           82
          ],
          [
           735
          ],
          [
           1
          ],
          [
           6
          ],
          [
           14
          ],
          [
           1
          ],
          [
           11
          ],
          [
           35
          ],
          [
           7
          ],
          [
           20
          ],
          [
           15
          ],
          [
           10
          ],
          [
           22
          ],
          [
           7
          ],
          [
           6
          ],
          [
           3684
          ],
          [
           8
          ],
          [
           35
          ],
          [
           3
          ],
          [
           3
          ],
          [
           8
          ],
          [
           96
          ],
          [
           337
          ],
          [
           5
          ],
          [
           97
          ],
          [
           7566
          ],
          [
           106
          ],
          [
           2
          ],
          [
           173
          ],
          [
           305
          ],
          [
           264
          ],
          [
           169
          ],
          [
           20
          ],
          [
           12
          ],
          [
           108
          ],
          [
           1
          ],
          [
           29
          ],
          [
           236
          ],
          [
           24
          ],
          [
           6
          ],
          [
           2
          ],
          [
           16
          ],
          [
           482
          ],
          [
           59
          ],
          [
           39
          ],
          [
           5
          ],
          [
           2
          ],
          [
           4
          ],
          [
           434
          ],
          [
           1
          ],
          [
           1023
          ],
          [
           12
          ],
          [
           187
          ],
          [
           13
          ],
          [
           25
          ],
          [
           13
          ],
          [
           784
          ],
          [
           1945
          ],
          [
           8
          ],
          [
           58
          ],
          [
           1236
          ],
          [
           53
          ],
          [
           8
          ],
          [
           26
          ],
          [
           1
          ],
          [
           30
          ],
          [
           3
          ],
          [
           47
          ],
          [
           4
          ],
          [
           55
          ],
          [
           6
          ],
          [
           16
          ],
          [
           14
          ],
          [
           132
          ],
          [
           32
          ],
          [
           4
          ],
          [
           1625
          ],
          [
           49
          ],
          [
           434
          ],
          [
           1
          ],
          [
           34
          ],
          [
           45
          ],
          [
           5
          ],
          [
           192
          ],
          [
           67
          ],
          [
           110
          ],
          [
           10958
          ],
          [
           15
          ],
          [
           1
          ],
          [
           4
          ],
          [
           35
          ],
          [
           12
          ],
          [
           3
          ],
          [
           6
          ],
          [
           499
          ],
          [
           6
          ],
          [
           28
          ],
          [
           5
          ],
          [
           1161
          ],
          [
           1
          ],
          [
           31
          ],
          [
           4
          ],
          [
           3
          ],
          [
           82
          ],
          [
           87
          ],
          [
           10
          ],
          [
           2
          ],
          [
           123
          ],
          [
           3
          ],
          [
           5
          ],
          [
           22
          ],
          [
           3
          ],
          [
           11
          ],
          [
           11
          ],
          [
           17
          ],
          [
           21
          ],
          [
           28
          ],
          [
           405
          ],
          [
           6
          ],
          [
           12
          ],
          [
           73
          ],
          [
           2
          ],
          [
           432
          ],
          [
           2
          ],
          [
           50
          ],
          [
           2
          ],
          [
           35
          ],
          [
           2
          ],
          [
           2
          ],
          [
           14
          ],
          [
           66
          ],
          [
           1839
          ],
          [
           549
          ],
          [
           3
          ],
          [
           5
          ],
          [
           4
          ],
          [
           8
          ],
          [
           2
          ],
          [
           50
          ],
          [
           2
          ],
          [
           15
          ],
          [
           3
          ],
          [
           5276
          ],
          [
           65
          ],
          [
           2
          ],
          [
           2
          ],
          [
           16
          ],
          [
           1236
          ],
          [
           73
          ],
          [
           482
          ],
          [
           59
          ],
          [
           34
          ],
          [
           1
          ],
          [
           2
          ],
          [
           23228
          ],
          [
           25
          ],
          [
           13
          ],
          [
           4
          ],
          [
           10958
          ],
          [
           47
          ],
          [
           4
          ],
          [
           434
          ],
          [
           49
          ],
          [
           14
          ],
          [
           45
          ],
          [
           5
          ],
          [
           192
          ],
          [
           2
          ],
          [
           16
          ],
          [
           337
          ],
          [
           4
          ],
          [
           11
          ],
          [
           11
          ],
          [
           17
          ],
          [
           21
          ],
          [
           35
          ],
          [
           784
          ],
          [
           173
          ],
          [
           6.166666666666667
          ],
          [
           20
          ],
          [
           15
          ],
          [
           432
          ],
          [
           10
          ],
          [
           22
          ],
          [
           1
          ],
          [
           7
          ],
          [
           6
          ],
          [
           39
          ],
          [
           35
          ],
          [
           2
          ],
          [
           35
          ],
          [
           12
          ],
          [
           15
          ],
          [
           1
          ],
          [
           67
          ],
          [
           5
          ],
          [
           5
          ],
          [
           132
          ],
          [
           1
          ],
          [
           1
          ],
          [
           1
          ],
          [
           28
          ],
          [
           24707
          ],
          [
           55
          ],
          [
           6
          ],
          [
           97
          ],
          [
           3
          ],
          [
           6
          ],
          [
           87
          ],
          [
           26
          ],
          [
           6
          ],
          [
           12
          ],
          [
           434
          ],
          [
           31
          ],
          [
           10
          ],
          [
           1945
          ],
          [
           2
          ],
          [
           14
          ],
          [
           28
          ],
          [
           66
          ],
          [
           305
          ],
          [
           1023
          ],
          [
           3684
          ],
          [
           58
          ],
          [
           96
          ],
          [
           22
          ],
          [
           1
          ],
          [
           110
          ],
          [
           6.8
          ],
          [
           12
          ],
          [
           2
          ],
          [
           123
          ],
          [
           264
          ],
          [
           7548.249904810255
          ],
          [
           187
          ],
          [
           13
          ],
          [
           29.982456140350877
          ],
          [
           530
          ],
          [
           3962
          ],
          [
           7566
          ],
          [
           82
          ],
          [
           735
          ],
          [
           20
          ],
          [
           1839
          ],
          [
           12
          ],
          [
           405
          ],
          [
           1
          ],
          [
           30
          ],
          [
           3
          ],
          [
           5
          ],
          [
           82
          ],
          [
           32
          ],
          [
           4
          ],
          [
           1625
          ],
          [
           3
          ],
          [
           549
          ],
          [
           1161
          ],
          [
           499
          ],
          [
           6
          ],
          [
           8
          ],
          [
           108
          ],
          [
           3
          ],
          [
           1
          ],
          [
           29
          ],
          [
           3
          ],
          [
           236
          ],
          [
           23.08
          ],
          [
           8
          ],
          [
           6
          ],
          [
           2
          ],
          [
           333
          ],
          [
           6
          ],
          [
           14
          ],
          [
           106
          ],
          [
           1
          ],
          [
           11
          ],
          [
           4
          ],
          [
           53
          ]
         ],
         "domain": {
          "x": [
           0,
           1
          ],
          "y": [
           0,
           1
          ]
         },
         "hovertemplate": "labels=%{label}<br>count_sum=%{value}<br>parent=%{parent}<br>id=%{id}<br>count=%{color}<extra></extra>",
         "ids": [
          "TCHAR/CWE-119!/CWE-120",
          "char/CWE-119!/CWE-120",
          "wchar_t/CWE-119!/CWE-120",
          "CopyMemory/CWE-120",
          "MultiByteToWideChar/CWE-120",
          "StrCat/CWE-120",
          "_stprintf/CWE-120",
          "bcopy/CWE-120",
          "fscanf/CWE-120",
          "lstrcatW/CWE-120",
          "lstrcpy/CWE-120",
          "memcpy/CWE-120",
          "scanf/CWE-120",
          "sprintf/CWE-120",
          "sscanf/CWE-120",
          "strcat/CWE-120",
          "strcpy/CWE-120",
          "strncat/CWE-120",
          "strncpy/CWE-120",
          "vsprintf/CWE-120",
          "wcscat/CWE-120",
          "wcscpy/CWE-120",
          "wcsncat/CWE-120",
          "wcsncpy/CWE-120",
          "fgetc/CWE-120, CWE-20",
          "fscanf/CWE-120, CWE-20",
          "getc/CWE-120, CWE-20",
          "getchar/CWE-120, CWE-20",
          "getopt/CWE-120, CWE-20",
          "getopt_long/CWE-120, CWE-20",
          "gets/CWE-120, CWE-20",
          "getwd/CWE-120, CWE-20",
          "read/CWE-120, CWE-20",
          "scanf/CWE-120, CWE-20",
          "sscanf/CWE-120, CWE-20",
          "vfscanf/CWE-120, CWE-20",
          "vscanf/CWE-120, CWE-20",
          "vsscanf/CWE-120, CWE-20",
          "realpath/CWE-120/CWE-785!",
          "equal/CWE-126",
          "is_permutation/CWE-126",
          "mismatch/CWE-126",
          "strlen/CWE-126",
          "wcslen/CWE-126",
          "_snprintf/CWE-134",
          "fprintf/CWE-134",
          "printf/CWE-134",
          "snprintf/CWE-134",
          "sprintf/CWE-134",
          "swprintf/CWE-134",
          "syslog/CWE-134",
          "vfprintf/CWE-134",
          "vfwprintf/CWE-134",
          "vprintf/CWE-134",
          "vsnprintf/CWE-134",
          "vsprintf/CWE-134",
          "vswprintf/CWE-134",
          "vwprintf/CWE-134",
          "_wtoi/CWE-190",
          "atoi/CWE-190",
          "atol/CWE-190",
          "integerOverflow/CWE-190",
          "CoImpersonateClient/CWE-250",
          "ImpersonateLoggedOnUser/CWE-250",
          "chroot/CWE-250, CWE-22",
          "crypt/CWE-327",
          "lrand48/CWE-327",
          "random/CWE-327",
          "setstate/CWE-327",
          "srand/CWE-327",
          "srandom/CWE-327",
          "chmod/CWE-362",
          "chown/CWE-362",
          "fopen/CWE-362",
          "open/CWE-362",
          "vfork/CWE-362",
          "readlink/CWE-362, CWE-20",
          "access/CWE-362/CWE-367!",
          "zerodiv/CWE-369",
          "GetTempFileName/CWE-377",
          "mkstemp/CWE-377",
          "tempnam/CWE-377",
          "tmpfile/CWE-377",
          "tmpnam/CWE-377",
          "containerOutOfBounds/CWE-398",
          "containerOutOfBoundsIndexExpression/CWE-398",
          "memleak/CWE-401",
          "memleakOnRealloc/CWE-401",
          "doubleFree/CWE-415",
          "ctuuninitvar/CWE-457",
          "legacyUninitvar/CWE-457",
          "uninitStructMember/CWE-457",
          "uninitdata/CWE-457",
          "uninitvar/CWE-457",
          "ctunullpointer/CWE-476",
          "nullPointer/CWE-476",
          "rethrowNoCurrentException/CWE-480",
          "autoVariables/CWE-562",
          "danglingLifetime/CWE-562",
          "danglingTempReference/CWE-562",
          "danglingTemporaryLifetime/CWE-562",
          "invalidLifetime/CWE-562",
          "returnDanglingLifetime/CWE-562",
          "comparePointers/CWE-570",
          "invalidFunctionArg/CWE-628",
          "invalidFunctionArgStr/CWE-628",
          "eraseDereference/CWE-664",
          "invalidContainer/CWE-664",
          "invalidContainerReference/CWE-664",
          "mismatchingContainerExpression/CWE-664",
          "mismatchingContainers/CWE-664",
          "va_end_missing/CWE-664",
          "va_list_usedBeforeStarted/CWE-664",
          "memalign/CWE-676",
          "ulimit/CWE-676",
          "usleep/CWE-676",
          "getpass/CWE-676, CWE-120, CWE-20",
          "nullPointerArithmetic/CWE-682",
          "wrongPrintfScanfArgNum/CWE-685",
          "AddAccessAllowedAce/CWE-732",
          "umask/CWE-732",
          "missingReturn/CWE-758",
          "objectIndex/CWE-758",
          "shiftNegative/CWE-758",
          "shiftTooManyBits/CWE-758",
          "unknownEvaluationOrder/CWE-768",
          "leakReturnValNotUsed/CWE-771",
          "resourceLeak/CWE-775",
          "ShellExecute/CWE-78",
          "execl/CWE-78",
          "execlp/CWE-78",
          "execv/CWE-78",
          "execvp/CWE-78",
          "popen/CWE-78",
          "system/CWE-78",
          "negativeContainerIndex/CWE-786",
          "negativeIndex/CWE-786",
          "arrayIndexOutOfBounds/CWE-788",
          "bufferAccessOutOfBounds/CWE-788",
          "getenv/CWE-807, CWE-20",
          "derefInvalidIterator/CWE-825",
          "LoadLibrary/CWE-829, CWE-20",
          "LoadLibraryEx/CWE-829, CWE-20",
          "internalAstError/CWE-unknown",
          "internalError/CWE-unknown",
          "overlappingWriteFunction/CWE-unknown",
          "overlappingWriteUnion/CWE-unknown",
          "preprocessorErrorDirective/CWE-unknown",
          "syntaxError/CWE-unknown",
          "unknownMacro/CWE-unknown",
          "AddAccessAllowedAce",
          "CoImpersonateClient",
          "CopyMemory",
          "GetTempFileName",
          "ImpersonateLoggedOnUser",
          "LoadLibrary",
          "LoadLibraryEx",
          "MultiByteToWideChar",
          "ShellExecute",
          "StrCat",
          "TCHAR",
          "_snprintf",
          "_stprintf",
          "_wtoi",
          "access",
          "arrayIndexOutOfBounds",
          "atoi",
          "atol",
          "autoVariables",
          "bcopy",
          "bufferAccessOutOfBounds",
          "char",
          "chmod",
          "chown",
          "chroot",
          "comparePointers",
          "containerOutOfBounds",
          "containerOutOfBoundsIndexExpression",
          "crypt",
          "ctunullpointer",
          "ctuuninitvar",
          "danglingLifetime",
          "danglingTempReference",
          "danglingTemporaryLifetime",
          "derefInvalidIterator",
          "doubleFree",
          "equal",
          "eraseDereference",
          "execl",
          "execlp",
          "execv",
          "execvp",
          "fgetc",
          "fopen",
          "fprintf",
          "fscanf",
          "getc",
          "getchar",
          "getenv",
          "getopt",
          "getopt_long",
          "getpass",
          "gets",
          "getwd",
          "integerOverflow",
          "internalAstError",
          "internalError",
          "invalidContainer",
          "invalidContainerReference",
          "invalidFunctionArg",
          "invalidFunctionArgStr",
          "invalidLifetime",
          "is_permutation",
          "leakReturnValNotUsed",
          "legacyUninitvar",
          "lrand48",
          "lstrcatW",
          "lstrcpy",
          "memalign",
          "memcpy",
          "memleak",
          "memleakOnRealloc",
          "mismatch",
          "mismatchingContainerExpression",
          "mismatchingContainers",
          "missingReturn",
          "mkstemp",
          "negativeContainerIndex",
          "negativeIndex",
          "nullPointer",
          "nullPointerArithmetic",
          "objectIndex",
          "open",
          "overlappingWriteFunction",
          "overlappingWriteUnion",
          "popen",
          "preprocessorErrorDirective",
          "printf",
          "random",
          "read",
          "readlink",
          "realpath",
          "resourceLeak",
          "rethrowNoCurrentException",
          "returnDanglingLifetime",
          "scanf",
          "setstate",
          "shiftNegative",
          "shiftTooManyBits",
          "snprintf",
          "sprintf",
          "srand",
          "srandom",
          "sscanf",
          "strcat",
          "strcpy",
          "strlen",
          "strncat",
          "strncpy",
          "swprintf",
          "syntaxError",
          "syslog",
          "system",
          "tempnam",
          "tmpfile",
          "tmpnam",
          "ulimit",
          "umask",
          "uninitStructMember",
          "uninitdata",
          "uninitvar",
          "unknownEvaluationOrder",
          "unknownMacro",
          "usleep",
          "va_end_missing",
          "va_list_usedBeforeStarted",
          "vfork",
          "vfprintf",
          "vfscanf",
          "vfwprintf",
          "vprintf",
          "vscanf",
          "vsnprintf",
          "vsprintf",
          "vsscanf",
          "vswprintf",
          "vwprintf",
          "wchar_t",
          "wcscat",
          "wcscpy",
          "wcslen",
          "wcsncat",
          "wcsncpy",
          "wrongPrintfScanfArgNum",
          "zerodiv"
         ],
         "labels": [
          "CWE-119!/CWE-120",
          "CWE-119!/CWE-120",
          "CWE-119!/CWE-120",
          "CWE-120",
          "CWE-120",
          "CWE-120",
          "CWE-120",
          "CWE-120",
          "CWE-120",
          "CWE-120",
          "CWE-120",
          "CWE-120",
          "CWE-120",
          "CWE-120",
          "CWE-120",
          "CWE-120",
          "CWE-120",
          "CWE-120",
          "CWE-120",
          "CWE-120",
          "CWE-120",
          "CWE-120",
          "CWE-120",
          "CWE-120",
          "CWE-120, CWE-20",
          "CWE-120, CWE-20",
          "CWE-120, CWE-20",
          "CWE-120, CWE-20",
          "CWE-120, CWE-20",
          "CWE-120, CWE-20",
          "CWE-120, CWE-20",
          "CWE-120, CWE-20",
          "CWE-120, CWE-20",
          "CWE-120, CWE-20",
          "CWE-120, CWE-20",
          "CWE-120, CWE-20",
          "CWE-120, CWE-20",
          "CWE-120, CWE-20",
          "CWE-120/CWE-785!",
          "CWE-126",
          "CWE-126",
          "CWE-126",
          "CWE-126",
          "CWE-126",
          "CWE-134",
          "CWE-134",
          "CWE-134",
          "CWE-134",
          "CWE-134",
          "CWE-134",
          "CWE-134",
          "CWE-134",
          "CWE-134",
          "CWE-134",
          "CWE-134",
          "CWE-134",
          "CWE-134",
          "CWE-134",
          "CWE-190",
          "CWE-190",
          "CWE-190",
          "CWE-190",
          "CWE-250",
          "CWE-250",
          "CWE-250, CWE-22",
          "CWE-327",
          "CWE-327",
          "CWE-327",
          "CWE-327",
          "CWE-327",
          "CWE-327",
          "CWE-362",
          "CWE-362",
          "CWE-362",
          "CWE-362",
          "CWE-362",
          "CWE-362, CWE-20",
          "CWE-362/CWE-367!",
          "CWE-369",
          "CWE-377",
          "CWE-377",
          "CWE-377",
          "CWE-377",
          "CWE-377",
          "CWE-398",
          "CWE-398",
          "CWE-401",
          "CWE-401",
          "CWE-415",
          "CWE-457",
          "CWE-457",
          "CWE-457",
          "CWE-457",
          "CWE-457",
          "CWE-476",
          "CWE-476",
          "CWE-480",
          "CWE-562",
          "CWE-562",
          "CWE-562",
          "CWE-562",
          "CWE-562",
          "CWE-562",
          "CWE-570",
          "CWE-628",
          "CWE-628",
          "CWE-664",
          "CWE-664",
          "CWE-664",
          "CWE-664",
          "CWE-664",
          "CWE-664",
          "CWE-664",
          "CWE-676",
          "CWE-676",
          "CWE-676",
          "CWE-676, CWE-120, CWE-20",
          "CWE-682",
          "CWE-685",
          "CWE-732",
          "CWE-732",
          "CWE-758",
          "CWE-758",
          "CWE-758",
          "CWE-758",
          "CWE-768",
          "CWE-771",
          "CWE-775",
          "CWE-78",
          "CWE-78",
          "CWE-78",
          "CWE-78",
          "CWE-78",
          "CWE-78",
          "CWE-78",
          "CWE-786",
          "CWE-786",
          "CWE-788",
          "CWE-788",
          "CWE-807, CWE-20",
          "CWE-825",
          "CWE-829, CWE-20",
          "CWE-829, CWE-20",
          "CWE-unknown",
          "CWE-unknown",
          "CWE-unknown",
          "CWE-unknown",
          "CWE-unknown",
          "CWE-unknown",
          "CWE-unknown",
          "AddAccessAllowedAce",
          "CoImpersonateClient",
          "CopyMemory",
          "GetTempFileName",
          "ImpersonateLoggedOnUser",
          "LoadLibrary",
          "LoadLibraryEx",
          "MultiByteToWideChar",
          "ShellExecute",
          "StrCat",
          "TCHAR",
          "_snprintf",
          "_stprintf",
          "_wtoi",
          "access",
          "arrayIndexOutOfBounds",
          "atoi",
          "atol",
          "autoVariables",
          "bcopy",
          "bufferAccessOutOfBounds",
          "char",
          "chmod",
          "chown",
          "chroot",
          "comparePointers",
          "containerOutOfBounds",
          "containerOutOfBoundsIndexExpression",
          "crypt",
          "ctunullpointer",
          "ctuuninitvar",
          "danglingLifetime",
          "danglingTempReference",
          "danglingTemporaryLifetime",
          "derefInvalidIterator",
          "doubleFree",
          "equal",
          "eraseDereference",
          "execl",
          "execlp",
          "execv",
          "execvp",
          "fgetc",
          "fopen",
          "fprintf",
          "fscanf",
          "getc",
          "getchar",
          "getenv",
          "getopt",
          "getopt_long",
          "getpass",
          "gets",
          "getwd",
          "integerOverflow",
          "internalAstError",
          "internalError",
          "invalidContainer",
          "invalidContainerReference",
          "invalidFunctionArg",
          "invalidFunctionArgStr",
          "invalidLifetime",
          "is_permutation",
          "leakReturnValNotUsed",
          "legacyUninitvar",
          "lrand48",
          "lstrcatW",
          "lstrcpy",
          "memalign",
          "memcpy",
          "memleak",
          "memleakOnRealloc",
          "mismatch",
          "mismatchingContainerExpression",
          "mismatchingContainers",
          "missingReturn",
          "mkstemp",
          "negativeContainerIndex",
          "negativeIndex",
          "nullPointer",
          "nullPointerArithmetic",
          "objectIndex",
          "open",
          "overlappingWriteFunction",
          "overlappingWriteUnion",
          "popen",
          "preprocessorErrorDirective",
          "printf",
          "random",
          "read",
          "readlink",
          "realpath",
          "resourceLeak",
          "rethrowNoCurrentException",
          "returnDanglingLifetime",
          "scanf",
          "setstate",
          "shiftNegative",
          "shiftTooManyBits",
          "snprintf",
          "sprintf",
          "srand",
          "srandom",
          "sscanf",
          "strcat",
          "strcpy",
          "strlen",
          "strncat",
          "strncpy",
          "swprintf",
          "syntaxError",
          "syslog",
          "system",
          "tempnam",
          "tmpfile",
          "tmpnam",
          "ulimit",
          "umask",
          "uninitStructMember",
          "uninitdata",
          "uninitvar",
          "unknownEvaluationOrder",
          "unknownMacro",
          "usleep",
          "va_end_missing",
          "va_list_usedBeforeStarted",
          "vfork",
          "vfprintf",
          "vfscanf",
          "vfwprintf",
          "vprintf",
          "vscanf",
          "vsnprintf",
          "vsprintf",
          "vsscanf",
          "vswprintf",
          "vwprintf",
          "wchar_t",
          "wcscat",
          "wcscpy",
          "wcslen",
          "wcsncat",
          "wcsncpy",
          "wrongPrintfScanfArgNum",
          "zerodiv"
         ],
         "marker": {
          "coloraxis": "coloraxis",
          "colors": [
           65,
           23228,
           333,
           4,
           15,
           5276,
           2,
           1,
           5,
           1,
           1,
           24707,
           2,
           7710,
           22,
           530,
           3962,
           82,
           735,
           1,
           6,
           14,
           1,
           11,
           35,
           7,
           20,
           15,
           10,
           22,
           7,
           6,
           3684,
           8,
           35,
           3,
           3,
           8,
           96,
           337,
           5,
           97,
           7566,
           106,
           2,
           173,
           305,
           264,
           169,
           20,
           12,
           108,
           1,
           29,
           236,
           24,
           6,
           2,
           16,
           482,
           59,
           39,
           5,
           2,
           4,
           434,
           1,
           1023,
           12,
           187,
           13,
           25,
           13,
           784,
           1945,
           8,
           58,
           1236,
           53,
           8,
           26,
           1,
           30,
           3,
           47,
           4,
           55,
           6,
           16,
           14,
           132,
           32,
           4,
           1625,
           49,
           434,
           1,
           34,
           45,
           5,
           192,
           67,
           110,
           10958,
           15,
           1,
           4,
           35,
           12,
           3,
           6,
           499,
           6,
           28,
           5,
           1161,
           1,
           31,
           4,
           3,
           82,
           87,
           10,
           2,
           123,
           3,
           5,
           22,
           3,
           11,
           11,
           17,
           21,
           28,
           405,
           6,
           12,
           73,
           2,
           432,
           2,
           50,
           2,
           35,
           2,
           2,
           14,
           66,
           1839,
           549,
           3,
           5,
           4,
           8,
           2,
           50,
           2,
           15,
           3,
           5276,
           65,
           2,
           2,
           16,
           1236,
           73,
           482,
           59,
           34,
           1,
           2,
           23228,
           25,
           13,
           4,
           10958,
           47,
           4,
           434,
           49,
           14,
           45,
           5,
           192,
           2,
           16,
           337,
           4,
           11,
           11,
           17,
           21,
           35,
           784,
           173,
           6.166666666666667,
           20,
           15,
           432,
           10,
           22,
           1,
           7,
           6,
           39,
           35,
           2,
           35,
           12,
           15,
           1,
           67,
           5,
           5,
           132,
           1,
           1,
           1,
           28,
           24707,
           55,
           6,
           97,
           3,
           6,
           87,
           26,
           6,
           12,
           434,
           31,
           10,
           1945,
           2,
           14,
           28,
           66,
           305,
           1023,
           3684,
           58,
           96,
           22,
           1,
           110,
           6.8,
           12,
           2,
           123,
           264,
           7548.249904810255,
           187,
           13,
           29.982456140350877,
           530,
           3962,
           7566,
           82,
           735,
           20,
           1839,
           12,
           405,
           1,
           30,
           3,
           5,
           82,
           32,
           4,
           1625,
           3,
           549,
           1161,
           499,
           6,
           8,
           108,
           3,
           1,
           29,
           3,
           236,
           23.08,
           8,
           6,
           2,
           333,
           6,
           14,
           106,
           1,
           11,
           4,
           53
          ]
         },
         "name": "",
         "parents": [
          "TCHAR",
          "char",
          "wchar_t",
          "CopyMemory",
          "MultiByteToWideChar",
          "StrCat",
          "_stprintf",
          "bcopy",
          "fscanf",
          "lstrcatW",
          "lstrcpy",
          "memcpy",
          "scanf",
          "sprintf",
          "sscanf",
          "strcat",
          "strcpy",
          "strncat",
          "strncpy",
          "vsprintf",
          "wcscat",
          "wcscpy",
          "wcsncat",
          "wcsncpy",
          "fgetc",
          "fscanf",
          "getc",
          "getchar",
          "getopt",
          "getopt_long",
          "gets",
          "getwd",
          "read",
          "scanf",
          "sscanf",
          "vfscanf",
          "vscanf",
          "vsscanf",
          "realpath",
          "equal",
          "is_permutation",
          "mismatch",
          "strlen",
          "wcslen",
          "_snprintf",
          "fprintf",
          "printf",
          "snprintf",
          "sprintf",
          "swprintf",
          "syslog",
          "vfprintf",
          "vfwprintf",
          "vprintf",
          "vsnprintf",
          "vsprintf",
          "vswprintf",
          "vwprintf",
          "_wtoi",
          "atoi",
          "atol",
          "integerOverflow",
          "CoImpersonateClient",
          "ImpersonateLoggedOnUser",
          "chroot",
          "crypt",
          "lrand48",
          "random",
          "setstate",
          "srand",
          "srandom",
          "chmod",
          "chown",
          "fopen",
          "open",
          "vfork",
          "readlink",
          "access",
          "zerodiv",
          "GetTempFileName",
          "mkstemp",
          "tempnam",
          "tmpfile",
          "tmpnam",
          "containerOutOfBounds",
          "containerOutOfBoundsIndexExpression",
          "memleak",
          "memleakOnRealloc",
          "doubleFree",
          "ctuuninitvar",
          "legacyUninitvar",
          "uninitStructMember",
          "uninitdata",
          "uninitvar",
          "ctunullpointer",
          "nullPointer",
          "rethrowNoCurrentException",
          "autoVariables",
          "danglingLifetime",
          "danglingTempReference",
          "danglingTemporaryLifetime",
          "invalidLifetime",
          "returnDanglingLifetime",
          "comparePointers",
          "invalidFunctionArg",
          "invalidFunctionArgStr",
          "eraseDereference",
          "invalidContainer",
          "invalidContainerReference",
          "mismatchingContainerExpression",
          "mismatchingContainers",
          "va_end_missing",
          "va_list_usedBeforeStarted",
          "memalign",
          "ulimit",
          "usleep",
          "getpass",
          "nullPointerArithmetic",
          "wrongPrintfScanfArgNum",
          "AddAccessAllowedAce",
          "umask",
          "missingReturn",
          "objectIndex",
          "shiftNegative",
          "shiftTooManyBits",
          "unknownEvaluationOrder",
          "leakReturnValNotUsed",
          "resourceLeak",
          "ShellExecute",
          "execl",
          "execlp",
          "execv",
          "execvp",
          "popen",
          "system",
          "negativeContainerIndex",
          "negativeIndex",
          "arrayIndexOutOfBounds",
          "bufferAccessOutOfBounds",
          "getenv",
          "derefInvalidIterator",
          "LoadLibrary",
          "LoadLibraryEx",
          "internalAstError",
          "internalError",
          "overlappingWriteFunction",
          "overlappingWriteUnion",
          "preprocessorErrorDirective",
          "syntaxError",
          "unknownMacro",
          "",
          "",
          "",
          "",
          "",
          "",
          "",
          "",
          "",
          "",
          "",
          "",
          "",
          "",
          "",
          "",
          "",
          "",
          "",
          "",
          "",
          "",
          "",
          "",
          "",
          "",
          "",
          "",
          "",
          "",
          "",
          "",
          "",
          "",
          "",
          "",
          "",
          "",
          "",
          "",
          "",
          "",
          "",
          "",
          "",
          "",
          "",
          "",
          "",
          "",
          "",
          "",
          "",
          "",
          "",
          "",
          "",
          "",
          "",
          "",
          "",
          "",
          "",
          "",
          "",
          "",
          "",
          "",
          "",
          "",
          "",
          "",
          "",
          "",
          "",
          "",
          "",
          "",
          "",
          "",
          "",
          "",
          "",
          "",
          "",
          "",
          "",
          "",
          "",
          "",
          "",
          "",
          "",
          "",
          "",
          "",
          "",
          "",
          "",
          "",
          "",
          "",
          "",
          "",
          "",
          "",
          "",
          "",
          "",
          "",
          "",
          "",
          "",
          "",
          "",
          "",
          "",
          "",
          "",
          "",
          "",
          "",
          "",
          "",
          "",
          "",
          "",
          "",
          "",
          "",
          "",
          "",
          "",
          "",
          "",
          "",
          "",
          "",
          "",
          "",
          "",
          "",
          "",
          "",
          ""
         ],
         "type": "treemap",
         "values": [
          65,
          23228,
          333,
          4,
          15,
          5276,
          2,
          1,
          5,
          1,
          1,
          24707,
          2,
          7710,
          22,
          530,
          3962,
          82,
          735,
          1,
          6,
          14,
          1,
          11,
          35,
          7,
          20,
          15,
          10,
          22,
          7,
          6,
          3684,
          8,
          35,
          3,
          3,
          8,
          96,
          337,
          5,
          97,
          7566,
          106,
          2,
          173,
          305,
          264,
          169,
          20,
          12,
          108,
          1,
          29,
          236,
          24,
          6,
          2,
          16,
          482,
          59,
          39,
          5,
          2,
          4,
          434,
          1,
          1023,
          12,
          187,
          13,
          25,
          13,
          784,
          1945,
          8,
          58,
          1236,
          53,
          8,
          26,
          1,
          30,
          3,
          47,
          4,
          55,
          6,
          16,
          14,
          132,
          32,
          4,
          1625,
          49,
          434,
          1,
          34,
          45,
          5,
          192,
          67,
          110,
          10958,
          15,
          1,
          4,
          35,
          12,
          3,
          6,
          499,
          6,
          28,
          5,
          1161,
          1,
          31,
          4,
          3,
          82,
          87,
          10,
          2,
          123,
          3,
          5,
          22,
          3,
          11,
          11,
          17,
          21,
          28,
          405,
          6,
          12,
          73,
          2,
          432,
          2,
          50,
          2,
          35,
          2,
          2,
          14,
          66,
          1839,
          549,
          3,
          5,
          4,
          8,
          2,
          50,
          2,
          15,
          3,
          5276,
          65,
          2,
          2,
          16,
          1236,
          73,
          482,
          59,
          34,
          1,
          2,
          23228,
          25,
          13,
          4,
          10958,
          47,
          4,
          434,
          49,
          14,
          45,
          5,
          192,
          2,
          16,
          337,
          4,
          11,
          11,
          17,
          21,
          35,
          784,
          173,
          12,
          20,
          15,
          432,
          10,
          22,
          1,
          7,
          6,
          39,
          35,
          2,
          35,
          12,
          15,
          1,
          67,
          5,
          5,
          132,
          1,
          1,
          1,
          28,
          24707,
          55,
          6,
          97,
          3,
          6,
          87,
          26,
          6,
          12,
          434,
          31,
          10,
          1945,
          2,
          14,
          28,
          66,
          305,
          1023,
          3684,
          58,
          96,
          22,
          1,
          110,
          10,
          12,
          2,
          123,
          264,
          7879,
          187,
          13,
          57,
          530,
          3962,
          7566,
          82,
          735,
          20,
          1839,
          12,
          405,
          1,
          30,
          3,
          5,
          82,
          32,
          4,
          1625,
          3,
          549,
          1161,
          499,
          6,
          8,
          108,
          3,
          1,
          29,
          3,
          236,
          25,
          8,
          6,
          2,
          333,
          6,
          14,
          106,
          1,
          11,
          4,
          53
         ]
        }
       ],
       "layout": {
        "autosize": true,
        "coloraxis": {
         "colorbar": {
          "title": {
           "text": "count"
          }
         },
         "colorscale": [
          [
           0,
           "rgb(255,245,240)"
          ],
          [
           0.125,
           "rgb(254,224,210)"
          ],
          [
           0.25,
           "rgb(252,187,161)"
          ],
          [
           0.375,
           "rgb(252,146,114)"
          ],
          [
           0.5,
           "rgb(251,106,74)"
          ],
          [
           0.625,
           "rgb(239,59,44)"
          ],
          [
           0.75,
           "rgb(203,24,29)"
          ],
          [
           0.875,
           "rgb(165,15,21)"
          ],
          [
           1,
           "rgb(103,0,13)"
          ]
         ]
        },
        "font": {
         "size": 16
        },
        "height": 800,
        "legend": {
         "tracegroupgap": 0
        },
        "template": {
         "data": {
          "bar": [
           {
            "error_x": {
             "color": "#2a3f5f"
            },
            "error_y": {
             "color": "#2a3f5f"
            },
            "marker": {
             "line": {
              "color": "#E5ECF6",
              "width": 0.5
             },
             "pattern": {
              "fillmode": "overlay",
              "size": 10,
              "solidity": 0.2
             }
            },
            "type": "bar"
           }
          ],
          "barpolar": [
           {
            "marker": {
             "line": {
              "color": "#E5ECF6",
              "width": 0.5
             },
             "pattern": {
              "fillmode": "overlay",
              "size": 10,
              "solidity": 0.2
             }
            },
            "type": "barpolar"
           }
          ],
          "carpet": [
           {
            "aaxis": {
             "endlinecolor": "#2a3f5f",
             "gridcolor": "white",
             "linecolor": "white",
             "minorgridcolor": "white",
             "startlinecolor": "#2a3f5f"
            },
            "baxis": {
             "endlinecolor": "#2a3f5f",
             "gridcolor": "white",
             "linecolor": "white",
             "minorgridcolor": "white",
             "startlinecolor": "#2a3f5f"
            },
            "type": "carpet"
           }
          ],
          "choropleth": [
           {
            "colorbar": {
             "outlinewidth": 0,
             "ticks": ""
            },
            "type": "choropleth"
           }
          ],
          "contour": [
           {
            "colorbar": {
             "outlinewidth": 0,
             "ticks": ""
            },
            "colorscale": [
             [
              0,
              "#0d0887"
             ],
             [
              0.1111111111111111,
              "#46039f"
             ],
             [
              0.2222222222222222,
              "#7201a8"
             ],
             [
              0.3333333333333333,
              "#9c179e"
             ],
             [
              0.4444444444444444,
              "#bd3786"
             ],
             [
              0.5555555555555556,
              "#d8576b"
             ],
             [
              0.6666666666666666,
              "#ed7953"
             ],
             [
              0.7777777777777778,
              "#fb9f3a"
             ],
             [
              0.8888888888888888,
              "#fdca26"
             ],
             [
              1,
              "#f0f921"
             ]
            ],
            "type": "contour"
           }
          ],
          "contourcarpet": [
           {
            "colorbar": {
             "outlinewidth": 0,
             "ticks": ""
            },
            "type": "contourcarpet"
           }
          ],
          "heatmap": [
           {
            "colorbar": {
             "outlinewidth": 0,
             "ticks": ""
            },
            "colorscale": [
             [
              0,
              "#0d0887"
             ],
             [
              0.1111111111111111,
              "#46039f"
             ],
             [
              0.2222222222222222,
              "#7201a8"
             ],
             [
              0.3333333333333333,
              "#9c179e"
             ],
             [
              0.4444444444444444,
              "#bd3786"
             ],
             [
              0.5555555555555556,
              "#d8576b"
             ],
             [
              0.6666666666666666,
              "#ed7953"
             ],
             [
              0.7777777777777778,
              "#fb9f3a"
             ],
             [
              0.8888888888888888,
              "#fdca26"
             ],
             [
              1,
              "#f0f921"
             ]
            ],
            "type": "heatmap"
           }
          ],
          "heatmapgl": [
           {
            "colorbar": {
             "outlinewidth": 0,
             "ticks": ""
            },
            "colorscale": [
             [
              0,
              "#0d0887"
             ],
             [
              0.1111111111111111,
              "#46039f"
             ],
             [
              0.2222222222222222,
              "#7201a8"
             ],
             [
              0.3333333333333333,
              "#9c179e"
             ],
             [
              0.4444444444444444,
              "#bd3786"
             ],
             [
              0.5555555555555556,
              "#d8576b"
             ],
             [
              0.6666666666666666,
              "#ed7953"
             ],
             [
              0.7777777777777778,
              "#fb9f3a"
             ],
             [
              0.8888888888888888,
              "#fdca26"
             ],
             [
              1,
              "#f0f921"
             ]
            ],
            "type": "heatmapgl"
           }
          ],
          "histogram": [
           {
            "marker": {
             "pattern": {
              "fillmode": "overlay",
              "size": 10,
              "solidity": 0.2
             }
            },
            "type": "histogram"
           }
          ],
          "histogram2d": [
           {
            "colorbar": {
             "outlinewidth": 0,
             "ticks": ""
            },
            "colorscale": [
             [
              0,
              "#0d0887"
             ],
             [
              0.1111111111111111,
              "#46039f"
             ],
             [
              0.2222222222222222,
              "#7201a8"
             ],
             [
              0.3333333333333333,
              "#9c179e"
             ],
             [
              0.4444444444444444,
              "#bd3786"
             ],
             [
              0.5555555555555556,
              "#d8576b"
             ],
             [
              0.6666666666666666,
              "#ed7953"
             ],
             [
              0.7777777777777778,
              "#fb9f3a"
             ],
             [
              0.8888888888888888,
              "#fdca26"
             ],
             [
              1,
              "#f0f921"
             ]
            ],
            "type": "histogram2d"
           }
          ],
          "histogram2dcontour": [
           {
            "colorbar": {
             "outlinewidth": 0,
             "ticks": ""
            },
            "colorscale": [
             [
              0,
              "#0d0887"
             ],
             [
              0.1111111111111111,
              "#46039f"
             ],
             [
              0.2222222222222222,
              "#7201a8"
             ],
             [
              0.3333333333333333,
              "#9c179e"
             ],
             [
              0.4444444444444444,
              "#bd3786"
             ],
             [
              0.5555555555555556,
              "#d8576b"
             ],
             [
              0.6666666666666666,
              "#ed7953"
             ],
             [
              0.7777777777777778,
              "#fb9f3a"
             ],
             [
              0.8888888888888888,
              "#fdca26"
             ],
             [
              1,
              "#f0f921"
             ]
            ],
            "type": "histogram2dcontour"
           }
          ],
          "mesh3d": [
           {
            "colorbar": {
             "outlinewidth": 0,
             "ticks": ""
            },
            "type": "mesh3d"
           }
          ],
          "parcoords": [
           {
            "line": {
             "colorbar": {
              "outlinewidth": 0,
              "ticks": ""
             }
            },
            "type": "parcoords"
           }
          ],
          "pie": [
           {
            "automargin": true,
            "type": "pie"
           }
          ],
          "scatter": [
           {
            "fillpattern": {
             "fillmode": "overlay",
             "size": 10,
             "solidity": 0.2
            },
            "type": "scatter"
           }
          ],
          "scatter3d": [
           {
            "line": {
             "colorbar": {
              "outlinewidth": 0,
              "ticks": ""
             }
            },
            "marker": {
             "colorbar": {
              "outlinewidth": 0,
              "ticks": ""
             }
            },
            "type": "scatter3d"
           }
          ],
          "scattercarpet": [
           {
            "marker": {
             "colorbar": {
              "outlinewidth": 0,
              "ticks": ""
             }
            },
            "type": "scattercarpet"
           }
          ],
          "scattergeo": [
           {
            "marker": {
             "colorbar": {
              "outlinewidth": 0,
              "ticks": ""
             }
            },
            "type": "scattergeo"
           }
          ],
          "scattergl": [
           {
            "marker": {
             "colorbar": {
              "outlinewidth": 0,
              "ticks": ""
             }
            },
            "type": "scattergl"
           }
          ],
          "scattermapbox": [
           {
            "marker": {
             "colorbar": {
              "outlinewidth": 0,
              "ticks": ""
             }
            },
            "type": "scattermapbox"
           }
          ],
          "scatterpolar": [
           {
            "marker": {
             "colorbar": {
              "outlinewidth": 0,
              "ticks": ""
             }
            },
            "type": "scatterpolar"
           }
          ],
          "scatterpolargl": [
           {
            "marker": {
             "colorbar": {
              "outlinewidth": 0,
              "ticks": ""
             }
            },
            "type": "scatterpolargl"
           }
          ],
          "scatterternary": [
           {
            "marker": {
             "colorbar": {
              "outlinewidth": 0,
              "ticks": ""
             }
            },
            "type": "scatterternary"
           }
          ],
          "surface": [
           {
            "colorbar": {
             "outlinewidth": 0,
             "ticks": ""
            },
            "colorscale": [
             [
              0,
              "#0d0887"
             ],
             [
              0.1111111111111111,
              "#46039f"
             ],
             [
              0.2222222222222222,
              "#7201a8"
             ],
             [
              0.3333333333333333,
              "#9c179e"
             ],
             [
              0.4444444444444444,
              "#bd3786"
             ],
             [
              0.5555555555555556,
              "#d8576b"
             ],
             [
              0.6666666666666666,
              "#ed7953"
             ],
             [
              0.7777777777777778,
              "#fb9f3a"
             ],
             [
              0.8888888888888888,
              "#fdca26"
             ],
             [
              1,
              "#f0f921"
             ]
            ],
            "type": "surface"
           }
          ],
          "table": [
           {
            "cells": {
             "fill": {
              "color": "#EBF0F8"
             },
             "line": {
              "color": "white"
             }
            },
            "header": {
             "fill": {
              "color": "#C8D4E3"
             },
             "line": {
              "color": "white"
             }
            },
            "type": "table"
           }
          ]
         },
         "layout": {
          "annotationdefaults": {
           "arrowcolor": "#2a3f5f",
           "arrowhead": 0,
           "arrowwidth": 1
          },
          "autotypenumbers": "strict",
          "coloraxis": {
           "colorbar": {
            "outlinewidth": 0,
            "ticks": ""
           }
          },
          "colorscale": {
           "diverging": [
            [
             0,
             "#8e0152"
            ],
            [
             0.1,
             "#c51b7d"
            ],
            [
             0.2,
             "#de77ae"
            ],
            [
             0.3,
             "#f1b6da"
            ],
            [
             0.4,
             "#fde0ef"
            ],
            [
             0.5,
             "#f7f7f7"
            ],
            [
             0.6,
             "#e6f5d0"
            ],
            [
             0.7,
             "#b8e186"
            ],
            [
             0.8,
             "#7fbc41"
            ],
            [
             0.9,
             "#4d9221"
            ],
            [
             1,
             "#276419"
            ]
           ],
           "sequential": [
            [
             0,
             "#0d0887"
            ],
            [
             0.1111111111111111,
             "#46039f"
            ],
            [
             0.2222222222222222,
             "#7201a8"
            ],
            [
             0.3333333333333333,
             "#9c179e"
            ],
            [
             0.4444444444444444,
             "#bd3786"
            ],
            [
             0.5555555555555556,
             "#d8576b"
            ],
            [
             0.6666666666666666,
             "#ed7953"
            ],
            [
             0.7777777777777778,
             "#fb9f3a"
            ],
            [
             0.8888888888888888,
             "#fdca26"
            ],
            [
             1,
             "#f0f921"
            ]
           ],
           "sequentialminus": [
            [
             0,
             "#0d0887"
            ],
            [
             0.1111111111111111,
             "#46039f"
            ],
            [
             0.2222222222222222,
             "#7201a8"
            ],
            [
             0.3333333333333333,
             "#9c179e"
            ],
            [
             0.4444444444444444,
             "#bd3786"
            ],
            [
             0.5555555555555556,
             "#d8576b"
            ],
            [
             0.6666666666666666,
             "#ed7953"
            ],
            [
             0.7777777777777778,
             "#fb9f3a"
            ],
            [
             0.8888888888888888,
             "#fdca26"
            ],
            [
             1,
             "#f0f921"
            ]
           ]
          },
          "colorway": [
           "#636efa",
           "#EF553B",
           "#00cc96",
           "#ab63fa",
           "#FFA15A",
           "#19d3f3",
           "#FF6692",
           "#B6E880",
           "#FF97FF",
           "#FECB52"
          ],
          "font": {
           "color": "#2a3f5f"
          },
          "geo": {
           "bgcolor": "white",
           "lakecolor": "white",
           "landcolor": "#E5ECF6",
           "showlakes": true,
           "showland": true,
           "subunitcolor": "white"
          },
          "hoverlabel": {
           "align": "left"
          },
          "hovermode": "closest",
          "mapbox": {
           "style": "light"
          },
          "paper_bgcolor": "white",
          "plot_bgcolor": "#E5ECF6",
          "polar": {
           "angularaxis": {
            "gridcolor": "white",
            "linecolor": "white",
            "ticks": ""
           },
           "bgcolor": "#E5ECF6",
           "radialaxis": {
            "gridcolor": "white",
            "linecolor": "white",
            "ticks": ""
           }
          },
          "scene": {
           "xaxis": {
            "backgroundcolor": "#E5ECF6",
            "gridcolor": "white",
            "gridwidth": 2,
            "linecolor": "white",
            "showbackground": true,
            "ticks": "",
            "zerolinecolor": "white"
           },
           "yaxis": {
            "backgroundcolor": "#E5ECF6",
            "gridcolor": "white",
            "gridwidth": 2,
            "linecolor": "white",
            "showbackground": true,
            "ticks": "",
            "zerolinecolor": "white"
           },
           "zaxis": {
            "backgroundcolor": "#E5ECF6",
            "gridcolor": "white",
            "gridwidth": 2,
            "linecolor": "white",
            "showbackground": true,
            "ticks": "",
            "zerolinecolor": "white"
           }
          },
          "shapedefaults": {
           "line": {
            "color": "#2a3f5f"
           }
          },
          "ternary": {
           "aaxis": {
            "gridcolor": "white",
            "linecolor": "white",
            "ticks": ""
           },
           "baxis": {
            "gridcolor": "white",
            "linecolor": "white",
            "ticks": ""
           },
           "bgcolor": "#E5ECF6",
           "caxis": {
            "gridcolor": "white",
            "linecolor": "white",
            "ticks": ""
           }
          },
          "title": {
           "x": 0.05
          },
          "xaxis": {
           "automargin": true,
           "gridcolor": "white",
           "linecolor": "white",
           "ticks": "",
           "title": {
            "standoff": 15
           },
           "zerolinecolor": "white",
           "zerolinewidth": 2
          },
          "yaxis": {
           "automargin": true,
           "gridcolor": "white",
           "linecolor": "white",
           "ticks": "",
           "title": {
            "standoff": 15
           },
           "zerolinecolor": "white",
           "zerolinewidth": 2
          }
         }
        },
        "title": {
         "text": "Treemap"
        },
        "width": 800
       }
      }
     },
     "metadata": {},
     "output_type": "display_data"
    }
   ],
   "source": [
    "# Create a treemap from the same data\n",
    "fig = px.treemap(dfplt, \n",
    "    path=['category', 'cwe'],\n",
    "    values='count',\n",
    "    color='count',\n",
    "    color_continuous_scale='Reds',\n",
    "    title='Treemap'\n",
    ")\n",
    "\n",
    "# Update layout if necessary\n",
    "fig.update_layout(\n",
    "    autosize=True,\n",
    "    width=800,\n",
    "    height=800,\n",
    "    font=dict( \n",
    "        size=16,\n",
    "    )\n",
    ")\n",
    "# Show the treemap\n",
    "fig.show()\n",
    "fig.write_image(fig_dir / \"vul_statistics.pdf\")"
   ]
  },
  {
   "cell_type": "code",
   "execution_count": 7,
   "metadata": {},
   "outputs": [
    {
     "data": {
      "text/html": [
       "<div>\n",
       "<style scoped>\n",
       "    .dataframe tbody tr th:only-of-type {\n",
       "        vertical-align: middle;\n",
       "    }\n",
       "\n",
       "    .dataframe tbody tr th {\n",
       "        vertical-align: top;\n",
       "    }\n",
       "\n",
       "    .dataframe thead th {\n",
       "        text-align: right;\n",
       "    }\n",
       "</style>\n",
       "<table border=\"1\" class=\"dataframe\">\n",
       "  <thead>\n",
       "    <tr style=\"text-align: right;\">\n",
       "      <th></th>\n",
       "      <th>category</th>\n",
       "      <th>cwe</th>\n",
       "      <th>count</th>\n",
       "    </tr>\n",
       "  </thead>\n",
       "  <tbody>\n",
       "    <tr>\n",
       "      <th>76</th>\n",
       "      <td>memcpy</td>\n",
       "      <td>CWE-120</td>\n",
       "      <td>24707</td>\n",
       "    </tr>\n",
       "    <tr>\n",
       "      <th>61</th>\n",
       "      <td>char</td>\n",
       "      <td>CWE-119!/CWE-120</td>\n",
       "      <td>23228</td>\n",
       "    </tr>\n",
       "    <tr>\n",
       "      <th>3</th>\n",
       "      <td>comparePointers</td>\n",
       "      <td>CWE-570</td>\n",
       "      <td>10958</td>\n",
       "    </tr>\n",
       "    <tr>\n",
       "      <th>82</th>\n",
       "      <td>sprintf</td>\n",
       "      <td>CWE-120</td>\n",
       "      <td>7710</td>\n",
       "    </tr>\n",
       "    <tr>\n",
       "      <th>87</th>\n",
       "      <td>strlen</td>\n",
       "      <td>CWE-126</td>\n",
       "      <td>7566</td>\n",
       "    </tr>\n",
       "    <tr>\n",
       "      <th>57</th>\n",
       "      <td>StrCat</td>\n",
       "      <td>CWE-120</td>\n",
       "      <td>5276</td>\n",
       "    </tr>\n",
       "    <tr>\n",
       "      <th>86</th>\n",
       "      <td>strcpy</td>\n",
       "      <td>CWE-120</td>\n",
       "      <td>3962</td>\n",
       "    </tr>\n",
       "    <tr>\n",
       "      <th>78</th>\n",
       "      <td>read</td>\n",
       "      <td>CWE-120, CWE-20</td>\n",
       "      <td>3684</td>\n",
       "    </tr>\n",
       "    <tr>\n",
       "      <th>125</th>\n",
       "      <td>open</td>\n",
       "      <td>CWE-362</td>\n",
       "      <td>1945</td>\n",
       "    </tr>\n",
       "    <tr>\n",
       "      <th>42</th>\n",
       "      <td>syntaxError</td>\n",
       "      <td>CWE-unknown</td>\n",
       "      <td>1839</td>\n",
       "    </tr>\n",
       "  </tbody>\n",
       "</table>\n",
       "</div>"
      ],
      "text/plain": [
       "            category               cwe  count\n",
       "76            memcpy           CWE-120  24707\n",
       "61              char  CWE-119!/CWE-120  23228\n",
       "3    comparePointers           CWE-570  10958\n",
       "82           sprintf           CWE-120   7710\n",
       "87            strlen           CWE-126   7566\n",
       "57            StrCat           CWE-120   5276\n",
       "86            strcpy           CWE-120   3962\n",
       "78              read   CWE-120, CWE-20   3684\n",
       "125             open           CWE-362   1945\n",
       "42       syntaxError       CWE-unknown   1839"
      ]
     },
     "execution_count": 7,
     "metadata": {},
     "output_type": "execute_result"
    }
   ],
   "source": [
    "dfplt.sort_values(by=['count'], ascending=False).head(10)"
   ]
  },
  {
   "attachments": {},
   "cell_type": "markdown",
   "metadata": {},
   "source": [
    "# Top 10 vulnerabilities"
   ]
  },
  {
   "cell_type": "code",
   "execution_count": 9,
   "metadata": {},
   "outputs": [
    {
     "name": "stdout",
     "output_type": "stream",
     "text": [
      "+----+-----------------+------------------+---------+\n",
      "|    | category        | cwe              |   count |\n",
      "|----+-----------------+------------------+---------|\n",
      "|  0 | memcpy          | CWE-120          |   24707 |\n",
      "|  1 | char            | CWE-119!/CWE-120 |   23228 |\n",
      "|  2 | comparePointers | CWE-570          |   10958 |\n",
      "|  3 | sprintf         | CWE-120          |    7710 |\n",
      "|  4 | strlen          | CWE-126          |    7566 |\n",
      "|  5 | StrCat          | CWE-120          |    5276 |\n",
      "|  6 | strcpy          | CWE-120          |    3962 |\n",
      "|  7 | read            | CWE-120, CWE-20  |    3684 |\n",
      "|  8 | open            | CWE-362          |    1945 |\n",
      "|  9 | syntaxError     | CWE-unknown      |    1839 |\n",
      "+----+-----------------+------------------+---------+\n"
     ]
    }
   ],
   "source": [
    "df_top10 = dfplt.sort_values(by=['count'], ascending=False).head(10).reset_index(drop=True)\n",
    "print(tabulate(df_top10, headers='keys', tablefmt='psql'))\n",
    "df_top10.to_latex(result_dir / \"top10.tex\", index=False, caption=\"Top 10 CWEs in IoT code\")"
   ]
  },
  {
   "cell_type": "code",
   "execution_count": 10,
   "metadata": {},
   "outputs": [
    {
     "data": {
      "text/plain": [
       "<AxesSubplot: >"
      ]
     },
     "execution_count": 10,
     "metadata": {},
     "output_type": "execute_result"
    },
    {
     "data": {
      "image/png": "[encoded data removed]",
      "text/plain": [
       "<Figure size 640x480 with 1 Axes>"
      ]
     },
     "metadata": {},
     "output_type": "display_data"
    }
   ],
   "source": [
    "# dfs.context.head(200).str.len().plot(kind='bar')\n",
    "pd.Series(sorted(list(dfs.context.head(20).str.len()))).plot(kind='bar')"
   ]
  },
  {
   "cell_type": "code",
   "execution_count": 11,
   "metadata": {},
   "outputs": [
    {
     "data": {
      "text/plain": [
       "[114, 117, 0, 101, 43]"
      ]
     },
     "execution_count": 11,
     "metadata": {},
     "output_type": "execute_result"
    }
   ],
   "source": [
    "def filter_unusual_statements(statements, min_len, max_len, df):\n",
    "    \"\"\"\" \n",
    "    # https://peps.python.org/pep-0007/\n",
    "    # https://www.python.org/dev/peps/pep-0007/ \n",
    "\n",
    "    \"\"\"\n",
    "    filtered_statements = []\n",
    "    for statement in statements:\n",
    "        if len(statement) >= min_len and len(statement) <= max_len:\n",
    "            filtered_statements.append(statement)\n",
    "   \n",
    "    # take size of the vul statements as basis\n",
    "    df = pd.Series(statements)   \n",
    "    df = df.str.len()\n",
    "    \n",
    "    stat_sizes =  list(df[df.between(max_len, min_len)].reset_index(drop=True))\n",
    "    \n",
    "    sample_size = 5 if len(stat_sizes)>5 else len(stat_sizes)-1\n",
    "    stat_sizes = random.sample(set(stat_sizes), sample_size)\n",
    "    return stat_sizes\n",
    "\n",
    "\n",
    "# standard variables:\n",
    "max_len = 151  #TODO: double check pep standards\n",
    "\n",
    "# TODO: check min_len as well, otherwise the below code unnessesarily checks one extra condition \n",
    "# because there is no any statement/fun with len below that. \n",
    "# for min_len (eg, 7 characters)\n",
    "min_len = dfs.context.str.len().sort_values(ascending=False).reset_index(drop=True).min()\n",
    "\n",
    "\n",
    "lines = dff.code[0].splitlines()\n",
    "stat_sizes = filter_unusual_statements(lines, max_len, min_len, dfs)\n",
    "stat_sizes"
   ]
  },
  {
   "attachments": {},
   "cell_type": "markdown",
   "metadata": {},
   "source": [
    "## Create a latex table from the statistics of projects"
   ]
  },
  {
   "cell_type": "code",
   "execution_count": 12,
   "metadata": {},
   "outputs": [],
   "source": [
    "def save_latex(df, file):\n",
    "    \"\"\"\n",
    "    save the dataframe as latex table\n",
    "    \"\"\"\n",
    "    styler = df.style\n",
    "    # styler.applymap_index(lambda v: \"font-weight: bold;\", axis=\"index\")\n",
    "    styler.applymap_index(lambda v: \"font-weight: bold;\", axis=\"columns\")\n",
    "    res = styler.to_latex(convert_css=True, column_format='|l|l|r|')\n",
    "\n",
    "    with open(file, 'w') as f:\n",
    "        f.write(res)\n",
    "    return res\n",
    "\n",
    "# make class binary type benign/vulnerable\n",
    "dfs_binary = dfs.copy()\n",
    "dfs_binary.loc[dfs_binary.cwe!=\"Benign\", 'cwe'] = \"Vulnerable\"\n",
    "dfs_binary['project'] = dfs_binary.project.str.split('/').str[-1]\n",
    "\n",
    "prj_stat = dfs_binary.groupby(['project', 'cwe']).size().reset_index(name='count')\n",
    "prj_s = prj_stat.groupby(['project', 'cwe']).sum()\n",
    "\n",
    "res = tabulate(save_latex(prj_s, result_dir / 'project_stat.tex'))"
   ]
  },
  {
   "cell_type": "code",
   "execution_count": 13,
   "metadata": {},
   "outputs": [
    {
     "data": {
      "text/html": [
       "<div>\n",
       "<style scoped>\n",
       "    .dataframe tbody tr th:only-of-type {\n",
       "        vertical-align: middle;\n",
       "    }\n",
       "\n",
       "    .dataframe tbody tr th {\n",
       "        vertical-align: top;\n",
       "    }\n",
       "\n",
       "    .dataframe thead th {\n",
       "        text-align: right;\n",
       "    }\n",
       "</style>\n",
       "<table border=\"1\" class=\"dataframe\">\n",
       "  <thead>\n",
       "    <tr style=\"text-align: right;\">\n",
       "      <th></th>\n",
       "      <th>project</th>\n",
       "      <th>cwe</th>\n",
       "      <th>count</th>\n",
       "    </tr>\n",
       "  </thead>\n",
       "  <tbody>\n",
       "    <tr>\n",
       "      <th>0</th>\n",
       "      <td>ARMmbed</td>\n",
       "      <td>Benign</td>\n",
       "      <td>31666</td>\n",
       "    </tr>\n",
       "    <tr>\n",
       "      <th>1</th>\n",
       "      <td>ARMmbed</td>\n",
       "      <td>Vulnerable</td>\n",
       "      <td>8729</td>\n",
       "    </tr>\n",
       "    <tr>\n",
       "      <th>2</th>\n",
       "      <td>CycloneTCP</td>\n",
       "      <td>Benign</td>\n",
       "      <td>107238</td>\n",
       "    </tr>\n",
       "    <tr>\n",
       "      <th>3</th>\n",
       "      <td>CycloneTCP</td>\n",
       "      <td>Vulnerable</td>\n",
       "      <td>12983</td>\n",
       "    </tr>\n",
       "    <tr>\n",
       "      <th>4</th>\n",
       "      <td>chromium</td>\n",
       "      <td>Benign</td>\n",
       "      <td>271570</td>\n",
       "    </tr>\n",
       "    <tr>\n",
       "      <th>5</th>\n",
       "      <td>chromium</td>\n",
       "      <td>Vulnerable</td>\n",
       "      <td>14717</td>\n",
       "    </tr>\n",
       "    <tr>\n",
       "      <th>6</th>\n",
       "      <td>linux</td>\n",
       "      <td>Benign</td>\n",
       "      <td>438785</td>\n",
       "    </tr>\n",
       "    <tr>\n",
       "      <th>7</th>\n",
       "      <td>linux</td>\n",
       "      <td>Vulnerable</td>\n",
       "      <td>65439</td>\n",
       "    </tr>\n",
       "    <tr>\n",
       "      <th>8</th>\n",
       "      <td>tensorflow</td>\n",
       "      <td>Benign</td>\n",
       "      <td>43048</td>\n",
       "    </tr>\n",
       "    <tr>\n",
       "      <th>9</th>\n",
       "      <td>tensorflow</td>\n",
       "      <td>Vulnerable</td>\n",
       "      <td>6538</td>\n",
       "    </tr>\n",
       "  </tbody>\n",
       "</table>\n",
       "</div>"
      ],
      "text/plain": [
       "      project         cwe   count\n",
       "0     ARMmbed      Benign   31666\n",
       "1     ARMmbed  Vulnerable    8729\n",
       "2  CycloneTCP      Benign  107238\n",
       "3  CycloneTCP  Vulnerable   12983\n",
       "4    chromium      Benign  271570\n",
       "5    chromium  Vulnerable   14717\n",
       "6       linux      Benign  438785\n",
       "7       linux  Vulnerable   65439\n",
       "8  tensorflow      Benign   43048\n",
       "9  tensorflow  Vulnerable    6538"
      ]
     },
     "execution_count": 13,
     "metadata": {},
     "output_type": "execute_result"
    }
   ],
   "source": [
    "dff_binary = dff.copy()\n",
    "dff_binary.loc[dff_binary.cwe!=\"Benign\", 'cwe'] = \"Vulnerable\"\n",
    "dff_binary['project'] = dff_binary.project.str.split('/').str[-1]\n",
    "\n",
    "prj_fun = dff_binary.groupby(['project', 'cwe']).size().reset_index(name='count')\n",
    "prj_f = prj_fun.groupby(['project', 'cwe']).sum()\n",
    "prj_f = prj_f.reset_index()\n",
    "prj_f"
   ]
  },
  {
   "cell_type": "code",
   "execution_count": 46,
   "metadata": {},
   "outputs": [
    {
     "data": {
      "text/html": [
       "<div>\n",
       "<style scoped>\n",
       "    .dataframe tbody tr th:only-of-type {\n",
       "        vertical-align: middle;\n",
       "    }\n",
       "\n",
       "    .dataframe tbody tr th {\n",
       "        vertical-align: top;\n",
       "    }\n",
       "\n",
       "    .dataframe thead tr th {\n",
       "        text-align: left;\n",
       "    }\n",
       "</style>\n",
       "<table border=\"1\" class=\"dataframe\">\n",
       "  <thead>\n",
       "    <tr>\n",
       "      <th></th>\n",
       "      <th colspan=\"2\" halign=\"left\">#statement</th>\n",
       "      <th colspan=\"2\" halign=\"left\">#function</th>\n",
       "    </tr>\n",
       "    <tr>\n",
       "      <th>cwe</th>\n",
       "      <th>Benign</th>\n",
       "      <th>Vulnerable</th>\n",
       "      <th>Benign</th>\n",
       "      <th>Vulnerable</th>\n",
       "    </tr>\n",
       "  </thead>\n",
       "  <tbody>\n",
       "    <tr>\n",
       "      <th>ARMmbed</th>\n",
       "      <td>203593</td>\n",
       "      <td>9592</td>\n",
       "      <td>31666</td>\n",
       "      <td>8729</td>\n",
       "    </tr>\n",
       "    <tr>\n",
       "      <th>CycloneTCP</th>\n",
       "      <td>294106</td>\n",
       "      <td>18154</td>\n",
       "      <td>107238</td>\n",
       "      <td>12983</td>\n",
       "    </tr>\n",
       "    <tr>\n",
       "      <th>chromium</th>\n",
       "      <td>409534</td>\n",
       "      <td>15407</td>\n",
       "      <td>271570</td>\n",
       "      <td>14717</td>\n",
       "    </tr>\n",
       "    <tr>\n",
       "      <th>linux</th>\n",
       "      <td>2416761</td>\n",
       "      <td>57524</td>\n",
       "      <td>438785</td>\n",
       "      <td>65439</td>\n",
       "    </tr>\n",
       "    <tr>\n",
       "      <th>tensorflow</th>\n",
       "      <td>176176</td>\n",
       "      <td>5485</td>\n",
       "      <td>43048</td>\n",
       "      <td>6538</td>\n",
       "    </tr>\n",
       "    <tr>\n",
       "      <th>TOTAL</th>\n",
       "      <td>3500170</td>\n",
       "      <td>106162</td>\n",
       "      <td>892307</td>\n",
       "      <td>108406</td>\n",
       "    </tr>\n",
       "  </tbody>\n",
       "</table>\n",
       "</div>"
      ],
      "text/plain": [
       "           #statement            #function           \n",
       "cwe            Benign Vulnerable    Benign Vulnerable\n",
       "ARMmbed        203593       9592     31666       8729\n",
       "CycloneTCP     294106      18154    107238      12983\n",
       "chromium       409534      15407    271570      14717\n",
       "linux         2416761      57524    438785      65439\n",
       "tensorflow     176176       5485     43048       6538\n",
       "TOTAL         3500170     106162    892307     108406"
      ]
     },
     "execution_count": 46,
     "metadata": {},
     "output_type": "execute_result"
    }
   ],
   "source": [
    "prj_f = prj_f.rename(columns={'cwe':'cwef', 'count':'#function','project':'projectf'})\n",
    "prj_stat = prj_stat.rename(columns={'count':'#statement'})\n",
    "\n",
    "df_dist = pd.concat([prj_stat, prj_f], axis=1, join='inner')\n",
    "df_dist = df_dist.sort_values(by=['#statement'], ascending=False)\n",
    "df_dist = df_dist.drop(columns=['projectf', 'cwef'], axis=1)\n",
    "df_dist = df_dist.set_index(['project', 'cwe']).unstack()\n",
    "df_dist = pd.concat([df_dist, df_dist.sum().rename('TOTAL').to_frame().T], ignore_index=False)\n",
    "df_dist.reset_index().to_latex('result/project-stat.tex', index=False)\n",
    "print(f\"Total #statements: {df_dist[-1:][0:2].T[0:2].sum()}\")\n",
    "print(f\"Total #functions: {df_dist[-1:][0:2].T[2:4].sum()}\")\n",
    "df_dist"
   ]
  },
  {
   "cell_type": "code",
   "execution_count": 101,
   "metadata": {},
   "outputs": [
    {
     "data": {
      "text/html": [
       "<div>\n",
       "<style scoped>\n",
       "    .dataframe tbody tr th:only-of-type {\n",
       "        vertical-align: middle;\n",
       "    }\n",
       "\n",
       "    .dataframe tbody tr th {\n",
       "        vertical-align: top;\n",
       "    }\n",
       "\n",
       "    .dataframe thead th {\n",
       "        text-align: right;\n",
       "    }\n",
       "</style>\n",
       "<table border=\"1\" class=\"dataframe\">\n",
       "  <thead>\n",
       "    <tr style=\"text-align: right;\">\n",
       "      <th></th>\n",
       "      <th>cwe</th>\n",
       "      <th>#statements</th>\n",
       "      <th>cwe</th>\n",
       "      <th>#functions</th>\n",
       "    </tr>\n",
       "  </thead>\n",
       "  <tbody>\n",
       "    <tr>\n",
       "      <th>0</th>\n",
       "      <td>Benign</td>\n",
       "      <td>3500170</td>\n",
       "      <td>Benign</td>\n",
       "      <td>892307</td>\n",
       "    </tr>\n",
       "    <tr>\n",
       "      <th>1</th>\n",
       "      <td>CWE-120</td>\n",
       "      <td>43088</td>\n",
       "      <td>CWE-120</td>\n",
       "      <td>52107</td>\n",
       "    </tr>\n",
       "    <tr>\n",
       "      <th>2</th>\n",
       "      <td>CWE-119!/CWE-120</td>\n",
       "      <td>23626</td>\n",
       "      <td>CWE-119!/CWE-120</td>\n",
       "      <td>13063</td>\n",
       "    </tr>\n",
       "    <tr>\n",
       "      <th>3</th>\n",
       "      <td>CWE-570</td>\n",
       "      <td>10958</td>\n",
       "      <td>CWE-126</td>\n",
       "      <td>8633</td>\n",
       "    </tr>\n",
       "    <tr>\n",
       "      <th>4</th>\n",
       "      <td>CWE-126</td>\n",
       "      <td>8111</td>\n",
       "      <td>CWE-457</td>\n",
       "      <td>5946</td>\n",
       "    </tr>\n",
       "    <tr>\n",
       "      <th>5</th>\n",
       "      <td>CWE-120, CWE-20</td>\n",
       "      <td>3863</td>\n",
       "      <td>CWE-unknown</td>\n",
       "      <td>5307</td>\n",
       "    </tr>\n",
       "    <tr>\n",
       "      <th>6</th>\n",
       "      <td>CWE-362</td>\n",
       "      <td>2775</td>\n",
       "      <td>CWE-120, CWE-20</td>\n",
       "      <td>5221</td>\n",
       "    </tr>\n",
       "    <tr>\n",
       "      <th>7</th>\n",
       "      <td>CWE-unknown</td>\n",
       "      <td>2507</td>\n",
       "      <td>CWE-570</td>\n",
       "      <td>4188</td>\n",
       "    </tr>\n",
       "    <tr>\n",
       "      <th>8</th>\n",
       "      <td>CWE-457</td>\n",
       "      <td>1807</td>\n",
       "      <td>CWE-362</td>\n",
       "      <td>2838</td>\n",
       "    </tr>\n",
       "    <tr>\n",
       "      <th>9</th>\n",
       "      <td>CWE-327</td>\n",
       "      <td>1670</td>\n",
       "      <td>CWE-362/CWE-367!</td>\n",
       "      <td>1712</td>\n",
       "    </tr>\n",
       "  </tbody>\n",
       "</table>\n",
       "</div>"
      ],
      "text/plain": [
       "                cwe  #statements               cwe  #functions\n",
       "0            Benign      3500170            Benign      892307\n",
       "1           CWE-120        43088           CWE-120       52107\n",
       "2  CWE-119!/CWE-120        23626  CWE-119!/CWE-120       13063\n",
       "3           CWE-570        10958           CWE-126        8633\n",
       "4           CWE-126         8111           CWE-457        5946\n",
       "5   CWE-120, CWE-20         3863       CWE-unknown        5307\n",
       "6           CWE-362         2775   CWE-120, CWE-20        5221\n",
       "7       CWE-unknown         2507           CWE-570        4188\n",
       "8           CWE-457         1807           CWE-362        2838\n",
       "9           CWE-327         1670  CWE-362/CWE-367!        1712"
      ]
     },
     "execution_count": 101,
     "metadata": {},
     "output_type": "execute_result"
    }
   ],
   "source": [
    "dff['cwe'] = dff.cwe.str.replace(r\"\\['|']\", \"\",regex=True)\n",
    "dfs_cwe = dfs.cwe.value_counts().reset_index(name='#statements')\n",
    "dff_cwe = dff.cwe.value_counts().reset_index(name='#functions')\n",
    "\n",
    "dfs_cwe = dfs_cwe.rename(columns={'index':'cwe'})\n",
    "dff_cwe = dff_cwe.rename(columns={'index':'cwe'})\n",
    "df_cwe_count = pd.concat([dfs_cwe, dff_cwe], axis=1).head(10)\n",
    "df_cwe_count = df_cwe_count.astype({\"#functions\": int})\n",
    "df_cwe_count.to_latex('result/cwe-top-10.tex', index=False)\n",
    "df_cwe_count"
   ]
  },
  {
   "attachments": {},
   "cell_type": "markdown",
   "metadata": {},
   "source": [
    "# Show the description of the function-level data"
   ]
  },
  {
   "cell_type": "code",
   "execution_count": 102,
   "metadata": {},
   "outputs": [
    {
     "name": "stdout",
     "output_type": "stream",
     "text": [
      "\\begin{table}\n",
      "\\caption{Function Statistics}\n",
      "\\label{Function Statistics}\n",
      "\\begin{tabular}{rrrrr}\n",
      "\\toprule\n",
      "features & unique & top & freq \\\\\n",
      "\\midrule\n",
      "context & 70089 &  & 892307 \\\\\n",
      "cwe & 2 & Benign & 892307 \\\\\n",
      "project & 5 & linux & 504224 \\\\\n",
      "\\bottomrule\n",
      "\\end{tabular}\n",
      "\\end{table}\n",
      "\n"
     ]
    }
   ],
   "source": [
    "df_describe = dff_binary.drop(\n",
    "    labels=['top_nesting_level', 'fan_in', 'fan_out', 'general_fan_out', 'content', 'long_name', 'fun_name', 'full_parameters', 'code'],\n",
    "    axis=1, \n",
    "    errors='ignore').describe().T\n",
    "\n",
    "df_freq = df_describe.reset_index().rename(columns={'index': 'features'})\n",
    "df_freq = df_freq.drop(labels=['count'], axis=1)\n",
    "\n",
    "# shortening the project URL to project name only \n",
    "df_freq['top'] = df_freq.apply(lambda row:row['top'].split('/')[-1] if '/' in row['top'] else row['top'], axis=1)\n",
    "\n",
    "# The freq is the most common value’s frequency. The top is the most common value.\n",
    "print(df_freq[~df_freq.features.isin(['file'])].to_latex(\n",
    "    index=False,\n",
    "    column_format='rrrrr', \n",
    "    label='Function Statistics', \n",
    "    caption='Function Statistics')\n",
    "    )"
   ]
  },
  {
   "cell_type": "code",
   "execution_count": 65,
   "metadata": {},
   "outputs": [
    {
     "name": "stdout",
     "output_type": "stream",
     "text": [
      "Size of statements: 3606332\n",
      "Size of unique statements: 1558946\n",
      "\n",
      "Size of functions: 1000713\n",
      "Size of unique functions: 778005\n"
     ]
    }
   ],
   "source": [
    "print(f'Size of statements: {len(dfs.context)}')\n",
    "print(f'Size of unique statements: {dfs.context.nunique()}')\n",
    "\n",
    "print(f'\\nSize of functions: {len(dff.code)}')\n",
    "print(f'Size of unique functions: {dff.code.nunique()}')"
   ]
  },
  {
   "cell_type": "markdown",
   "metadata": {},
   "source": [
    "# Token count of function-level data"
   ]
  },
  {
   "cell_type": "code",
   "execution_count": 103,
   "metadata": {},
   "outputs": [],
   "source": [
    "from gensim.utils import simple_preprocess\n",
    "\n",
    "fun_token_count = [len(simple_preprocess(x)) for x in dff.code]\n",
    "stat_token_count = [len(simple_preprocess(x)) for x in dfs.context]"
   ]
  },
  {
   "cell_type": "code",
   "execution_count": 92,
   "metadata": {},
   "outputs": [
    {
     "data": {
      "image/png": "[encoded data removed]",
      "text/plain": [
       "<Figure size 640x480 with 1 Axes>"
      ]
     },
     "metadata": {},
     "output_type": "display_data"
    }
   ],
   "source": [
    "fun_token_count_short = [x for x in fun_token_count if x<=1024]\n",
    "pd.Series(fun_token_count_short).plot.hist(bins=20)\n",
    "plt.xlabel('#tokens')\n",
    "plt.ylabel('frequency')\n",
    "# plt.title('Function Token Count Distribution')\n",
    "plt.savefig(fig_dir / 'fun_token_count.pdf')"
   ]
  },
  {
   "cell_type": "code",
   "execution_count": 107,
   "metadata": {},
   "outputs": [
    {
     "name": "stdout",
     "output_type": "stream",
     "text": [
      "       fun_token_count  stat_token_count\n",
      "count     3.606332e+06      1.000713e+06\n",
      "mean      3.270633e+00      6.222487e+01\n",
      "std       2.343737e+00      1.392301e+02\n",
      "min       0.000000e+00      0.000000e+00\n",
      "25%       2.000000e+00      1.100000e+01\n",
      "50%       3.000000e+00      2.800000e+01\n",
      "75%       4.000000e+00      6.700000e+01\n",
      "max       5.800000e+01      1.602500e+04\n"
     ]
    }
   ],
   "source": [
    "# Combine descriptions into a DataFrame\n",
    "combined_df = pd.DataFrame({\n",
    "    'fun_token_count': pd.Series(stat_token_count).describe(),\n",
    "    'stat_token_count': pd.Series(fun_token_count).describe()\n",
    "})\n",
    "\n",
    "print(combined_df)"
   ]
  },
  {
   "cell_type": "code",
   "execution_count": 95,
   "metadata": {},
   "outputs": [
    {
     "data": {
      "image/png": "[encoded data removed]",
      "text/plain": [
       "<Figure size 640x480 with 1 Axes>"
      ]
     },
     "metadata": {},
     "output_type": "display_data"
    }
   ],
   "source": [
    "pd.Series(stat_token_count).plot.hist(bins=20, alpha=0.8)\n",
    "plt.xlabel('#tokens')\n",
    "plt.ylabel('Frequency')\n",
    "plt.savefig(fig_dir / 'stat_token_count.pdf')"
   ]
  },
  {
   "cell_type": "code",
   "execution_count": 96,
   "metadata": {},
   "outputs": [
    {
     "data": {
      "image/png": "[encoded data removed]",
      "text/plain": [
       "<Figure size 640x480 with 1 Axes>"
      ]
     },
     "metadata": {},
     "output_type": "display_data"
    }
   ],
   "source": [
    "dfs1 = dfs[dfs.context.str.len()<151]\n",
    "stat_char_len = [len(x) for x in dfs1.context if len(x)>10]\n",
    "ax = pd.Series(stat_char_len).plot.hist(bins=20, xlabel='#chars', ylabel='#statements',alpha=0.8)\n",
    "plt.xlabel('#tokens')\n",
    "plt.ylabel('Frequency')\n",
    "fighist = ax.get_figure()\n",
    "fighist.savefig(fig_dir / 'statement-charlen.pdf')"
   ]
  },
  {
   "cell_type": "code",
   "execution_count": 174,
   "metadata": {},
   "outputs": [
    {
     "data": {
      "text/html": [
       "<div>\n",
       "<style scoped>\n",
       "    .dataframe tbody tr th:only-of-type {\n",
       "        vertical-align: middle;\n",
       "    }\n",
       "\n",
       "    .dataframe tbody tr th {\n",
       "        vertical-align: top;\n",
       "    }\n",
       "\n",
       "    .dataframe thead th {\n",
       "        text-align: right;\n",
       "    }\n",
       "</style>\n",
       "<table border=\"1\" class=\"dataframe\">\n",
       "  <thead>\n",
       "    <tr style=\"text-align: right;\">\n",
       "      <th></th>\n",
       "      <th>file</th>\n",
       "      <th>line</th>\n",
       "      <th>column</th>\n",
       "      <th>defaultlevel</th>\n",
       "      <th>level</th>\n",
       "      <th>category</th>\n",
       "      <th>name</th>\n",
       "      <th>msg</th>\n",
       "      <th>note</th>\n",
       "      <th>cwe</th>\n",
       "      <th>context</th>\n",
       "      <th>helpuri</th>\n",
       "      <th>severity</th>\n",
       "      <th>tool</th>\n",
       "      <th>type</th>\n",
       "      <th>project</th>\n",
       "    </tr>\n",
       "  </thead>\n",
       "  <tbody>\n",
       "    <tr>\n",
       "      <th>0</th>\n",
       "      <td>-</td>\n",
       "      <td>47</td>\n",
       "      <td>['0']</td>\n",
       "      <td>-</td>\n",
       "      <td>-</td>\n",
       "      <td>-</td>\n",
       "      <td>preprocessorErrorDirective</td>\n",
       "      <td>No header in #include</td>\n",
       "      <td>[]</td>\n",
       "      <td>CWE-unknown</td>\n",
       "      <td>extern void platform_timer_start(uint16_t slots);</td>\n",
       "      <td>-</td>\n",
       "      <td>error</td>\n",
       "      <td>CppCheck</td>\n",
       "      <td>-</td>\n",
       "      <td>/Users/guru/research/projects/ARMmbed</td>\n",
       "    </tr>\n",
       "    <tr>\n",
       "      <th>1</th>\n",
       "      <td>-</td>\n",
       "      <td>47</td>\n",
       "      <td>['0']</td>\n",
       "      <td>-</td>\n",
       "      <td>-</td>\n",
       "      <td>-</td>\n",
       "      <td>preprocessorErrorDirective</td>\n",
       "      <td>No header in #include</td>\n",
       "      <td>[]</td>\n",
       "      <td>CWE-unknown</td>\n",
       "      <td>extern void platform_timer_start(uint16_t slots);</td>\n",
       "      <td>-</td>\n",
       "      <td>error</td>\n",
       "      <td>CppCheck</td>\n",
       "      <td>-</td>\n",
       "      <td>/Users/guru/research/projects/ARMmbed</td>\n",
       "    </tr>\n",
       "    <tr>\n",
       "      <th>2</th>\n",
       "      <td>-</td>\n",
       "      <td>159</td>\n",
       "      <td>['17', '15', '59', '11', '135']</td>\n",
       "      <td>-</td>\n",
       "      <td>-</td>\n",
       "      <td>-</td>\n",
       "      <td>ctunullpointer</td>\n",
       "      <td>Null pointer dereference: req_list_ptr</td>\n",
       "      <td>['Dereferencing argument req_list_ptr that is ...</td>\n",
       "      <td>CWE-476</td>\n",
       "      <td>memcpy(ptr, req_list_ptr, req_list_len);</td>\n",
       "      <td>-</td>\n",
       "      <td>error</td>\n",
       "      <td>CppCheck</td>\n",
       "      <td>-</td>\n",
       "      <td>/Users/guru/research/projects/ARMmbed</td>\n",
       "    </tr>\n",
       "    <tr>\n",
       "      <th>3</th>\n",
       "      <td>-</td>\n",
       "      <td>173</td>\n",
       "      <td>['17', '15', '59', '11', '135']</td>\n",
       "      <td>-</td>\n",
       "      <td>-</td>\n",
       "      <td>-</td>\n",
       "      <td>ctunullpointer</td>\n",
       "      <td>Null pointer dereference: req_list_ptr</td>\n",
       "      <td>['Dereferencing argument req_list_ptr that is ...</td>\n",
       "      <td>CWE-476</td>\n",
       "      <td>ptr = thread_lowpower_tlv_write_link_metrics_q...</td>\n",
       "      <td>-</td>\n",
       "      <td>error</td>\n",
       "      <td>CppCheck</td>\n",
       "      <td>-</td>\n",
       "      <td>/Users/guru/research/projects/ARMmbed</td>\n",
       "    </tr>\n",
       "    <tr>\n",
       "      <th>4</th>\n",
       "      <td>-</td>\n",
       "      <td>337</td>\n",
       "      <td>['17', '15', '59', '11', '135']</td>\n",
       "      <td>-</td>\n",
       "      <td>-</td>\n",
       "      <td>-</td>\n",
       "      <td>ctunullpointer</td>\n",
       "      <td>Null pointer dereference: req_list_ptr</td>\n",
       "      <td>['Dereferencing argument req_list_ptr that is ...</td>\n",
       "      <td>CWE-476</td>\n",
       "      <td>ptr = thread_lowpower_tlv_write_link_metrics_q...</td>\n",
       "      <td>-</td>\n",
       "      <td>error</td>\n",
       "      <td>CppCheck</td>\n",
       "      <td>-</td>\n",
       "      <td>/Users/guru/research/projects/ARMmbed</td>\n",
       "    </tr>\n",
       "    <tr>\n",
       "      <th>...</th>\n",
       "      <td>...</td>\n",
       "      <td>...</td>\n",
       "      <td>...</td>\n",
       "      <td>...</td>\n",
       "      <td>...</td>\n",
       "      <td>...</td>\n",
       "      <td>...</td>\n",
       "      <td>...</td>\n",
       "      <td>...</td>\n",
       "      <td>...</td>\n",
       "      <td>...</td>\n",
       "      <td>...</td>\n",
       "      <td>...</td>\n",
       "      <td>...</td>\n",
       "      <td>...</td>\n",
       "      <td>...</td>\n",
       "    </tr>\n",
       "    <tr>\n",
       "      <th>67</th>\n",
       "      <td>-</td>\n",
       "      <td>34</td>\n",
       "      <td>['42', '10']</td>\n",
       "      <td>-</td>\n",
       "      <td>-</td>\n",
       "      <td>-</td>\n",
       "      <td>ctuuninitvar</td>\n",
       "      <td>Using argument width_size that points at unini...</td>\n",
       "      <td>['Using argument width_size', 'Calling functio...</td>\n",
       "      <td>CWE-457</td>\n",
       "      <td>int* dim[] = {batch_size, height_size, width_s...</td>\n",
       "      <td>-</td>\n",
       "      <td>error</td>\n",
       "      <td>CppCheck</td>\n",
       "      <td>-</td>\n",
       "      <td>/Users/guru/research/projects/tensorflow</td>\n",
       "    </tr>\n",
       "    <tr>\n",
       "      <th>68</th>\n",
       "      <td>-</td>\n",
       "      <td>34</td>\n",
       "      <td>['54', '10']</td>\n",
       "      <td>-</td>\n",
       "      <td>-</td>\n",
       "      <td>-</td>\n",
       "      <td>ctuuninitvar</td>\n",
       "      <td>Using argument depth_size that points at unini...</td>\n",
       "      <td>['Using argument depth_size', 'Calling functio...</td>\n",
       "      <td>CWE-457</td>\n",
       "      <td>int* dim[] = {batch_size, height_size, width_s...</td>\n",
       "      <td>-</td>\n",
       "      <td>error</td>\n",
       "      <td>CppCheck</td>\n",
       "      <td>-</td>\n",
       "      <td>/Users/guru/research/projects/tensorflow</td>\n",
       "    </tr>\n",
       "    <tr>\n",
       "      <th>69</th>\n",
       "      <td>-</td>\n",
       "      <td>124</td>\n",
       "      <td>['7', '27', '24', '68']</td>\n",
       "      <td>-</td>\n",
       "      <td>-</td>\n",
       "      <td>-</td>\n",
       "      <td>ctunullpointer</td>\n",
       "      <td>Null pointer dereference: local_client</td>\n",
       "      <td>['Dereferencing argument local_client that is ...</td>\n",
       "      <td>CWE-476</td>\n",
       "      <td>BuildExecutable(local_client, result, options));</td>\n",
       "      <td>-</td>\n",
       "      <td>error</td>\n",
       "      <td>CppCheck</td>\n",
       "      <td>-</td>\n",
       "      <td>/Users/guru/research/projects/tensorflow</td>\n",
       "    </tr>\n",
       "    <tr>\n",
       "      <th>70</th>\n",
       "      <td>-</td>\n",
       "      <td>314</td>\n",
       "      <td>['7', '27', '24', '68']</td>\n",
       "      <td>-</td>\n",
       "      <td>-</td>\n",
       "      <td>-</td>\n",
       "      <td>ctunullpointer</td>\n",
       "      <td>Null pointer dereference: local_client</td>\n",
       "      <td>['Dereferencing argument local_client that is ...</td>\n",
       "      <td>CWE-476</td>\n",
       "      <td>return BuildHLOString(stage, result, local_cli...</td>\n",
       "      <td>-</td>\n",
       "      <td>error</td>\n",
       "      <td>CppCheck</td>\n",
       "      <td>-</td>\n",
       "      <td>/Users/guru/research/projects/tensorflow</td>\n",
       "    </tr>\n",
       "    <tr>\n",
       "      <th>71</th>\n",
       "      <td>-</td>\n",
       "      <td>126</td>\n",
       "      <td>['0']</td>\n",
       "      <td>-</td>\n",
       "      <td>-</td>\n",
       "      <td>-</td>\n",
       "      <td>preprocessorErrorDirective</td>\n",
       "      <td>Failed to parse #define</td>\n",
       "      <td>[]</td>\n",
       "      <td>CWE-unknown</td>\n",
       "      <td>extern unsigned long GPIOIntTypeGet(unsigned l...</td>\n",
       "      <td>-</td>\n",
       "      <td>error</td>\n",
       "      <td>CppCheck</td>\n",
       "      <td>-</td>\n",
       "      <td>/Users/guru/research/projects/CycloneTCP</td>\n",
       "    </tr>\n",
       "  </tbody>\n",
       "</table>\n",
       "<p>72 rows × 16 columns</p>\n",
       "</div>"
      ],
      "text/plain": [
       "   file line                           column defaultlevel level category  \\\n",
       "0     -   47                            ['0']            -     -        -   \n",
       "1     -   47                            ['0']            -     -        -   \n",
       "2     -  159  ['17', '15', '59', '11', '135']            -     -        -   \n",
       "3     -  173  ['17', '15', '59', '11', '135']            -     -        -   \n",
       "4     -  337  ['17', '15', '59', '11', '135']            -     -        -   \n",
       "..  ...  ...                              ...          ...   ...      ...   \n",
       "67    -   34                     ['42', '10']            -     -        -   \n",
       "68    -   34                     ['54', '10']            -     -        -   \n",
       "69    -  124          ['7', '27', '24', '68']            -     -        -   \n",
       "70    -  314          ['7', '27', '24', '68']            -     -        -   \n",
       "71    -  126                            ['0']            -     -        -   \n",
       "\n",
       "                          name  \\\n",
       "0   preprocessorErrorDirective   \n",
       "1   preprocessorErrorDirective   \n",
       "2               ctunullpointer   \n",
       "3               ctunullpointer   \n",
       "4               ctunullpointer   \n",
       "..                         ...   \n",
       "67                ctuuninitvar   \n",
       "68                ctuuninitvar   \n",
       "69              ctunullpointer   \n",
       "70              ctunullpointer   \n",
       "71  preprocessorErrorDirective   \n",
       "\n",
       "                                                  msg  \\\n",
       "0                               No header in #include   \n",
       "1                               No header in #include   \n",
       "2              Null pointer dereference: req_list_ptr   \n",
       "3              Null pointer dereference: req_list_ptr   \n",
       "4              Null pointer dereference: req_list_ptr   \n",
       "..                                                ...   \n",
       "67  Using argument width_size that points at unini...   \n",
       "68  Using argument depth_size that points at unini...   \n",
       "69             Null pointer dereference: local_client   \n",
       "70             Null pointer dereference: local_client   \n",
       "71                            Failed to parse #define   \n",
       "\n",
       "                                                 note          cwe  \\\n",
       "0                                                  []  CWE-unknown   \n",
       "1                                                  []  CWE-unknown   \n",
       "2   ['Dereferencing argument req_list_ptr that is ...      CWE-476   \n",
       "3   ['Dereferencing argument req_list_ptr that is ...      CWE-476   \n",
       "4   ['Dereferencing argument req_list_ptr that is ...      CWE-476   \n",
       "..                                                ...          ...   \n",
       "67  ['Using argument width_size', 'Calling functio...      CWE-457   \n",
       "68  ['Using argument depth_size', 'Calling functio...      CWE-457   \n",
       "69  ['Dereferencing argument local_client that is ...      CWE-476   \n",
       "70  ['Dereferencing argument local_client that is ...      CWE-476   \n",
       "71                                                 []  CWE-unknown   \n",
       "\n",
       "                                              context helpuri severity  \\\n",
       "0   extern void platform_timer_start(uint16_t slots);       -    error   \n",
       "1   extern void platform_timer_start(uint16_t slots);       -    error   \n",
       "2            memcpy(ptr, req_list_ptr, req_list_len);       -    error   \n",
       "3   ptr = thread_lowpower_tlv_write_link_metrics_q...       -    error   \n",
       "4   ptr = thread_lowpower_tlv_write_link_metrics_q...       -    error   \n",
       "..                                                ...     ...      ...   \n",
       "67  int* dim[] = {batch_size, height_size, width_s...       -    error   \n",
       "68  int* dim[] = {batch_size, height_size, width_s...       -    error   \n",
       "69   BuildExecutable(local_client, result, options));       -    error   \n",
       "70  return BuildHLOString(stage, result, local_cli...       -    error   \n",
       "71  extern unsigned long GPIOIntTypeGet(unsigned l...       -    error   \n",
       "\n",
       "        tool type                                   project  \n",
       "0   CppCheck    -     /Users/guru/research/projects/ARMmbed  \n",
       "1   CppCheck    -     /Users/guru/research/projects/ARMmbed  \n",
       "2   CppCheck    -     /Users/guru/research/projects/ARMmbed  \n",
       "3   CppCheck    -     /Users/guru/research/projects/ARMmbed  \n",
       "4   CppCheck    -     /Users/guru/research/projects/ARMmbed  \n",
       "..       ...  ...                                       ...  \n",
       "67  CppCheck    -  /Users/guru/research/projects/tensorflow  \n",
       "68  CppCheck    -  /Users/guru/research/projects/tensorflow  \n",
       "69  CppCheck    -  /Users/guru/research/projects/tensorflow  \n",
       "70  CppCheck    -  /Users/guru/research/projects/tensorflow  \n",
       "71  CppCheck    -  /Users/guru/research/projects/CycloneTCP  \n",
       "\n",
       "[72 rows x 16 columns]"
      ]
     },
     "execution_count": 174,
     "metadata": {},
     "output_type": "execute_result"
    }
   ],
   "source": [
    "dfs[dfs.file.str.len()<5].reset_index(drop=True)"
   ]
  },
  {
   "cell_type": "code",
   "execution_count": 180,
   "metadata": {},
   "outputs": [
    {
     "data": {
      "text/html": [
       "<div>\n",
       "<style scoped>\n",
       "    .dataframe tbody tr th:only-of-type {\n",
       "        vertical-align: middle;\n",
       "    }\n",
       "\n",
       "    .dataframe tbody tr th {\n",
       "        vertical-align: top;\n",
       "    }\n",
       "\n",
       "    .dataframe thead th {\n",
       "        text-align: right;\n",
       "    }\n",
       "</style>\n",
       "<table border=\"1\" class=\"dataframe\">\n",
       "  <thead>\n",
       "    <tr style=\"text-align: right;\">\n",
       "      <th></th>\n",
       "      <th>file</th>\n",
       "      <th>line</th>\n",
       "      <th>column</th>\n",
       "      <th>defaultlevel</th>\n",
       "      <th>level</th>\n",
       "      <th>category</th>\n",
       "      <th>name</th>\n",
       "      <th>msg</th>\n",
       "      <th>note</th>\n",
       "      <th>cwe</th>\n",
       "      <th>context</th>\n",
       "      <th>helpuri</th>\n",
       "      <th>severity</th>\n",
       "      <th>tool</th>\n",
       "      <th>type</th>\n",
       "      <th>project</th>\n",
       "    </tr>\n",
       "  </thead>\n",
       "  <tbody>\n",
       "    <tr>\n",
       "      <th>0</th>\n",
       "      <td>-</td>\n",
       "      <td>47</td>\n",
       "      <td>['0']</td>\n",
       "      <td>-</td>\n",
       "      <td>-</td>\n",
       "      <td>-</td>\n",
       "      <td>preprocessorErrorDirective</td>\n",
       "      <td>No header in #include</td>\n",
       "      <td>[]</td>\n",
       "      <td>CWE-unknown</td>\n",
       "      <td>extern void platform_timer_start(uint16_t slots);</td>\n",
       "      <td>-</td>\n",
       "      <td>error</td>\n",
       "      <td>CppCheck</td>\n",
       "      <td>-</td>\n",
       "      <td>/Users/guru/research/projects/ARMmbed</td>\n",
       "    </tr>\n",
       "    <tr>\n",
       "      <th>1</th>\n",
       "      <td>-</td>\n",
       "      <td>47</td>\n",
       "      <td>['0']</td>\n",
       "      <td>-</td>\n",
       "      <td>-</td>\n",
       "      <td>-</td>\n",
       "      <td>preprocessorErrorDirective</td>\n",
       "      <td>No header in #include</td>\n",
       "      <td>[]</td>\n",
       "      <td>CWE-unknown</td>\n",
       "      <td>extern void platform_timer_start(uint16_t slots);</td>\n",
       "      <td>-</td>\n",
       "      <td>error</td>\n",
       "      <td>CppCheck</td>\n",
       "      <td>-</td>\n",
       "      <td>/Users/guru/research/projects/ARMmbed</td>\n",
       "    </tr>\n",
       "    <tr>\n",
       "      <th>2</th>\n",
       "      <td>-</td>\n",
       "      <td>159</td>\n",
       "      <td>['17', '15', '59', '11', '135']</td>\n",
       "      <td>-</td>\n",
       "      <td>-</td>\n",
       "      <td>-</td>\n",
       "      <td>ctunullpointer</td>\n",
       "      <td>Null pointer dereference: req_list_ptr</td>\n",
       "      <td>['Dereferencing argument req_list_ptr that is ...</td>\n",
       "      <td>CWE-476</td>\n",
       "      <td>memcpy(ptr, req_list_ptr, req_list_len);</td>\n",
       "      <td>-</td>\n",
       "      <td>error</td>\n",
       "      <td>CppCheck</td>\n",
       "      <td>-</td>\n",
       "      <td>/Users/guru/research/projects/ARMmbed</td>\n",
       "    </tr>\n",
       "    <tr>\n",
       "      <th>3</th>\n",
       "      <td>-</td>\n",
       "      <td>173</td>\n",
       "      <td>['17', '15', '59', '11', '135']</td>\n",
       "      <td>-</td>\n",
       "      <td>-</td>\n",
       "      <td>-</td>\n",
       "      <td>ctunullpointer</td>\n",
       "      <td>Null pointer dereference: req_list_ptr</td>\n",
       "      <td>['Dereferencing argument req_list_ptr that is ...</td>\n",
       "      <td>CWE-476</td>\n",
       "      <td>ptr = thread_lowpower_tlv_write_link_metrics_q...</td>\n",
       "      <td>-</td>\n",
       "      <td>error</td>\n",
       "      <td>CppCheck</td>\n",
       "      <td>-</td>\n",
       "      <td>/Users/guru/research/projects/ARMmbed</td>\n",
       "    </tr>\n",
       "    <tr>\n",
       "      <th>4</th>\n",
       "      <td>-</td>\n",
       "      <td>337</td>\n",
       "      <td>['17', '15', '59', '11', '135']</td>\n",
       "      <td>-</td>\n",
       "      <td>-</td>\n",
       "      <td>-</td>\n",
       "      <td>ctunullpointer</td>\n",
       "      <td>Null pointer dereference: req_list_ptr</td>\n",
       "      <td>['Dereferencing argument req_list_ptr that is ...</td>\n",
       "      <td>CWE-476</td>\n",
       "      <td>ptr = thread_lowpower_tlv_write_link_metrics_q...</td>\n",
       "      <td>-</td>\n",
       "      <td>error</td>\n",
       "      <td>CppCheck</td>\n",
       "      <td>-</td>\n",
       "      <td>/Users/guru/research/projects/ARMmbed</td>\n",
       "    </tr>\n",
       "    <tr>\n",
       "      <th>...</th>\n",
       "      <td>...</td>\n",
       "      <td>...</td>\n",
       "      <td>...</td>\n",
       "      <td>...</td>\n",
       "      <td>...</td>\n",
       "      <td>...</td>\n",
       "      <td>...</td>\n",
       "      <td>...</td>\n",
       "      <td>...</td>\n",
       "      <td>...</td>\n",
       "      <td>...</td>\n",
       "      <td>...</td>\n",
       "      <td>...</td>\n",
       "      <td>...</td>\n",
       "      <td>...</td>\n",
       "      <td>...</td>\n",
       "    </tr>\n",
       "    <tr>\n",
       "      <th>67</th>\n",
       "      <td>-</td>\n",
       "      <td>34</td>\n",
       "      <td>['42', '10']</td>\n",
       "      <td>-</td>\n",
       "      <td>-</td>\n",
       "      <td>-</td>\n",
       "      <td>ctuuninitvar</td>\n",
       "      <td>Using argument width_size that points at unini...</td>\n",
       "      <td>['Using argument width_size', 'Calling functio...</td>\n",
       "      <td>CWE-457</td>\n",
       "      <td>int* dim[] = {batch_size, height_size, width_s...</td>\n",
       "      <td>-</td>\n",
       "      <td>error</td>\n",
       "      <td>CppCheck</td>\n",
       "      <td>-</td>\n",
       "      <td>/Users/guru/research/projects/tensorflow</td>\n",
       "    </tr>\n",
       "    <tr>\n",
       "      <th>68</th>\n",
       "      <td>-</td>\n",
       "      <td>34</td>\n",
       "      <td>['54', '10']</td>\n",
       "      <td>-</td>\n",
       "      <td>-</td>\n",
       "      <td>-</td>\n",
       "      <td>ctuuninitvar</td>\n",
       "      <td>Using argument depth_size that points at unini...</td>\n",
       "      <td>['Using argument depth_size', 'Calling functio...</td>\n",
       "      <td>CWE-457</td>\n",
       "      <td>int* dim[] = {batch_size, height_size, width_s...</td>\n",
       "      <td>-</td>\n",
       "      <td>error</td>\n",
       "      <td>CppCheck</td>\n",
       "      <td>-</td>\n",
       "      <td>/Users/guru/research/projects/tensorflow</td>\n",
       "    </tr>\n",
       "    <tr>\n",
       "      <th>69</th>\n",
       "      <td>-</td>\n",
       "      <td>124</td>\n",
       "      <td>['7', '27', '24', '68']</td>\n",
       "      <td>-</td>\n",
       "      <td>-</td>\n",
       "      <td>-</td>\n",
       "      <td>ctunullpointer</td>\n",
       "      <td>Null pointer dereference: local_client</td>\n",
       "      <td>['Dereferencing argument local_client that is ...</td>\n",
       "      <td>CWE-476</td>\n",
       "      <td>BuildExecutable(local_client, result, options));</td>\n",
       "      <td>-</td>\n",
       "      <td>error</td>\n",
       "      <td>CppCheck</td>\n",
       "      <td>-</td>\n",
       "      <td>/Users/guru/research/projects/tensorflow</td>\n",
       "    </tr>\n",
       "    <tr>\n",
       "      <th>70</th>\n",
       "      <td>-</td>\n",
       "      <td>314</td>\n",
       "      <td>['7', '27', '24', '68']</td>\n",
       "      <td>-</td>\n",
       "      <td>-</td>\n",
       "      <td>-</td>\n",
       "      <td>ctunullpointer</td>\n",
       "      <td>Null pointer dereference: local_client</td>\n",
       "      <td>['Dereferencing argument local_client that is ...</td>\n",
       "      <td>CWE-476</td>\n",
       "      <td>return BuildHLOString(stage, result, local_cli...</td>\n",
       "      <td>-</td>\n",
       "      <td>error</td>\n",
       "      <td>CppCheck</td>\n",
       "      <td>-</td>\n",
       "      <td>/Users/guru/research/projects/tensorflow</td>\n",
       "    </tr>\n",
       "    <tr>\n",
       "      <th>71</th>\n",
       "      <td>-</td>\n",
       "      <td>126</td>\n",
       "      <td>['0']</td>\n",
       "      <td>-</td>\n",
       "      <td>-</td>\n",
       "      <td>-</td>\n",
       "      <td>preprocessorErrorDirective</td>\n",
       "      <td>Failed to parse #define</td>\n",
       "      <td>[]</td>\n",
       "      <td>CWE-unknown</td>\n",
       "      <td>extern unsigned long GPIOIntTypeGet(unsigned l...</td>\n",
       "      <td>-</td>\n",
       "      <td>error</td>\n",
       "      <td>CppCheck</td>\n",
       "      <td>-</td>\n",
       "      <td>/Users/guru/research/projects/CycloneTCP</td>\n",
       "    </tr>\n",
       "  </tbody>\n",
       "</table>\n",
       "<p>72 rows × 16 columns</p>\n",
       "</div>"
      ],
      "text/plain": [
       "   file line                           column defaultlevel level category  \\\n",
       "0     -   47                            ['0']            -     -        -   \n",
       "1     -   47                            ['0']            -     -        -   \n",
       "2     -  159  ['17', '15', '59', '11', '135']            -     -        -   \n",
       "3     -  173  ['17', '15', '59', '11', '135']            -     -        -   \n",
       "4     -  337  ['17', '15', '59', '11', '135']            -     -        -   \n",
       "..  ...  ...                              ...          ...   ...      ...   \n",
       "67    -   34                     ['42', '10']            -     -        -   \n",
       "68    -   34                     ['54', '10']            -     -        -   \n",
       "69    -  124          ['7', '27', '24', '68']            -     -        -   \n",
       "70    -  314          ['7', '27', '24', '68']            -     -        -   \n",
       "71    -  126                            ['0']            -     -        -   \n",
       "\n",
       "                          name  \\\n",
       "0   preprocessorErrorDirective   \n",
       "1   preprocessorErrorDirective   \n",
       "2               ctunullpointer   \n",
       "3               ctunullpointer   \n",
       "4               ctunullpointer   \n",
       "..                         ...   \n",
       "67                ctuuninitvar   \n",
       "68                ctuuninitvar   \n",
       "69              ctunullpointer   \n",
       "70              ctunullpointer   \n",
       "71  preprocessorErrorDirective   \n",
       "\n",
       "                                                  msg  \\\n",
       "0                               No header in #include   \n",
       "1                               No header in #include   \n",
       "2              Null pointer dereference: req_list_ptr   \n",
       "3              Null pointer dereference: req_list_ptr   \n",
       "4              Null pointer dereference: req_list_ptr   \n",
       "..                                                ...   \n",
       "67  Using argument width_size that points at unini...   \n",
       "68  Using argument depth_size that points at unini...   \n",
       "69             Null pointer dereference: local_client   \n",
       "70             Null pointer dereference: local_client   \n",
       "71                            Failed to parse #define   \n",
       "\n",
       "                                                 note          cwe  \\\n",
       "0                                                  []  CWE-unknown   \n",
       "1                                                  []  CWE-unknown   \n",
       "2   ['Dereferencing argument req_list_ptr that is ...      CWE-476   \n",
       "3   ['Dereferencing argument req_list_ptr that is ...      CWE-476   \n",
       "4   ['Dereferencing argument req_list_ptr that is ...      CWE-476   \n",
       "..                                                ...          ...   \n",
       "67  ['Using argument width_size', 'Calling functio...      CWE-457   \n",
       "68  ['Using argument depth_size', 'Calling functio...      CWE-457   \n",
       "69  ['Dereferencing argument local_client that is ...      CWE-476   \n",
       "70  ['Dereferencing argument local_client that is ...      CWE-476   \n",
       "71                                                 []  CWE-unknown   \n",
       "\n",
       "                                              context helpuri severity  \\\n",
       "0   extern void platform_timer_start(uint16_t slots);       -    error   \n",
       "1   extern void platform_timer_start(uint16_t slots);       -    error   \n",
       "2            memcpy(ptr, req_list_ptr, req_list_len);       -    error   \n",
       "3   ptr = thread_lowpower_tlv_write_link_metrics_q...       -    error   \n",
       "4   ptr = thread_lowpower_tlv_write_link_metrics_q...       -    error   \n",
       "..                                                ...     ...      ...   \n",
       "67  int* dim[] = {batch_size, height_size, width_s...       -    error   \n",
       "68  int* dim[] = {batch_size, height_size, width_s...       -    error   \n",
       "69   BuildExecutable(local_client, result, options));       -    error   \n",
       "70  return BuildHLOString(stage, result, local_cli...       -    error   \n",
       "71  extern unsigned long GPIOIntTypeGet(unsigned l...       -    error   \n",
       "\n",
       "        tool type                                   project  \n",
       "0   CppCheck    -     /Users/guru/research/projects/ARMmbed  \n",
       "1   CppCheck    -     /Users/guru/research/projects/ARMmbed  \n",
       "2   CppCheck    -     /Users/guru/research/projects/ARMmbed  \n",
       "3   CppCheck    -     /Users/guru/research/projects/ARMmbed  \n",
       "4   CppCheck    -     /Users/guru/research/projects/ARMmbed  \n",
       "..       ...  ...                                       ...  \n",
       "67  CppCheck    -  /Users/guru/research/projects/tensorflow  \n",
       "68  CppCheck    -  /Users/guru/research/projects/tensorflow  \n",
       "69  CppCheck    -  /Users/guru/research/projects/tensorflow  \n",
       "70  CppCheck    -  /Users/guru/research/projects/tensorflow  \n",
       "71  CppCheck    -  /Users/guru/research/projects/CycloneTCP  \n",
       "\n",
       "[72 rows x 16 columns]"
      ]
     },
     "execution_count": 180,
     "metadata": {},
     "output_type": "execute_result"
    }
   ],
   "source": [
    "dfs[dfs.file.str.len()<5].reset_index(drop=True)"
   ]
  },
  {
   "cell_type": "code",
   "execution_count": 4,
   "metadata": {},
   "outputs": [],
   "source": [
    "from pathlib import Path\n",
    "\n",
    "file = 'data1/testV3.db'\n",
    "\n",
    "Path(file).parent.mkdir(parents=True, exist_ok=True)\n"
   ]
  },
  {
   "cell_type": "code",
   "execution_count": 2,
   "metadata": {},
   "outputs": [
    {
     "name": "stderr",
     "output_type": "stream",
     "text": [
      "Traceback (most recent call last):\n",
      "  File \"<string>\", line 1, in <module>\n",
      "  File \"/Users/guru/miniconda/envs/iotCode/lib/python3.8/multiprocessing/spawn.py\", line 116, in spawn_main\n",
      "    exitcode = _main(fd, parent_sentinel)\n",
      "  File \"/Users/guru/miniconda/envs/iotCode/lib/python3.8/multiprocessing/spawn.py\", line 126, in _main\n",
      "    self = reduction.pickle.load(from_parent)\n",
      "AttributeError: Can't get attribute 'code_block' on <module '__main__' (built-in)>\n"
     ]
    }
   ],
   "source": [
    "\n"
   ]
  }
 ],
 "metadata": {
  "kernelspec": {
   "display_name": "vulcode",
   "language": "python",
   "name": "python3"
  },
  "language_info": {
   "codemirror_mode": {
    "name": "ipython",
    "version": 3
   },
   "file_extension": ".py",
   "mimetype": "text/x-python",
   "name": "python",
   "nbconvert_exporter": "python",
   "pygments_lexer": "ipython3",
   "version": "3.8.0"
  },
  "orig_nbformat": 4,
  "vscode": {
   "interpreter": {
    "hash": "770d70f40277e0fadd6bc1f7a5fecfd799eee3cbb57c500ccfb48eb07fd2c1ce"
   }
  }
 },
 "nbformat": 4,
 "nbformat_minor": 2
}
